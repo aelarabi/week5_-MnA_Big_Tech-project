{
 "cells": [
  {
   "cell_type": "code",
   "execution_count": 1,
   "id": "885e7289",
   "metadata": {},
   "outputs": [],
   "source": [
    "import pandas as pd\n",
    "import seaborn as sns\n",
    "import matplotlib.pyplot as plt\n",
    "%matplotlib inline\n",
    "import numpy as np\n",
    "import time\n",
    "from datetime import date\n",
    "from datetime import datetime\n",
    "from datetime import timedelta"
   ]
  },
  {
   "cell_type": "code",
   "execution_count": 2,
   "id": "d8255695",
   "metadata": {},
   "outputs": [],
   "source": [
    "#from sklearn.linear_model import LogisticRegression\n",
    "from sklearn.linear_model import LinearRegression\n",
    "from sklearn import linear_model\n",
    "from sklearn.metrics import mean_squared_error, r2_score\n",
    "from sklearn.preprocessing import MinMaxScaler \n",
    "from sklearn.neighbors import KNeighborsRegressor\n",
    "from sklearn.preprocessing import OneHotEncoder\n",
    "from sklearn.preprocessing import StandardScaler\n",
    "from sklearn.model_selection import train_test_split\n",
    "from sklearn.metrics import accuracy_score, precision_score, recall_score, f1_score, cohen_kappa_score\n",
    "from sklearn.metrics import confusion_matrix, ConfusionMatrixDisplay\n",
    "from sklearn.metrics import mean_squared_error, r2_score\n",
    "from sklearn.utils import resample\n",
    "from scipy import stats as st\n",
    "from scipy.stats import chi2_contingency\n",
    "from sklearn.preprocessing import PowerTransformer\n",
    "from sklearn.neural_network import MLPRegressor\n",
    "from sklearn.datasets import make_regression"
   ]
  },
  {
   "cell_type": "markdown",
   "id": "6278bceb",
   "metadata": {},
   "source": [
    "# Project : \n",
    "# Mergers and Acquisitions EDA - focus Tech companies "
   ]
  },
  {
   "cell_type": "markdown",
   "id": "923977d5",
   "metadata": {},
   "source": [
    "## Business Questions:"
   ]
  },
  {
   "cell_type": "markdown",
   "id": "36508ccf",
   "metadata": {},
   "source": [
    "### 1) what is the total number of acquistions year on year. did the acquisition rate increase over years:"
   ]
  },
  {
   "cell_type": "markdown",
   "id": "18808812",
   "metadata": {},
   "source": [
    "### 2) Parent company ranking by number of acquisitions and total deal value year on year"
   ]
  },
  {
   "cell_type": "markdown",
   "id": "53e62553",
   "metadata": {},
   "source": [
    "### 3) What is the pattern of acquistion over the years ( in which businesses is MnA concentrated):"
   ]
  },
  {
   "cell_type": "markdown",
   "id": "88305838",
   "metadata": {},
   "source": [
    "### 4) Countries with the highest acquisition rate year on year ranking and total value"
   ]
  },
  {
   "cell_type": "code",
   "execution_count": null,
   "id": "cbcd9d1b",
   "metadata": {},
   "outputs": [],
   "source": []
  },
  {
   "cell_type": "markdown",
   "id": "3a08e4c0",
   "metadata": {},
   "source": [
    "load 2 data setsf for comparison and choice of better data quality:"
   ]
  },
  {
   "cell_type": "code",
   "execution_count": 3,
   "id": "40d08735",
   "metadata": {
    "scrolled": true
   },
   "outputs": [
    {
     "data": {
      "text/html": [
       "<div>\n",
       "<style scoped>\n",
       "    .dataframe tbody tr th:only-of-type {\n",
       "        vertical-align: middle;\n",
       "    }\n",
       "\n",
       "    .dataframe tbody tr th {\n",
       "        vertical-align: top;\n",
       "    }\n",
       "\n",
       "    .dataframe thead th {\n",
       "        text-align: right;\n",
       "    }\n",
       "</style>\n",
       "<table border=\"1\" class=\"dataframe\">\n",
       "  <thead>\n",
       "    <tr style=\"text-align: right;\">\n",
       "      <th></th>\n",
       "      <th>AcquisitionID</th>\n",
       "      <th>AcquisitionMonth</th>\n",
       "      <th>AcquisitionMonthDate</th>\n",
       "      <th>AcquisitionYear</th>\n",
       "      <th>Company</th>\n",
       "      <th>Business</th>\n",
       "      <th>Country</th>\n",
       "      <th>Value (USD)</th>\n",
       "      <th>Derived products</th>\n",
       "      <th>ParentCompany</th>\n",
       "    </tr>\n",
       "  </thead>\n",
       "  <tbody>\n",
       "    <tr>\n",
       "      <th>0</th>\n",
       "      <td>ACQ99</td>\n",
       "      <td>November</td>\n",
       "      <td>11.0</td>\n",
       "      <td>2015</td>\n",
       "      <td>bebop</td>\n",
       "      <td>Cloud software</td>\n",
       "      <td>USA</td>\n",
       "      <td>380000000.0</td>\n",
       "      <td>Google Cloud Platform</td>\n",
       "      <td>Google</td>\n",
       "    </tr>\n",
       "    <tr>\n",
       "      <th>1</th>\n",
       "      <td>ACQ98</td>\n",
       "      <td>November</td>\n",
       "      <td>11.0</td>\n",
       "      <td>2015</td>\n",
       "      <td>Fly Labs</td>\n",
       "      <td>Video editing</td>\n",
       "      <td>USA</td>\n",
       "      <td>NaN</td>\n",
       "      <td>Google Photos</td>\n",
       "      <td>Google</td>\n",
       "    </tr>\n",
       "    <tr>\n",
       "      <th>2</th>\n",
       "      <td>ACQ97</td>\n",
       "      <td>December</td>\n",
       "      <td>8.0</td>\n",
       "      <td>2015</td>\n",
       "      <td>Clearleap</td>\n",
       "      <td>Cloud-based video management</td>\n",
       "      <td>USA</td>\n",
       "      <td>NaN</td>\n",
       "      <td>NaN</td>\n",
       "      <td>IBM</td>\n",
       "    </tr>\n",
       "    <tr>\n",
       "      <th>3</th>\n",
       "      <td>ACQ96</td>\n",
       "      <td>December</td>\n",
       "      <td>18.0</td>\n",
       "      <td>2015</td>\n",
       "      <td>Metanautix</td>\n",
       "      <td>Big Data Analytics</td>\n",
       "      <td>USA</td>\n",
       "      <td>NaN</td>\n",
       "      <td>NaN</td>\n",
       "      <td>Microsoft</td>\n",
       "    </tr>\n",
       "    <tr>\n",
       "      <th>4</th>\n",
       "      <td>ACQ95</td>\n",
       "      <td>December</td>\n",
       "      <td>21.0</td>\n",
       "      <td>2015</td>\n",
       "      <td>Talko, Inc.</td>\n",
       "      <td>Mobile communications</td>\n",
       "      <td>USA</td>\n",
       "      <td>NaN</td>\n",
       "      <td>NaN</td>\n",
       "      <td>Microsoft</td>\n",
       "    </tr>\n",
       "  </tbody>\n",
       "</table>\n",
       "</div>"
      ],
      "text/plain": [
       "  AcquisitionID AcquisitionMonth  AcquisitionMonthDate  AcquisitionYear  \\\n",
       "0         ACQ99         November                  11.0             2015   \n",
       "1         ACQ98         November                  11.0             2015   \n",
       "2         ACQ97         December                   8.0             2015   \n",
       "3         ACQ96         December                  18.0             2015   \n",
       "4         ACQ95         December                  21.0             2015   \n",
       "\n",
       "       Company                      Business Country  Value (USD)  \\\n",
       "0        bebop                Cloud software     USA  380000000.0   \n",
       "1     Fly Labs                 Video editing     USA          NaN   \n",
       "2    Clearleap  Cloud-based video management     USA          NaN   \n",
       "3   Metanautix            Big Data Analytics     USA          NaN   \n",
       "4  Talko, Inc.         Mobile communications     USA          NaN   \n",
       "\n",
       "        Derived products ParentCompany  \n",
       "0  Google Cloud Platform        Google  \n",
       "1          Google Photos        Google  \n",
       "2                    NaN           IBM  \n",
       "3                    NaN     Microsoft  \n",
       "4                    NaN     Microsoft  "
      ]
     },
     "execution_count": 3,
     "metadata": {},
     "output_type": "execute_result"
    }
   ],
   "source": [
    "data= pd.read_csv('acquisitions.csv')\n",
    "data.head()"
   ]
  },
  {
   "cell_type": "code",
   "execution_count": 4,
   "id": "09df9074",
   "metadata": {},
   "outputs": [
    {
     "data": {
      "text/plain": [
       "AcquisitionID             0\n",
       "AcquisitionMonth          6\n",
       "AcquisitionMonthDate     33\n",
       "AcquisitionYear           0\n",
       "Company                   0\n",
       "Business                  0\n",
       "Country                  46\n",
       "Value (USD)             671\n",
       "Derived products        515\n",
       "ParentCompany             0\n",
       "dtype: int64"
      ]
     },
     "execution_count": 4,
     "metadata": {},
     "output_type": "execute_result"
    }
   ],
   "source": [
    "data.isna().sum()"
   ]
  },
  {
   "cell_type": "code",
   "execution_count": 5,
   "id": "5fb0ba1b",
   "metadata": {},
   "outputs": [
    {
     "data": {
      "text/plain": [
       "(916, 114)"
      ]
     },
     "execution_count": 5,
     "metadata": {},
     "output_type": "execute_result"
    }
   ],
   "source": [
    "len(data), len(data.dropna())"
   ]
  },
  {
   "cell_type": "markdown",
   "id": "0fc4e0d1",
   "metadata": {},
   "source": [
    "In percentage:"
   ]
  },
  {
   "cell_type": "code",
   "execution_count": 6,
   "id": "43e948e2",
   "metadata": {},
   "outputs": [
    {
     "data": {
      "text/plain": [
       "AcquisitionID            0.000000\n",
       "AcquisitionMonth         0.655022\n",
       "AcquisitionMonthDate     3.602620\n",
       "AcquisitionYear          0.000000\n",
       "Company                  0.000000\n",
       "Business                 0.000000\n",
       "Country                  5.021834\n",
       "Value (USD)             73.253275\n",
       "Derived products        56.222707\n",
       "ParentCompany            0.000000\n",
       "dtype: float64"
      ]
     },
     "execution_count": 6,
     "metadata": {},
     "output_type": "execute_result"
    }
   ],
   "source": [
    "((data.isna().sum())/len(data))*100"
   ]
  },
  {
   "cell_type": "code",
   "execution_count": null,
   "id": "38c06f5e",
   "metadata": {},
   "outputs": [],
   "source": []
  },
  {
   "cell_type": "code",
   "execution_count": 7,
   "id": "1041c455",
   "metadata": {},
   "outputs": [
    {
     "data": {
      "text/html": [
       "<div>\n",
       "<style scoped>\n",
       "    .dataframe tbody tr th:only-of-type {\n",
       "        vertical-align: middle;\n",
       "    }\n",
       "\n",
       "    .dataframe tbody tr th {\n",
       "        vertical-align: top;\n",
       "    }\n",
       "\n",
       "    .dataframe thead th {\n",
       "        text-align: right;\n",
       "    }\n",
       "</style>\n",
       "<table border=\"1\" class=\"dataframe\">\n",
       "  <thead>\n",
       "    <tr style=\"text-align: right;\">\n",
       "      <th></th>\n",
       "      <th>ID</th>\n",
       "      <th>Parent Company</th>\n",
       "      <th>Acquisition Year</th>\n",
       "      <th>Acquisition Month</th>\n",
       "      <th>Acquired Company</th>\n",
       "      <th>Business</th>\n",
       "      <th>Country</th>\n",
       "      <th>Acquisition Price</th>\n",
       "      <th>Category</th>\n",
       "      <th>Derived Products</th>\n",
       "    </tr>\n",
       "  </thead>\n",
       "  <tbody>\n",
       "    <tr>\n",
       "      <th>0</th>\n",
       "      <td>1</td>\n",
       "      <td>Apple</td>\n",
       "      <td>1988</td>\n",
       "      <td>Mar</td>\n",
       "      <td>Network Innovations</td>\n",
       "      <td>Software</td>\n",
       "      <td>-</td>\n",
       "      <td>-</td>\n",
       "      <td>-</td>\n",
       "      <td>-</td>\n",
       "    </tr>\n",
       "    <tr>\n",
       "      <th>1</th>\n",
       "      <td>2</td>\n",
       "      <td>Apple</td>\n",
       "      <td>1988</td>\n",
       "      <td>Jun</td>\n",
       "      <td>Orion Network Systems</td>\n",
       "      <td>Computer Software</td>\n",
       "      <td>-</td>\n",
       "      <td>-</td>\n",
       "      <td>-</td>\n",
       "      <td>-</td>\n",
       "    </tr>\n",
       "    <tr>\n",
       "      <th>2</th>\n",
       "      <td>3</td>\n",
       "      <td>Apple</td>\n",
       "      <td>1988</td>\n",
       "      <td>Jun</td>\n",
       "      <td>Styleware</td>\n",
       "      <td>Computer software</td>\n",
       "      <td>-</td>\n",
       "      <td>-</td>\n",
       "      <td>-</td>\n",
       "      <td>-</td>\n",
       "    </tr>\n",
       "    <tr>\n",
       "      <th>3</th>\n",
       "      <td>4</td>\n",
       "      <td>Apple</td>\n",
       "      <td>1988</td>\n",
       "      <td>Jul</td>\n",
       "      <td>Nashoba Systems</td>\n",
       "      <td>Computer software</td>\n",
       "      <td>-</td>\n",
       "      <td>-</td>\n",
       "      <td>-</td>\n",
       "      <td>-</td>\n",
       "    </tr>\n",
       "    <tr>\n",
       "      <th>4</th>\n",
       "      <td>5</td>\n",
       "      <td>Apple</td>\n",
       "      <td>1989</td>\n",
       "      <td>Jan</td>\n",
       "      <td>Coral Software</td>\n",
       "      <td>Computer software</td>\n",
       "      <td>-</td>\n",
       "      <td>-</td>\n",
       "      <td>-</td>\n",
       "      <td>-</td>\n",
       "    </tr>\n",
       "  </tbody>\n",
       "</table>\n",
       "</div>"
      ],
      "text/plain": [
       "   ID Parent Company Acquisition Year Acquisition Month  \\\n",
       "0   1          Apple             1988               Mar   \n",
       "1   2          Apple             1988               Jun   \n",
       "2   3          Apple             1988               Jun   \n",
       "3   4          Apple             1988               Jul   \n",
       "4   5          Apple             1989               Jan   \n",
       "\n",
       "        Acquired Company           Business Country Acquisition Price  \\\n",
       "0    Network Innovations           Software       -                 -   \n",
       "1  Orion Network Systems  Computer Software       -                 -   \n",
       "2              Styleware  Computer software       -                 -   \n",
       "3        Nashoba Systems  Computer software       -                 -   \n",
       "4         Coral Software  Computer software       -                 -   \n",
       "\n",
       "  Category Derived Products  \n",
       "0        -                -  \n",
       "1        -                -  \n",
       "2        -                -  \n",
       "3        -                -  \n",
       "4        -                -  "
      ]
     },
     "execution_count": 7,
     "metadata": {},
     "output_type": "execute_result"
    }
   ],
   "source": [
    "data1= pd.read_excel('acquisitions_update_2021-trial.xlsx')\n",
    "data1.head()"
   ]
  },
  {
   "cell_type": "code",
   "execution_count": 8,
   "id": "b5782aaa",
   "metadata": {
    "scrolled": true
   },
   "outputs": [
    {
     "data": {
      "text/plain": [
       "(1455, 1455)"
      ]
     },
     "execution_count": 8,
     "metadata": {},
     "output_type": "execute_result"
    }
   ],
   "source": [
    "len(data1), len(data1.dropna())"
   ]
  },
  {
   "cell_type": "markdown",
   "id": "edafd41a",
   "metadata": {},
   "source": [
    "Although data1 ( the updated data file has more rows, it also has no null values. it has a lot of '-'values in updated file. these values are first changed to null values and then the data quality is checked accordingly. "
   ]
  },
  {
   "cell_type": "code",
   "execution_count": 9,
   "id": "d4c7fd57",
   "metadata": {},
   "outputs": [],
   "source": [
    "data1=data1.replace('-',np.NaN)"
   ]
  },
  {
   "cell_type": "code",
   "execution_count": 10,
   "id": "676f36b1",
   "metadata": {
    "scrolled": true
   },
   "outputs": [
    {
     "data": {
      "text/plain": [
       "ID                      0\n",
       "Parent Company          0\n",
       "Acquisition Year       28\n",
       "Acquisition Month      58\n",
       "Acquired Company        0\n",
       "Business              274\n",
       "Country              1114\n",
       "Acquisition Price     945\n",
       "Category             1445\n",
       "Derived Products     1052\n",
       "dtype: int64"
      ]
     },
     "execution_count": 10,
     "metadata": {},
     "output_type": "execute_result"
    }
   ],
   "source": [
    "(data1.isna().sum())"
   ]
  },
  {
   "cell_type": "markdown",
   "id": "1b302ffe",
   "metadata": {},
   "source": [
    "In percentage:"
   ]
  },
  {
   "cell_type": "code",
   "execution_count": 11,
   "id": "b9df3f97",
   "metadata": {},
   "outputs": [
    {
     "data": {
      "text/plain": [
       "ID                    0.000000\n",
       "Parent Company        0.000000\n",
       "Acquisition Year      1.924399\n",
       "Acquisition Month     3.986254\n",
       "Acquired Company      0.000000\n",
       "Business             18.831615\n",
       "Country              76.563574\n",
       "Acquisition Price    64.948454\n",
       "Category             99.312715\n",
       "Derived Products     72.302405\n",
       "dtype: float64"
      ]
     },
     "execution_count": 11,
     "metadata": {},
     "output_type": "execute_result"
    }
   ],
   "source": [
    "((data1.isna().sum())/len(data1))*100"
   ]
  },
  {
   "cell_type": "code",
   "execution_count": 12,
   "id": "35a92d92",
   "metadata": {},
   "outputs": [
    {
     "data": {
      "text/plain": [
       "(1455, 0)"
      ]
     },
     "execution_count": 12,
     "metadata": {},
     "output_type": "execute_result"
    }
   ],
   "source": [
    "len(data1), len(data1.dropna())"
   ]
  },
  {
   "cell_type": "markdown",
   "id": "ddaa3089",
   "metadata": {},
   "source": [
    "Given the business questions to be answered, comparing both data sets, the first dataset \"data\" is the preferred choice for the EDA. should there by excess time, data1 can be revisited to extract further inofrmation to further populate  acquistion price"
   ]
  },
  {
   "cell_type": "code",
   "execution_count": 13,
   "id": "3935dffa",
   "metadata": {},
   "outputs": [],
   "source": [
    "#data1.loc[1]['Parent Company']"
   ]
  },
  {
   "cell_type": "code",
   "execution_count": 14,
   "id": "ea505e11",
   "metadata": {},
   "outputs": [],
   "source": [
    "#data1['Acquired Company']+'-'+data1['Acquired Company']"
   ]
  },
  {
   "cell_type": "code",
   "execution_count": 15,
   "id": "d221c8eb",
   "metadata": {},
   "outputs": [],
   "source": [
    "data1['parent-acquired'] = data1['Parent Company']+'-'+data1['Acquired Company']"
   ]
  },
  {
   "cell_type": "code",
   "execution_count": 16,
   "id": "e4d611b9",
   "metadata": {},
   "outputs": [
    {
     "data": {
      "text/html": [
       "<div>\n",
       "<style scoped>\n",
       "    .dataframe tbody tr th:only-of-type {\n",
       "        vertical-align: middle;\n",
       "    }\n",
       "\n",
       "    .dataframe tbody tr th {\n",
       "        vertical-align: top;\n",
       "    }\n",
       "\n",
       "    .dataframe thead th {\n",
       "        text-align: right;\n",
       "    }\n",
       "</style>\n",
       "<table border=\"1\" class=\"dataframe\">\n",
       "  <thead>\n",
       "    <tr style=\"text-align: right;\">\n",
       "      <th></th>\n",
       "      <th>ID</th>\n",
       "      <th>Parent Company</th>\n",
       "      <th>Acquisition Year</th>\n",
       "      <th>Acquisition Month</th>\n",
       "      <th>Acquired Company</th>\n",
       "      <th>Business</th>\n",
       "      <th>Country</th>\n",
       "      <th>Acquisition Price</th>\n",
       "      <th>Category</th>\n",
       "      <th>Derived Products</th>\n",
       "      <th>parent-acquired</th>\n",
       "    </tr>\n",
       "  </thead>\n",
       "  <tbody>\n",
       "    <tr>\n",
       "      <th>0</th>\n",
       "      <td>1</td>\n",
       "      <td>Apple</td>\n",
       "      <td>1988.0</td>\n",
       "      <td>Mar</td>\n",
       "      <td>Network Innovations</td>\n",
       "      <td>Software</td>\n",
       "      <td>NaN</td>\n",
       "      <td>NaN</td>\n",
       "      <td>NaN</td>\n",
       "      <td>NaN</td>\n",
       "      <td>Apple-Network Innovations</td>\n",
       "    </tr>\n",
       "    <tr>\n",
       "      <th>1</th>\n",
       "      <td>2</td>\n",
       "      <td>Apple</td>\n",
       "      <td>1988.0</td>\n",
       "      <td>Jun</td>\n",
       "      <td>Orion Network Systems</td>\n",
       "      <td>Computer Software</td>\n",
       "      <td>NaN</td>\n",
       "      <td>NaN</td>\n",
       "      <td>NaN</td>\n",
       "      <td>NaN</td>\n",
       "      <td>Apple-Orion Network Systems</td>\n",
       "    </tr>\n",
       "    <tr>\n",
       "      <th>2</th>\n",
       "      <td>3</td>\n",
       "      <td>Apple</td>\n",
       "      <td>1988.0</td>\n",
       "      <td>Jun</td>\n",
       "      <td>Styleware</td>\n",
       "      <td>Computer software</td>\n",
       "      <td>NaN</td>\n",
       "      <td>NaN</td>\n",
       "      <td>NaN</td>\n",
       "      <td>NaN</td>\n",
       "      <td>Apple-Styleware</td>\n",
       "    </tr>\n",
       "    <tr>\n",
       "      <th>3</th>\n",
       "      <td>4</td>\n",
       "      <td>Apple</td>\n",
       "      <td>1988.0</td>\n",
       "      <td>Jul</td>\n",
       "      <td>Nashoba Systems</td>\n",
       "      <td>Computer software</td>\n",
       "      <td>NaN</td>\n",
       "      <td>NaN</td>\n",
       "      <td>NaN</td>\n",
       "      <td>NaN</td>\n",
       "      <td>Apple-Nashoba Systems</td>\n",
       "    </tr>\n",
       "    <tr>\n",
       "      <th>4</th>\n",
       "      <td>5</td>\n",
       "      <td>Apple</td>\n",
       "      <td>1989.0</td>\n",
       "      <td>Jan</td>\n",
       "      <td>Coral Software</td>\n",
       "      <td>Computer software</td>\n",
       "      <td>NaN</td>\n",
       "      <td>NaN</td>\n",
       "      <td>NaN</td>\n",
       "      <td>NaN</td>\n",
       "      <td>Apple-Coral Software</td>\n",
       "    </tr>\n",
       "  </tbody>\n",
       "</table>\n",
       "</div>"
      ],
      "text/plain": [
       "   ID Parent Company  Acquisition Year Acquisition Month  \\\n",
       "0   1          Apple            1988.0               Mar   \n",
       "1   2          Apple            1988.0               Jun   \n",
       "2   3          Apple            1988.0               Jun   \n",
       "3   4          Apple            1988.0               Jul   \n",
       "4   5          Apple            1989.0               Jan   \n",
       "\n",
       "        Acquired Company           Business Country Acquisition Price  \\\n",
       "0    Network Innovations           Software     NaN               NaN   \n",
       "1  Orion Network Systems  Computer Software     NaN               NaN   \n",
       "2              Styleware  Computer software     NaN               NaN   \n",
       "3        Nashoba Systems  Computer software     NaN               NaN   \n",
       "4         Coral Software  Computer software     NaN               NaN   \n",
       "\n",
       "  Category Derived Products              parent-acquired  \n",
       "0      NaN              NaN    Apple-Network Innovations  \n",
       "1      NaN              NaN  Apple-Orion Network Systems  \n",
       "2      NaN              NaN              Apple-Styleware  \n",
       "3      NaN              NaN        Apple-Nashoba Systems  \n",
       "4      NaN              NaN         Apple-Coral Software  "
      ]
     },
     "execution_count": 16,
     "metadata": {},
     "output_type": "execute_result"
    }
   ],
   "source": [
    "data1.head()"
   ]
  },
  {
   "cell_type": "code",
   "execution_count": 17,
   "id": "b4fb2864",
   "metadata": {},
   "outputs": [],
   "source": [
    "data['parent-acquired']= data['ParentCompany']+'-'+data['Company']"
   ]
  },
  {
   "cell_type": "code",
   "execution_count": 18,
   "id": "cf411670",
   "metadata": {},
   "outputs": [
    {
     "data": {
      "text/html": [
       "<div>\n",
       "<style scoped>\n",
       "    .dataframe tbody tr th:only-of-type {\n",
       "        vertical-align: middle;\n",
       "    }\n",
       "\n",
       "    .dataframe tbody tr th {\n",
       "        vertical-align: top;\n",
       "    }\n",
       "\n",
       "    .dataframe thead th {\n",
       "        text-align: right;\n",
       "    }\n",
       "</style>\n",
       "<table border=\"1\" class=\"dataframe\">\n",
       "  <thead>\n",
       "    <tr style=\"text-align: right;\">\n",
       "      <th></th>\n",
       "      <th>AcquisitionID</th>\n",
       "      <th>AcquisitionMonth</th>\n",
       "      <th>AcquisitionMonthDate</th>\n",
       "      <th>AcquisitionYear</th>\n",
       "      <th>Company</th>\n",
       "      <th>Business</th>\n",
       "      <th>Country</th>\n",
       "      <th>Value (USD)</th>\n",
       "      <th>Derived products</th>\n",
       "      <th>ParentCompany</th>\n",
       "      <th>parent-acquired</th>\n",
       "    </tr>\n",
       "  </thead>\n",
       "  <tbody>\n",
       "    <tr>\n",
       "      <th>0</th>\n",
       "      <td>ACQ99</td>\n",
       "      <td>November</td>\n",
       "      <td>11.0</td>\n",
       "      <td>2015</td>\n",
       "      <td>bebop</td>\n",
       "      <td>Cloud software</td>\n",
       "      <td>USA</td>\n",
       "      <td>380000000.0</td>\n",
       "      <td>Google Cloud Platform</td>\n",
       "      <td>Google</td>\n",
       "      <td>Google-bebop</td>\n",
       "    </tr>\n",
       "    <tr>\n",
       "      <th>1</th>\n",
       "      <td>ACQ98</td>\n",
       "      <td>November</td>\n",
       "      <td>11.0</td>\n",
       "      <td>2015</td>\n",
       "      <td>Fly Labs</td>\n",
       "      <td>Video editing</td>\n",
       "      <td>USA</td>\n",
       "      <td>NaN</td>\n",
       "      <td>Google Photos</td>\n",
       "      <td>Google</td>\n",
       "      <td>Google-Fly Labs</td>\n",
       "    </tr>\n",
       "    <tr>\n",
       "      <th>2</th>\n",
       "      <td>ACQ97</td>\n",
       "      <td>December</td>\n",
       "      <td>8.0</td>\n",
       "      <td>2015</td>\n",
       "      <td>Clearleap</td>\n",
       "      <td>Cloud-based video management</td>\n",
       "      <td>USA</td>\n",
       "      <td>NaN</td>\n",
       "      <td>NaN</td>\n",
       "      <td>IBM</td>\n",
       "      <td>IBM-Clearleap</td>\n",
       "    </tr>\n",
       "    <tr>\n",
       "      <th>3</th>\n",
       "      <td>ACQ96</td>\n",
       "      <td>December</td>\n",
       "      <td>18.0</td>\n",
       "      <td>2015</td>\n",
       "      <td>Metanautix</td>\n",
       "      <td>Big Data Analytics</td>\n",
       "      <td>USA</td>\n",
       "      <td>NaN</td>\n",
       "      <td>NaN</td>\n",
       "      <td>Microsoft</td>\n",
       "      <td>Microsoft-Metanautix</td>\n",
       "    </tr>\n",
       "    <tr>\n",
       "      <th>4</th>\n",
       "      <td>ACQ95</td>\n",
       "      <td>December</td>\n",
       "      <td>21.0</td>\n",
       "      <td>2015</td>\n",
       "      <td>Talko, Inc.</td>\n",
       "      <td>Mobile communications</td>\n",
       "      <td>USA</td>\n",
       "      <td>NaN</td>\n",
       "      <td>NaN</td>\n",
       "      <td>Microsoft</td>\n",
       "      <td>Microsoft-Talko, Inc.</td>\n",
       "    </tr>\n",
       "  </tbody>\n",
       "</table>\n",
       "</div>"
      ],
      "text/plain": [
       "  AcquisitionID AcquisitionMonth  AcquisitionMonthDate  AcquisitionYear  \\\n",
       "0         ACQ99         November                  11.0             2015   \n",
       "1         ACQ98         November                  11.0             2015   \n",
       "2         ACQ97         December                   8.0             2015   \n",
       "3         ACQ96         December                  18.0             2015   \n",
       "4         ACQ95         December                  21.0             2015   \n",
       "\n",
       "       Company                      Business Country  Value (USD)  \\\n",
       "0        bebop                Cloud software     USA  380000000.0   \n",
       "1     Fly Labs                 Video editing     USA          NaN   \n",
       "2    Clearleap  Cloud-based video management     USA          NaN   \n",
       "3   Metanautix            Big Data Analytics     USA          NaN   \n",
       "4  Talko, Inc.         Mobile communications     USA          NaN   \n",
       "\n",
       "        Derived products ParentCompany        parent-acquired  \n",
       "0  Google Cloud Platform        Google           Google-bebop  \n",
       "1          Google Photos        Google        Google-Fly Labs  \n",
       "2                    NaN           IBM          IBM-Clearleap  \n",
       "3                    NaN     Microsoft   Microsoft-Metanautix  \n",
       "4                    NaN     Microsoft  Microsoft-Talko, Inc.  "
      ]
     },
     "execution_count": 18,
     "metadata": {},
     "output_type": "execute_result"
    }
   ],
   "source": [
    "data.head()"
   ]
  },
  {
   "cell_type": "code",
   "execution_count": 19,
   "id": "419ad3ff",
   "metadata": {},
   "outputs": [],
   "source": [
    "data_data1merge = pd.merge(left = data,\n",
    "                                  right = data1,\n",
    "                                  how = 'left', \n",
    "                                  left_on = \"parent-acquired\", \n",
    "                                  right_on= \"parent-acquired\")"
   ]
  },
  {
   "cell_type": "code",
   "execution_count": 20,
   "id": "19fe5ce9",
   "metadata": {},
   "outputs": [
    {
     "data": {
      "text/plain": [
       "AcquisitionID             0\n",
       "AcquisitionMonth          6\n",
       "AcquisitionMonthDate     33\n",
       "AcquisitionYear           0\n",
       "Company                   0\n",
       "Business_x                0\n",
       "Country_x                46\n",
       "Value (USD)             671\n",
       "Derived products        515\n",
       "ParentCompany             0\n",
       "parent-acquired           0\n",
       "ID                      307\n",
       "Parent Company          307\n",
       "Acquisition Year        307\n",
       "Acquisition Month       312\n",
       "Acquired Company        307\n",
       "Business_y              374\n",
       "Country_y               835\n",
       "Acquisition Price       726\n",
       "Category                907\n",
       "Derived Products        705\n",
       "dtype: int64"
      ]
     },
     "execution_count": 20,
     "metadata": {},
     "output_type": "execute_result"
    }
   ],
   "source": [
    "data_data1merge.isna().sum()"
   ]
  },
  {
   "cell_type": "code",
   "execution_count": 21,
   "id": "9b2bbb9b",
   "metadata": {},
   "outputs": [],
   "source": [
    "data_data1merge=data_data1merge.replace('-',np.NaN)"
   ]
  },
  {
   "cell_type": "code",
   "execution_count": null,
   "id": "dbf4400a",
   "metadata": {},
   "outputs": [],
   "source": []
  },
  {
   "cell_type": "code",
   "execution_count": 22,
   "id": "e1cd2f7f",
   "metadata": {},
   "outputs": [
    {
     "data": {
      "text/html": [
       "<div>\n",
       "<style scoped>\n",
       "    .dataframe tbody tr th:only-of-type {\n",
       "        vertical-align: middle;\n",
       "    }\n",
       "\n",
       "    .dataframe tbody tr th {\n",
       "        vertical-align: top;\n",
       "    }\n",
       "\n",
       "    .dataframe thead th {\n",
       "        text-align: right;\n",
       "    }\n",
       "</style>\n",
       "<table border=\"1\" class=\"dataframe\">\n",
       "  <thead>\n",
       "    <tr style=\"text-align: right;\">\n",
       "      <th></th>\n",
       "      <th>acquisitionid</th>\n",
       "      <th>acquisitionmonth</th>\n",
       "      <th>acquisitionmonthdate</th>\n",
       "      <th>acquisitionyear</th>\n",
       "      <th>company</th>\n",
       "      <th>business_x</th>\n",
       "      <th>country_x</th>\n",
       "      <th>value_(usd)</th>\n",
       "      <th>derived_products</th>\n",
       "      <th>parentcompany</th>\n",
       "      <th>...</th>\n",
       "      <th>id</th>\n",
       "      <th>parent_company</th>\n",
       "      <th>acquisition_year</th>\n",
       "      <th>acquisition_month</th>\n",
       "      <th>acquired_company</th>\n",
       "      <th>business_y</th>\n",
       "      <th>country_y</th>\n",
       "      <th>acquisition_price</th>\n",
       "      <th>category</th>\n",
       "      <th>derived_products</th>\n",
       "    </tr>\n",
       "  </thead>\n",
       "  <tbody>\n",
       "    <tr>\n",
       "      <th>0</th>\n",
       "      <td>ACQ99</td>\n",
       "      <td>November</td>\n",
       "      <td>11.0</td>\n",
       "      <td>2015</td>\n",
       "      <td>bebop</td>\n",
       "      <td>Cloud software</td>\n",
       "      <td>USA</td>\n",
       "      <td>380000000.0</td>\n",
       "      <td>Google Cloud Platform</td>\n",
       "      <td>Google</td>\n",
       "      <td>...</td>\n",
       "      <td>611.0</td>\n",
       "      <td>Google</td>\n",
       "      <td>2015.0</td>\n",
       "      <td>Nov</td>\n",
       "      <td>bebop</td>\n",
       "      <td>Cloud software</td>\n",
       "      <td>NaN</td>\n",
       "      <td>380000000</td>\n",
       "      <td>NaN</td>\n",
       "      <td>Google Cloud Platform</td>\n",
       "    </tr>\n",
       "    <tr>\n",
       "      <th>1</th>\n",
       "      <td>ACQ98</td>\n",
       "      <td>November</td>\n",
       "      <td>11.0</td>\n",
       "      <td>2015</td>\n",
       "      <td>Fly Labs</td>\n",
       "      <td>Video editing</td>\n",
       "      <td>USA</td>\n",
       "      <td>NaN</td>\n",
       "      <td>Google Photos</td>\n",
       "      <td>Google</td>\n",
       "      <td>...</td>\n",
       "      <td>610.0</td>\n",
       "      <td>Google</td>\n",
       "      <td>2015.0</td>\n",
       "      <td>Nov</td>\n",
       "      <td>Fly Labs</td>\n",
       "      <td>Video editing</td>\n",
       "      <td>NaN</td>\n",
       "      <td>NaN</td>\n",
       "      <td>NaN</td>\n",
       "      <td>Google Photos</td>\n",
       "    </tr>\n",
       "    <tr>\n",
       "      <th>2</th>\n",
       "      <td>ACQ97</td>\n",
       "      <td>December</td>\n",
       "      <td>8.0</td>\n",
       "      <td>2015</td>\n",
       "      <td>Clearleap</td>\n",
       "      <td>Cloud-based video management</td>\n",
       "      <td>USA</td>\n",
       "      <td>NaN</td>\n",
       "      <td>NaN</td>\n",
       "      <td>IBM</td>\n",
       "      <td>...</td>\n",
       "      <td>NaN</td>\n",
       "      <td>NaN</td>\n",
       "      <td>NaN</td>\n",
       "      <td>NaN</td>\n",
       "      <td>NaN</td>\n",
       "      <td>NaN</td>\n",
       "      <td>NaN</td>\n",
       "      <td>NaN</td>\n",
       "      <td>NaN</td>\n",
       "      <td>NaN</td>\n",
       "    </tr>\n",
       "    <tr>\n",
       "      <th>3</th>\n",
       "      <td>ACQ96</td>\n",
       "      <td>December</td>\n",
       "      <td>18.0</td>\n",
       "      <td>2015</td>\n",
       "      <td>Metanautix</td>\n",
       "      <td>Big Data Analytics</td>\n",
       "      <td>USA</td>\n",
       "      <td>NaN</td>\n",
       "      <td>NaN</td>\n",
       "      <td>Microsoft</td>\n",
       "      <td>...</td>\n",
       "      <td>863.0</td>\n",
       "      <td>Microsoft</td>\n",
       "      <td>2015.0</td>\n",
       "      <td>Dec</td>\n",
       "      <td>Metanautix</td>\n",
       "      <td>Big data analytics</td>\n",
       "      <td>NaN</td>\n",
       "      <td>NaN</td>\n",
       "      <td>NaN</td>\n",
       "      <td>NaN</td>\n",
       "    </tr>\n",
       "    <tr>\n",
       "      <th>4</th>\n",
       "      <td>ACQ95</td>\n",
       "      <td>December</td>\n",
       "      <td>21.0</td>\n",
       "      <td>2015</td>\n",
       "      <td>Talko, Inc.</td>\n",
       "      <td>Mobile communications</td>\n",
       "      <td>USA</td>\n",
       "      <td>NaN</td>\n",
       "      <td>NaN</td>\n",
       "      <td>Microsoft</td>\n",
       "      <td>...</td>\n",
       "      <td>864.0</td>\n",
       "      <td>Microsoft</td>\n",
       "      <td>2015.0</td>\n",
       "      <td>Dec</td>\n",
       "      <td>Talko, Inc.</td>\n",
       "      <td>Mobile communications</td>\n",
       "      <td>NaN</td>\n",
       "      <td>NaN</td>\n",
       "      <td>NaN</td>\n",
       "      <td>NaN</td>\n",
       "    </tr>\n",
       "  </tbody>\n",
       "</table>\n",
       "<p>5 rows × 21 columns</p>\n",
       "</div>"
      ],
      "text/plain": [
       "  acquisitionid acquisitionmonth  acquisitionmonthdate  acquisitionyear  \\\n",
       "0         ACQ99         November                  11.0             2015   \n",
       "1         ACQ98         November                  11.0             2015   \n",
       "2         ACQ97         December                   8.0             2015   \n",
       "3         ACQ96         December                  18.0             2015   \n",
       "4         ACQ95         December                  21.0             2015   \n",
       "\n",
       "       company                    business_x country_x  value_(usd)  \\\n",
       "0        bebop                Cloud software       USA  380000000.0   \n",
       "1     Fly Labs                 Video editing       USA          NaN   \n",
       "2    Clearleap  Cloud-based video management       USA          NaN   \n",
       "3   Metanautix            Big Data Analytics       USA          NaN   \n",
       "4  Talko, Inc.         Mobile communications       USA          NaN   \n",
       "\n",
       "        derived_products parentcompany  ...     id  parent_company  \\\n",
       "0  Google Cloud Platform        Google  ...  611.0          Google   \n",
       "1          Google Photos        Google  ...  610.0          Google   \n",
       "2                    NaN           IBM  ...    NaN             NaN   \n",
       "3                    NaN     Microsoft  ...  863.0       Microsoft   \n",
       "4                    NaN     Microsoft  ...  864.0       Microsoft   \n",
       "\n",
       "  acquisition_year  acquisition_month acquired_company             business_y  \\\n",
       "0           2015.0                Nov            bebop         Cloud software   \n",
       "1           2015.0                Nov         Fly Labs          Video editing   \n",
       "2              NaN                NaN              NaN                    NaN   \n",
       "3           2015.0                Dec       Metanautix     Big data analytics   \n",
       "4           2015.0                Dec      Talko, Inc.  Mobile communications   \n",
       "\n",
       "  country_y acquisition_price category       derived_products  \n",
       "0       NaN         380000000      NaN  Google Cloud Platform  \n",
       "1       NaN               NaN      NaN          Google Photos  \n",
       "2       NaN               NaN      NaN                    NaN  \n",
       "3       NaN               NaN      NaN                    NaN  \n",
       "4       NaN               NaN      NaN                    NaN  \n",
       "\n",
       "[5 rows x 21 columns]"
      ]
     },
     "metadata": {},
     "output_type": "display_data"
    }
   ],
   "source": [
    "new_cols = []\n",
    "def column_names(df):\n",
    "    for i in df.columns:\n",
    "        x = i.lower().replace(' ','_')\n",
    "        new_cols.append(x)\n",
    "    df.columns = new_cols\n",
    "    display(df.head())\n",
    "    \n",
    "column_names(data_data1merge)"
   ]
  },
  {
   "cell_type": "markdown",
   "id": "b83f50a1",
   "metadata": {},
   "source": []
  },
  {
   "cell_type": "code",
   "execution_count": 23,
   "id": "14ffc124",
   "metadata": {},
   "outputs": [
    {
     "name": "stdout",
     "output_type": "stream",
     "text": [
      "<class 'pandas.core.frame.DataFrame'>\n",
      "Int64Index: 916 entries, 0 to 915\n",
      "Data columns (total 21 columns):\n",
      " #   Column                Non-Null Count  Dtype  \n",
      "---  ------                --------------  -----  \n",
      " 0   acquisitionid         916 non-null    object \n",
      " 1   acquisitionmonth      910 non-null    object \n",
      " 2   acquisitionmonthdate  883 non-null    float64\n",
      " 3   acquisitionyear       916 non-null    int64  \n",
      " 4   company               916 non-null    object \n",
      " 5   business_x            916 non-null    object \n",
      " 6   country_x             870 non-null    object \n",
      " 7   value_(usd)           245 non-null    float64\n",
      " 8   derived_products      401 non-null    object \n",
      " 9   parentcompany         916 non-null    object \n",
      " 10  parent-acquired       916 non-null    object \n",
      " 11  id                    609 non-null    float64\n",
      " 12  parent_company        609 non-null    object \n",
      " 13  acquisition_year      609 non-null    float64\n",
      " 14  acquisition_month     604 non-null    object \n",
      " 15  acquired_company      609 non-null    object \n",
      " 16  business_y            542 non-null    object \n",
      " 17  country_y             81 non-null     object \n",
      " 18  acquisition_price     190 non-null    object \n",
      " 19  category              9 non-null      object \n",
      " 20  derived_products      211 non-null    object \n",
      "dtypes: float64(4), int64(1), object(16)\n",
      "memory usage: 157.4+ KB\n"
     ]
    }
   ],
   "source": [
    "data_data1merge.info()"
   ]
  },
  {
   "cell_type": "code",
   "execution_count": 24,
   "id": "dbe5fff2",
   "metadata": {},
   "outputs": [],
   "source": [
    "data_data1merge['acquisition_price']=pd.to_numeric(data_data1merge['acquisition_price'], errors='coerce')"
   ]
  },
  {
   "cell_type": "code",
   "execution_count": 25,
   "id": "0dba5bc5",
   "metadata": {},
   "outputs": [
    {
     "data": {
      "text/plain": [
       "7"
      ]
     },
     "execution_count": 25,
     "metadata": {},
     "output_type": "execute_result"
    }
   ],
   "source": [
    "list(data_data1merge.columns).index('value_(usd)')"
   ]
  },
  {
   "cell_type": "code",
   "execution_count": 26,
   "id": "54ac4bb6",
   "metadata": {},
   "outputs": [
    {
     "data": {
      "text/plain": [
       "18"
      ]
     },
     "execution_count": 26,
     "metadata": {},
     "output_type": "execute_result"
    }
   ],
   "source": [
    "list(data_data1merge.columns).index('acquisition_price')"
   ]
  },
  {
   "cell_type": "code",
   "execution_count": 27,
   "id": "700e18a3",
   "metadata": {},
   "outputs": [],
   "source": [
    "na_in_value_indexes=list(data_data1merge[data_data1merge['value_(usd)'].isna()==True].index)"
   ]
  },
  {
   "cell_type": "code",
   "execution_count": 28,
   "id": "109b21f0",
   "metadata": {},
   "outputs": [],
   "source": [
    "data_data1merge.iloc[na_in_value_indexes,7]=data_data1merge.iloc[na_in_value_indexes,18]\n"
   ]
  },
  {
   "cell_type": "code",
   "execution_count": 29,
   "id": "9f6fa3f6",
   "metadata": {},
   "outputs": [
    {
     "data": {
      "text/plain": [
       "6"
      ]
     },
     "execution_count": 29,
     "metadata": {},
     "output_type": "execute_result"
    }
   ],
   "source": [
    "list (data_data1merge.columns).index('country_x')"
   ]
  },
  {
   "cell_type": "code",
   "execution_count": 30,
   "id": "6e66a79e",
   "metadata": {},
   "outputs": [
    {
     "data": {
      "text/plain": [
       "17"
      ]
     },
     "execution_count": 30,
     "metadata": {},
     "output_type": "execute_result"
    }
   ],
   "source": [
    "list(data_data1merge.columns).index('country_y')"
   ]
  },
  {
   "cell_type": "code",
   "execution_count": 31,
   "id": "b71dac23",
   "metadata": {},
   "outputs": [],
   "source": [
    "na_in_country_indexes=list(data_data1merge[data_data1merge['country_x'].isna()==True].index)"
   ]
  },
  {
   "cell_type": "code",
   "execution_count": 32,
   "id": "7b6e2b44",
   "metadata": {},
   "outputs": [],
   "source": [
    "data_data1merge.iloc[na_in_country_indexes,6]=data_data1merge.iloc[na_in_country_indexes,17]"
   ]
  },
  {
   "cell_type": "code",
   "execution_count": 33,
   "id": "06db873c",
   "metadata": {},
   "outputs": [
    {
     "name": "stdout",
     "output_type": "stream",
     "text": [
      "<class 'pandas.core.frame.DataFrame'>\n",
      "Int64Index: 916 entries, 0 to 915\n",
      "Data columns (total 21 columns):\n",
      " #   Column                Non-Null Count  Dtype  \n",
      "---  ------                --------------  -----  \n",
      " 0   acquisitionid         916 non-null    object \n",
      " 1   acquisitionmonth      910 non-null    object \n",
      " 2   acquisitionmonthdate  883 non-null    float64\n",
      " 3   acquisitionyear       916 non-null    int64  \n",
      " 4   company               916 non-null    object \n",
      " 5   business_x            916 non-null    object \n",
      " 6   country_x             875 non-null    object \n",
      " 7   value_(usd)           256 non-null    float64\n",
      " 8   derived_products      401 non-null    object \n",
      " 9   parentcompany         916 non-null    object \n",
      " 10  parent-acquired       916 non-null    object \n",
      " 11  id                    609 non-null    float64\n",
      " 12  parent_company        609 non-null    object \n",
      " 13  acquisition_year      609 non-null    float64\n",
      " 14  acquisition_month     604 non-null    object \n",
      " 15  acquired_company      609 non-null    object \n",
      " 16  business_y            542 non-null    object \n",
      " 17  country_y             81 non-null     object \n",
      " 18  acquisition_price     157 non-null    float64\n",
      " 19  category              9 non-null      object \n",
      " 20  derived_products      211 non-null    object \n",
      "dtypes: float64(5), int64(1), object(15)\n",
      "memory usage: 157.4+ KB\n"
     ]
    }
   ],
   "source": [
    "data_data1merge.info()"
   ]
  },
  {
   "cell_type": "code",
   "execution_count": 34,
   "id": "bd4532c0",
   "metadata": {},
   "outputs": [
    {
     "data": {
      "text/plain": [
       "'derived_products'"
      ]
     },
     "execution_count": 34,
     "metadata": {},
     "output_type": "execute_result"
    }
   ],
   "source": [
    "list (data_data1merge.columns)[8]"
   ]
  },
  {
   "cell_type": "markdown",
   "id": "3084de5b",
   "metadata": {},
   "source": [
    "na_in_derived_products_indexes=list(data_data1merge[data_data1merge[(data_data1merge.columns)[8]].isna()==True].index)\n",
    "\n",
    "2 columns with the name derived_products resulting in failure to index NaN value. plan: splice rename and concatenate back. "
   ]
  },
  {
   "cell_type": "code",
   "execution_count": 35,
   "id": "d3055524",
   "metadata": {},
   "outputs": [
    {
     "data": {
      "text/plain": [
       "(916, 21)"
      ]
     },
     "execution_count": 35,
     "metadata": {},
     "output_type": "execute_result"
    }
   ],
   "source": [
    "data_data1merge.shape"
   ]
  },
  {
   "cell_type": "code",
   "execution_count": 36,
   "id": "03edcb7e",
   "metadata": {},
   "outputs": [],
   "source": [
    "data1=data_data1merge.iloc[ : , :-1]"
   ]
  },
  {
   "cell_type": "code",
   "execution_count": 37,
   "id": "d7594a1f",
   "metadata": {},
   "outputs": [
    {
     "data": {
      "text/plain": [
       "(916, 20)"
      ]
     },
     "execution_count": 37,
     "metadata": {},
     "output_type": "execute_result"
    }
   ],
   "source": [
    "data1.shape"
   ]
  },
  {
   "cell_type": "code",
   "execution_count": 38,
   "id": "f48f6a2a",
   "metadata": {},
   "outputs": [],
   "source": [
    "derived_product=data_data1merge.iloc[ : ,20]"
   ]
  },
  {
   "cell_type": "code",
   "execution_count": 39,
   "id": "33976156",
   "metadata": {},
   "outputs": [
    {
     "data": {
      "text/html": [
       "<div>\n",
       "<style scoped>\n",
       "    .dataframe tbody tr th:only-of-type {\n",
       "        vertical-align: middle;\n",
       "    }\n",
       "\n",
       "    .dataframe tbody tr th {\n",
       "        vertical-align: top;\n",
       "    }\n",
       "\n",
       "    .dataframe thead th {\n",
       "        text-align: right;\n",
       "    }\n",
       "</style>\n",
       "<table border=\"1\" class=\"dataframe\">\n",
       "  <thead>\n",
       "    <tr style=\"text-align: right;\">\n",
       "      <th></th>\n",
       "      <th>derived_products_y</th>\n",
       "    </tr>\n",
       "  </thead>\n",
       "  <tbody>\n",
       "    <tr>\n",
       "      <th>0</th>\n",
       "      <td>Google Cloud Platform</td>\n",
       "    </tr>\n",
       "    <tr>\n",
       "      <th>1</th>\n",
       "      <td>Google Photos</td>\n",
       "    </tr>\n",
       "    <tr>\n",
       "      <th>2</th>\n",
       "      <td>NaN</td>\n",
       "    </tr>\n",
       "    <tr>\n",
       "      <th>3</th>\n",
       "      <td>NaN</td>\n",
       "    </tr>\n",
       "    <tr>\n",
       "      <th>4</th>\n",
       "      <td>NaN</td>\n",
       "    </tr>\n",
       "    <tr>\n",
       "      <th>...</th>\n",
       "      <td>...</td>\n",
       "    </tr>\n",
       "    <tr>\n",
       "      <th>911</th>\n",
       "      <td>NaN</td>\n",
       "    </tr>\n",
       "    <tr>\n",
       "      <th>912</th>\n",
       "      <td>NaN</td>\n",
       "    </tr>\n",
       "    <tr>\n",
       "      <th>913</th>\n",
       "      <td>Google Play Music, Google Podcasts</td>\n",
       "    </tr>\n",
       "    <tr>\n",
       "      <th>914</th>\n",
       "      <td>NaN</td>\n",
       "    </tr>\n",
       "    <tr>\n",
       "      <th>915</th>\n",
       "      <td>NaN</td>\n",
       "    </tr>\n",
       "  </tbody>\n",
       "</table>\n",
       "<p>916 rows × 1 columns</p>\n",
       "</div>"
      ],
      "text/plain": [
       "                     derived_products_y\n",
       "0                 Google Cloud Platform\n",
       "1                         Google Photos\n",
       "2                                   NaN\n",
       "3                                   NaN\n",
       "4                                   NaN\n",
       "..                                  ...\n",
       "911                                 NaN\n",
       "912                                 NaN\n",
       "913  Google Play Music, Google Podcasts\n",
       "914                                 NaN\n",
       "915                                 NaN\n",
       "\n",
       "[916 rows x 1 columns]"
      ]
     },
     "execution_count": 39,
     "metadata": {},
     "output_type": "execute_result"
    }
   ],
   "source": [
    "derived_products=pd.DataFrame(derived_product)\n",
    "derived_products=derived_products.rename(columns={'derived_products':'derived_products_y'})\n",
    "derived_products"
   ]
  },
  {
   "cell_type": "code",
   "execution_count": 40,
   "id": "711f010b",
   "metadata": {},
   "outputs": [
    {
     "data": {
      "text/plain": [
       "pandas.core.frame.DataFrame"
      ]
     },
     "execution_count": 40,
     "metadata": {},
     "output_type": "execute_result"
    }
   ],
   "source": [
    "type(derived_products)"
   ]
  },
  {
   "cell_type": "code",
   "execution_count": 41,
   "id": "516d4b1c",
   "metadata": {},
   "outputs": [
    {
     "name": "stdout",
     "output_type": "stream",
     "text": [
      "<class 'pandas.core.frame.DataFrame'>\n",
      "Int64Index: 916 entries, 0 to 915\n",
      "Data columns (total 21 columns):\n",
      " #   Column                Non-Null Count  Dtype  \n",
      "---  ------                --------------  -----  \n",
      " 0   acquisitionid         916 non-null    object \n",
      " 1   acquisitionmonth      910 non-null    object \n",
      " 2   acquisitionmonthdate  883 non-null    float64\n",
      " 3   acquisitionyear       916 non-null    int64  \n",
      " 4   company               916 non-null    object \n",
      " 5   business_x            916 non-null    object \n",
      " 6   country_x             875 non-null    object \n",
      " 7   value_(usd)           256 non-null    float64\n",
      " 8   derived_products      401 non-null    object \n",
      " 9   parentcompany         916 non-null    object \n",
      " 10  parent-acquired       916 non-null    object \n",
      " 11  id                    609 non-null    float64\n",
      " 12  parent_company        609 non-null    object \n",
      " 13  acquisition_year      609 non-null    float64\n",
      " 14  acquisition_month     604 non-null    object \n",
      " 15  acquired_company      609 non-null    object \n",
      " 16  business_y            542 non-null    object \n",
      " 17  country_y             81 non-null     object \n",
      " 18  acquisition_price     157 non-null    float64\n",
      " 19  category              9 non-null      object \n",
      " 20  derived_products_y    211 non-null    object \n",
      "dtypes: float64(5), int64(1), object(15)\n",
      "memory usage: 157.4+ KB\n"
     ]
    }
   ],
   "source": [
    "data_data1merge=pd.concat([data1,derived_products], axis=1)\n",
    "data_data1merge.info()"
   ]
  },
  {
   "cell_type": "code",
   "execution_count": 42,
   "id": "85503b4b",
   "metadata": {},
   "outputs": [],
   "source": [
    "na_in_derivedproducts_indexes=list(data_data1merge[data_data1merge['derived_products'].isna()==True].index)"
   ]
  },
  {
   "cell_type": "code",
   "execution_count": 43,
   "id": "7144e092",
   "metadata": {},
   "outputs": [],
   "source": [
    "data_data1merge.iloc[na_in_derivedproducts_indexes,8]=data_data1merge.iloc[na_in_derivedproducts_indexes,20]"
   ]
  },
  {
   "cell_type": "markdown",
   "id": "c8f89f28",
   "metadata": {},
   "source": []
  },
  {
   "cell_type": "code",
   "execution_count": 44,
   "id": "f1e6f350",
   "metadata": {},
   "outputs": [
    {
     "name": "stdout",
     "output_type": "stream",
     "text": [
      "<class 'pandas.core.frame.DataFrame'>\n",
      "Int64Index: 916 entries, 0 to 915\n",
      "Data columns (total 21 columns):\n",
      " #   Column                Non-Null Count  Dtype  \n",
      "---  ------                --------------  -----  \n",
      " 0   acquisitionid         916 non-null    object \n",
      " 1   acquisitionmonth      910 non-null    object \n",
      " 2   acquisitionmonthdate  883 non-null    float64\n",
      " 3   acquisitionyear       916 non-null    int64  \n",
      " 4   company               916 non-null    object \n",
      " 5   business_x            916 non-null    object \n",
      " 6   country_x             875 non-null    object \n",
      " 7   value_(usd)           256 non-null    float64\n",
      " 8   derived_products      402 non-null    object \n",
      " 9   parentcompany         916 non-null    object \n",
      " 10  parent-acquired       916 non-null    object \n",
      " 11  id                    609 non-null    float64\n",
      " 12  parent_company        609 non-null    object \n",
      " 13  acquisition_year      609 non-null    float64\n",
      " 14  acquisition_month     604 non-null    object \n",
      " 15  acquired_company      609 non-null    object \n",
      " 16  business_y            542 non-null    object \n",
      " 17  country_y             81 non-null     object \n",
      " 18  acquisition_price     157 non-null    float64\n",
      " 19  category              9 non-null      object \n",
      " 20  derived_products_y    211 non-null    object \n",
      "dtypes: float64(5), int64(1), object(15)\n",
      "memory usage: 157.4+ KB\n"
     ]
    }
   ],
   "source": [
    "data_data1merge.info()"
   ]
  },
  {
   "cell_type": "code",
   "execution_count": null,
   "id": "093bb17a",
   "metadata": {},
   "outputs": [],
   "source": []
  },
  {
   "cell_type": "code",
   "execution_count": 45,
   "id": "2005bc28",
   "metadata": {},
   "outputs": [],
   "source": [
    "na_in_acquistionmonth_indexes=list(data_data1merge[data_data1merge['acquisitionmonth'].isna()==True].index)\n",
    "data_data1merge.iloc[na_in_acquistionmonth_indexes,1]=data_data1merge.iloc[na_in_acquistionmonth_indexes,14]"
   ]
  },
  {
   "cell_type": "code",
   "execution_count": 46,
   "id": "10a120ec",
   "metadata": {},
   "outputs": [
    {
     "name": "stdout",
     "output_type": "stream",
     "text": [
      "<class 'pandas.core.frame.DataFrame'>\n",
      "Int64Index: 916 entries, 0 to 915\n",
      "Data columns (total 21 columns):\n",
      " #   Column                Non-Null Count  Dtype  \n",
      "---  ------                --------------  -----  \n",
      " 0   acquisitionid         916 non-null    object \n",
      " 1   acquisitionmonth      910 non-null    object \n",
      " 2   acquisitionmonthdate  883 non-null    float64\n",
      " 3   acquisitionyear       916 non-null    int64  \n",
      " 4   company               916 non-null    object \n",
      " 5   business_x            916 non-null    object \n",
      " 6   country_x             875 non-null    object \n",
      " 7   value_(usd)           256 non-null    float64\n",
      " 8   derived_products      402 non-null    object \n",
      " 9   parentcompany         916 non-null    object \n",
      " 10  parent-acquired       916 non-null    object \n",
      " 11  id                    609 non-null    float64\n",
      " 12  parent_company        609 non-null    object \n",
      " 13  acquisition_year      609 non-null    float64\n",
      " 14  acquisition_month     604 non-null    object \n",
      " 15  acquired_company      609 non-null    object \n",
      " 16  business_y            542 non-null    object \n",
      " 17  country_y             81 non-null     object \n",
      " 18  acquisition_price     157 non-null    float64\n",
      " 19  category              9 non-null      object \n",
      " 20  derived_products_y    211 non-null    object \n",
      "dtypes: float64(5), int64(1), object(15)\n",
      "memory usage: 157.4+ KB\n"
     ]
    }
   ],
   "source": [
    "data_data1merge.info()"
   ]
  },
  {
   "cell_type": "markdown",
   "id": "aa66a44d",
   "metadata": {},
   "source": [
    "All useful data from the merge operation has been extracted. It is time to drop off the extra redundant columns, clean and rename the retained colums:"
   ]
  },
  {
   "cell_type": "code",
   "execution_count": 47,
   "id": "e65b7353",
   "metadata": {},
   "outputs": [],
   "source": [
    "dataprecleaning=data_data1merge.iloc[ : , : 11]"
   ]
  },
  {
   "cell_type": "code",
   "execution_count": 48,
   "id": "1045aaa7",
   "metadata": {},
   "outputs": [
    {
     "name": "stdout",
     "output_type": "stream",
     "text": [
      "<class 'pandas.core.frame.DataFrame'>\n",
      "Int64Index: 916 entries, 0 to 915\n",
      "Data columns (total 11 columns):\n",
      " #   Column                Non-Null Count  Dtype  \n",
      "---  ------                --------------  -----  \n",
      " 0   acquisitionid         916 non-null    object \n",
      " 1   acquisitionmonth      910 non-null    object \n",
      " 2   acquisitionmonthdate  883 non-null    float64\n",
      " 3   acquisitionyear       916 non-null    int64  \n",
      " 4   company               916 non-null    object \n",
      " 5   business_x            916 non-null    object \n",
      " 6   country_x             875 non-null    object \n",
      " 7   value_(usd)           256 non-null    float64\n",
      " 8   derived_products      402 non-null    object \n",
      " 9   parentcompany         916 non-null    object \n",
      " 10  parent-acquired       916 non-null    object \n",
      "dtypes: float64(2), int64(1), object(8)\n",
      "memory usage: 85.9+ KB\n"
     ]
    }
   ],
   "source": [
    "dataprecleaning.info()"
   ]
  },
  {
   "cell_type": "code",
   "execution_count": 49,
   "id": "e9464907",
   "metadata": {},
   "outputs": [],
   "source": [
    "dataprecleaning=dataprecleaning.rename(columns={'acquisitionid':'acquisition_id','acquisitionmonth':'acquisition_month',\\\n",
    "                                                'acquisitionmonthdate':'acquisition_monthdate','acquisitionyear':'acquisition_year',\\\n",
    "                                                'company':'acquired_company','business_x':'business','country_x':'country',\\\n",
    "                                                'value_(usd)':'acquistion_price(mil_usd)','parentcompany':'acquiring_company'})"
   ]
  },
  {
   "cell_type": "code",
   "execution_count": 50,
   "id": "f6a60c94",
   "metadata": {},
   "outputs": [],
   "source": [
    "dataprecleaning['country']=dataprecleaning['country'].fillna('other')"
   ]
  },
  {
   "cell_type": "code",
   "execution_count": 51,
   "id": "980faaf6",
   "metadata": {},
   "outputs": [],
   "source": [
    "dataprecleaning['derived_products']=dataprecleaning['derived_products'].fillna('unclear')"
   ]
  },
  {
   "cell_type": "code",
   "execution_count": 52,
   "id": "7acee2b6",
   "metadata": {},
   "outputs": [
    {
     "data": {
      "text/plain": [
       "1.0"
      ]
     },
     "execution_count": 52,
     "metadata": {},
     "output_type": "execute_result"
    }
   ],
   "source": [
    "dataprecleaning['acquisition_monthdate'].mode()[0]"
   ]
  },
  {
   "cell_type": "code",
   "execution_count": 53,
   "id": "826511d1",
   "metadata": {},
   "outputs": [],
   "source": [
    "dataprecleaning['acquisition_monthdate'] = dataprecleaning['acquisition_monthdate'].fillna(dataprecleaning['acquisition_monthdate'].mode()[0])"
   ]
  },
  {
   "cell_type": "code",
   "execution_count": 54,
   "id": "16112ea2",
   "metadata": {},
   "outputs": [
    {
     "data": {
      "text/plain": [
       "0    June\n",
       "Name: acquisition_month, dtype: object"
      ]
     },
     "execution_count": 54,
     "metadata": {},
     "output_type": "execute_result"
    }
   ],
   "source": [
    "dataprecleaning['acquisition_month'].mode()"
   ]
  },
  {
   "cell_type": "code",
   "execution_count": 55,
   "id": "40f39b6a",
   "metadata": {},
   "outputs": [],
   "source": [
    "dataprecleaning['acquisition_month'] = dataprecleaning['acquisition_month'].fillna(dataprecleaning['acquisition_month'].mode()[0])"
   ]
  },
  {
   "cell_type": "code",
   "execution_count": 56,
   "id": "64bf5859",
   "metadata": {},
   "outputs": [],
   "source": [
    "dataprecleaning['acquistion_price(mil_usd)']=(dataprecleaning['acquistion_price(mil_usd)'])/1000000"
   ]
  },
  {
   "cell_type": "code",
   "execution_count": 57,
   "id": "b9ebe6f4",
   "metadata": {
    "scrolled": true
   },
   "outputs": [
    {
     "name": "stdout",
     "output_type": "stream",
     "text": [
      "<class 'pandas.core.frame.DataFrame'>\n",
      "Int64Index: 916 entries, 0 to 915\n",
      "Data columns (total 11 columns):\n",
      " #   Column                     Non-Null Count  Dtype  \n",
      "---  ------                     --------------  -----  \n",
      " 0   acquisition_id             916 non-null    object \n",
      " 1   acquisition_month          916 non-null    object \n",
      " 2   acquisition_monthdate      916 non-null    float64\n",
      " 3   acquisition_year           916 non-null    int64  \n",
      " 4   acquired_company           916 non-null    object \n",
      " 5   business                   916 non-null    object \n",
      " 6   country                    916 non-null    object \n",
      " 7   acquistion_price(mil_usd)  256 non-null    float64\n",
      " 8   derived_products           916 non-null    object \n",
      " 9   acquiring_company          916 non-null    object \n",
      " 10  parent-acquired            916 non-null    object \n",
      "dtypes: float64(2), int64(1), object(8)\n",
      "memory usage: 85.9+ KB\n"
     ]
    }
   ],
   "source": [
    "dataprecleaning.info() "
   ]
  },
  {
   "cell_type": "code",
   "execution_count": 58,
   "id": "1b550a3b",
   "metadata": {},
   "outputs": [
    {
     "data": {
      "text/plain": [
       "array(['Google', 'IBM', 'Microsoft', 'Apple', 'Facebook', 'Yahoo',\n",
       "       'Twitter'], dtype=object)"
      ]
     },
     "execution_count": 58,
     "metadata": {},
     "output_type": "execute_result"
    }
   ],
   "source": [
    "dataprecleaning['acquiring_company'].unique()"
   ]
  },
  {
   "cell_type": "code",
   "execution_count": 59,
   "id": "b2475ce0",
   "metadata": {},
   "outputs": [],
   "source": [
    "data=dataprecleaning.copy()"
   ]
  },
  {
   "cell_type": "markdown",
   "id": "76acf021",
   "metadata": {},
   "source": [
    "### 1) What is the total number of acquistions year on year. did the acquisition rate increase over years"
   ]
  },
  {
   "cell_type": "markdown",
   "id": "ecdb47f6",
   "metadata": {},
   "source": [
    "### Annual Number of acquistions: "
   ]
  },
  {
   "cell_type": "markdown",
   "id": "ddd0c571",
   "metadata": {},
   "source": [
    "Investigating the avaialbe acquisition data for the last year in the date (2018) :"
   ]
  },
  {
   "cell_type": "code",
   "execution_count": 60,
   "id": "f9d4efe5",
   "metadata": {},
   "outputs": [
    {
     "data": {
      "text/html": [
       "<div>\n",
       "<style scoped>\n",
       "    .dataframe tbody tr th:only-of-type {\n",
       "        vertical-align: middle;\n",
       "    }\n",
       "\n",
       "    .dataframe tbody tr th {\n",
       "        vertical-align: top;\n",
       "    }\n",
       "\n",
       "    .dataframe thead th {\n",
       "        text-align: right;\n",
       "    }\n",
       "</style>\n",
       "<table border=\"1\" class=\"dataframe\">\n",
       "  <thead>\n",
       "    <tr style=\"text-align: right;\">\n",
       "      <th></th>\n",
       "      <th>acquisition_id</th>\n",
       "      <th>acquisition_month</th>\n",
       "      <th>acquisition_monthdate</th>\n",
       "      <th>acquisition_year</th>\n",
       "      <th>acquired_company</th>\n",
       "      <th>business</th>\n",
       "      <th>country</th>\n",
       "      <th>acquistion_price(mil_usd)</th>\n",
       "      <th>derived_products</th>\n",
       "      <th>acquiring_company</th>\n",
       "      <th>parent-acquired</th>\n",
       "    </tr>\n",
       "  </thead>\n",
       "  <tbody>\n",
       "    <tr>\n",
       "      <th>359</th>\n",
       "      <td>ACQ6</td>\n",
       "      <td>January</td>\n",
       "      <td>2.0</td>\n",
       "      <td>2018</td>\n",
       "      <td>Buddybuild</td>\n",
       "      <td>Feedback Platform for Development teams</td>\n",
       "      <td>CAN</td>\n",
       "      <td>NaN</td>\n",
       "      <td>Xcode, TestFlight</td>\n",
       "      <td>Apple</td>\n",
       "      <td>Apple-Buddybuild</td>\n",
       "    </tr>\n",
       "    <tr>\n",
       "      <th>470</th>\n",
       "      <td>ACQ5</td>\n",
       "      <td>January</td>\n",
       "      <td>23.0</td>\n",
       "      <td>2018</td>\n",
       "      <td>Confirm</td>\n",
       "      <td>Government Issued ID Verification Platform</td>\n",
       "      <td>USA</td>\n",
       "      <td>NaN</td>\n",
       "      <td>unclear</td>\n",
       "      <td>Facebook</td>\n",
       "      <td>Facebook-Confirm</td>\n",
       "    </tr>\n",
       "    <tr>\n",
       "      <th>581</th>\n",
       "      <td>ACQ4</td>\n",
       "      <td>January</td>\n",
       "      <td>29.0</td>\n",
       "      <td>2018</td>\n",
       "      <td>Playfab</td>\n",
       "      <td>Gaming backend service</td>\n",
       "      <td>USA</td>\n",
       "      <td>NaN</td>\n",
       "      <td>unclear</td>\n",
       "      <td>Microsoft</td>\n",
       "      <td>Microsoft-Playfab</td>\n",
       "    </tr>\n",
       "    <tr>\n",
       "      <th>692</th>\n",
       "      <td>ACQ3</td>\n",
       "      <td>March</td>\n",
       "      <td>12.0</td>\n",
       "      <td>2018</td>\n",
       "      <td>Texture</td>\n",
       "      <td>Digital magazine subscription service</td>\n",
       "      <td>USA</td>\n",
       "      <td>NaN</td>\n",
       "      <td>News</td>\n",
       "      <td>Apple</td>\n",
       "      <td>Apple-Texture</td>\n",
       "    </tr>\n",
       "    <tr>\n",
       "      <th>803</th>\n",
       "      <td>ACQ2</td>\n",
       "      <td>March</td>\n",
       "      <td>27.0</td>\n",
       "      <td>2018</td>\n",
       "      <td>Tenor</td>\n",
       "      <td>GIF image search</td>\n",
       "      <td>USA</td>\n",
       "      <td>NaN</td>\n",
       "      <td>Google Images</td>\n",
       "      <td>Google</td>\n",
       "      <td>Google-Tenor</td>\n",
       "    </tr>\n",
       "    <tr>\n",
       "      <th>914</th>\n",
       "      <td>ACQ1</td>\n",
       "      <td>May</td>\n",
       "      <td>18.0</td>\n",
       "      <td>2018</td>\n",
       "      <td>Semantic Machines</td>\n",
       "      <td>Conversational AI</td>\n",
       "      <td>USA</td>\n",
       "      <td>400.0</td>\n",
       "      <td>unclear</td>\n",
       "      <td>Microsoft</td>\n",
       "      <td>Microsoft-Semantic Machines</td>\n",
       "    </tr>\n",
       "    <tr>\n",
       "      <th>915</th>\n",
       "      <td>AcQ916</td>\n",
       "      <td>June</td>\n",
       "      <td>4.0</td>\n",
       "      <td>2018</td>\n",
       "      <td>Github</td>\n",
       "      <td>Version Control Hosting</td>\n",
       "      <td>USA</td>\n",
       "      <td>7500.0</td>\n",
       "      <td>unclear</td>\n",
       "      <td>Microsoft</td>\n",
       "      <td>Microsoft-Github</td>\n",
       "    </tr>\n",
       "  </tbody>\n",
       "</table>\n",
       "</div>"
      ],
      "text/plain": [
       "    acquisition_id acquisition_month  acquisition_monthdate  acquisition_year  \\\n",
       "359           ACQ6           January                    2.0              2018   \n",
       "470           ACQ5           January                   23.0              2018   \n",
       "581           ACQ4           January                   29.0              2018   \n",
       "692           ACQ3             March                   12.0              2018   \n",
       "803           ACQ2             March                   27.0              2018   \n",
       "914           ACQ1               May                   18.0              2018   \n",
       "915         AcQ916              June                    4.0              2018   \n",
       "\n",
       "      acquired_company                                    business country  \\\n",
       "359         Buddybuild     Feedback Platform for Development teams     CAN   \n",
       "470            Confirm  Government Issued ID Verification Platform     USA   \n",
       "581            Playfab                      Gaming backend service     USA   \n",
       "692            Texture       Digital magazine subscription service     USA   \n",
       "803              Tenor                            GIF image search     USA   \n",
       "914  Semantic Machines                           Conversational AI     USA   \n",
       "915             Github                     Version Control Hosting     USA   \n",
       "\n",
       "     acquistion_price(mil_usd)   derived_products acquiring_company  \\\n",
       "359                        NaN  Xcode, TestFlight             Apple   \n",
       "470                        NaN            unclear          Facebook   \n",
       "581                        NaN            unclear         Microsoft   \n",
       "692                        NaN               News             Apple   \n",
       "803                        NaN      Google Images            Google   \n",
       "914                      400.0            unclear         Microsoft   \n",
       "915                     7500.0            unclear         Microsoft   \n",
       "\n",
       "                 parent-acquired  \n",
       "359             Apple-Buddybuild  \n",
       "470             Facebook-Confirm  \n",
       "581            Microsoft-Playfab  \n",
       "692                Apple-Texture  \n",
       "803                 Google-Tenor  \n",
       "914  Microsoft-Semantic Machines  \n",
       "915             Microsoft-Github  "
      ]
     },
     "execution_count": 60,
     "metadata": {},
     "output_type": "execute_result"
    }
   ],
   "source": [
    "data[data['acquisition_year']==2018]"
   ]
  },
  {
   "cell_type": "markdown",
   "id": "2598d47a",
   "metadata": {},
   "source": [
    "Data runs only until end of Q2 2018. if displayed, it will provided incorrect insight about the state of affairs in 2018 and potential trends as a result. Hence, 2018 data will not be considered for the analysis. "
   ]
  },
  {
   "cell_type": "code",
   "execution_count": 61,
   "id": "d529d2df",
   "metadata": {},
   "outputs": [],
   "source": [
    "data=data[data['acquisition_year']!=2018]"
   ]
  },
  {
   "cell_type": "code",
   "execution_count": 62,
   "id": "aa405fa1",
   "metadata": {},
   "outputs": [
    {
     "data": {
      "image/png": "[encoded data removed]",
      "text/plain": [
       "<Figure size 1440x360 with 1 Axes>"
      ]
     },
     "metadata": {
      "needs_background": "light"
     },
     "output_type": "display_data"
    }
   ],
   "source": [
    "plt.figure(figsize = (20,5))\n",
    "plt.title(\"Annual number of acquistions Year on Year\")\n",
    "sns.countplot(x='acquisition_year',data=data);"
   ]
  },
  {
   "cell_type": "code",
   "execution_count": 63,
   "id": "250ce365",
   "metadata": {},
   "outputs": [
    {
     "data": {
      "image/png": "[encoded data removed]",
      "text/plain": [
       "<Figure size 1440x360 with 1 Axes>"
      ]
     },
     "metadata": {
      "needs_background": "light"
     },
     "output_type": "display_data"
    }
   ],
   "source": [
    "plt.figure(figsize = (20,5))\n",
    "data['acquisition_year'].value_counts(sort = True,ascending=True).plot.bar(grid = True) \n",
    "plt.xlabel(\"acquisition_year\")\n",
    "plt.ylabel(\"number of acquistions\")\n",
    "plt.title(\"Annual number of acquistions sorted in ascending order\")\n",
    "plt.show()"
   ]
  },
  {
   "cell_type": "code",
   "execution_count": 64,
   "id": "42a9b4d9",
   "metadata": {},
   "outputs": [
    {
     "data": {
      "text/plain": [
       "<AxesSubplot:title={'center':'Annual number of acquistions Year on Year'}, xlabel='Acquisition year', ylabel='number of acquisitions'>"
      ]
     },
     "execution_count": 64,
     "metadata": {},
     "output_type": "execute_result"
    },
    {
     "data": {
      "image/png": "[encoded data removed]",
      "text/plain": [
       "<Figure size 1440x360 with 1 Axes>"
      ]
     },
     "metadata": {
      "needs_background": "light"
     },
     "output_type": "display_data"
    }
   ],
   "source": [
    "plt.figure(figsize=(20, 5))\n",
    "sns.set_style(\"ticks\")\n",
    "plt.title(\"Annual number of acquistions Year on Year\", fontsize=30, fontweight=\"bold\")\n",
    "plt.xlabel(\"Acquisition year\", fontsize=25)\n",
    "plt.ylabel(\"number of acquisitions\", fontsize=25)\n",
    "sns.histplot(data=data, x=\"acquisition_year\", kde=True, bins=25)"
   ]
  },
  {
   "cell_type": "markdown",
   "id": "f32c6e03",
   "metadata": {},
   "source": [
    "### 2) Parent company ranking by number of acquisitions and total deal value year on year"
   ]
  },
  {
   "cell_type": "code",
   "execution_count": 65,
   "id": "804fa54b",
   "metadata": {},
   "outputs": [
    {
     "data": {
      "text/html": [
       "<div>\n",
       "<style scoped>\n",
       "    .dataframe tbody tr th:only-of-type {\n",
       "        vertical-align: middle;\n",
       "    }\n",
       "\n",
       "    .dataframe tbody tr th {\n",
       "        vertical-align: top;\n",
       "    }\n",
       "\n",
       "    .dataframe thead th {\n",
       "        text-align: right;\n",
       "    }\n",
       "</style>\n",
       "<table border=\"1\" class=\"dataframe\">\n",
       "  <thead>\n",
       "    <tr style=\"text-align: right;\">\n",
       "      <th></th>\n",
       "      <th>Acquiring Company</th>\n",
       "      <th>Acquisitions (1987 to 2017)</th>\n",
       "    </tr>\n",
       "  </thead>\n",
       "  <tbody>\n",
       "    <tr>\n",
       "      <th>0</th>\n",
       "      <td>Google</td>\n",
       "      <td>214</td>\n",
       "    </tr>\n",
       "    <tr>\n",
       "      <th>1</th>\n",
       "      <td>Microsoft</td>\n",
       "      <td>207</td>\n",
       "    </tr>\n",
       "    <tr>\n",
       "      <th>2</th>\n",
       "      <td>IBM</td>\n",
       "      <td>162</td>\n",
       "    </tr>\n",
       "    <tr>\n",
       "      <th>3</th>\n",
       "      <td>Yahoo</td>\n",
       "      <td>114</td>\n",
       "    </tr>\n",
       "    <tr>\n",
       "      <th>4</th>\n",
       "      <td>Apple</td>\n",
       "      <td>93</td>\n",
       "    </tr>\n",
       "    <tr>\n",
       "      <th>5</th>\n",
       "      <td>Facebook</td>\n",
       "      <td>66</td>\n",
       "    </tr>\n",
       "    <tr>\n",
       "      <th>6</th>\n",
       "      <td>Twitter</td>\n",
       "      <td>53</td>\n",
       "    </tr>\n",
       "  </tbody>\n",
       "</table>\n",
       "</div>"
      ],
      "text/plain": [
       "  Acquiring Company  Acquisitions (1987 to 2017)\n",
       "0            Google                          214\n",
       "1         Microsoft                          207\n",
       "2               IBM                          162\n",
       "3             Yahoo                          114\n",
       "4             Apple                           93\n",
       "5          Facebook                           66\n",
       "6           Twitter                           53"
      ]
     },
     "execution_count": 65,
     "metadata": {},
     "output_type": "execute_result"
    }
   ],
   "source": [
    "company_acquisitions=data['acquiring_company'].value_counts().reset_index()\n",
    "company_acquisitions=company_acquisitions.rename(columns={'index':'Acquiring Company', 'acquiring_company':'Acquisitions (1987 to 2017)'})\n",
    "company_acquisitions"
   ]
  },
  {
   "cell_type": "code",
   "execution_count": null,
   "id": "e4ed5285",
   "metadata": {},
   "outputs": [],
   "source": []
  },
  {
   "cell_type": "code",
   "execution_count": 66,
   "id": "bf13be11",
   "metadata": {},
   "outputs": [
    {
     "data": {
      "image/png": "[encoded data removed]",
      "text/plain": [
       "<Figure size 1800x720 with 1 Axes>"
      ]
     },
     "metadata": {},
     "output_type": "display_data"
    }
   ],
   "source": [
    "text = ('Worth noting: while Ibm and Yahoo have returned lower adjusted EBITDA compapred to Apple and Facbook' \n",
    "        + '\\n' + ' despite making more more acquistions.Not withstanding value of acquisitionss,' + \n",
    "        '\\n' + 'this may suggest lower M&A efficiency,realized synergies, ROTA and ROCE')\n",
    "plt.figure(figsize=(25,10))\n",
    "plt.title('Number of M&A by Acquiring company',fontsize=30, fontweight=\"bold\")\n",
    "plt.xlabel('Acquiring Company', fontsize=25)\n",
    "plt.ylabel(\"Acquisitions (1987 to 2017)\", fontsize=25)\n",
    "sns.barplot(x='Acquiring Company', y='Acquisitions (1987 to 2017)', data=company_acquisitions)\n",
    "plt.text(x=2, y=170, s=text, size='xx-large')\n",
    "sns.despine()\n",
    "plt.rc('xtick',labelsize=20)\n",
    "plt.rc('ytick',labelsize=15);"
   ]
  },
  {
   "cell_type": "markdown",
   "id": "26fff1a4",
   "metadata": {},
   "source": [
    "### 3) Acquiring companyies ranking by total deal value "
   ]
  },
  {
   "cell_type": "code",
   "execution_count": null,
   "id": "365d228c",
   "metadata": {},
   "outputs": [],
   "source": []
  },
  {
   "cell_type": "code",
   "execution_count": 67,
   "id": "82e2129b",
   "metadata": {},
   "outputs": [],
   "source": [
    "#data.columns"
   ]
  },
  {
   "cell_type": "code",
   "execution_count": 68,
   "id": "5f19f021",
   "metadata": {},
   "outputs": [
    {
     "data": {
      "text/html": [
       "<div>\n",
       "<style scoped>\n",
       "    .dataframe tbody tr th:only-of-type {\n",
       "        vertical-align: middle;\n",
       "    }\n",
       "\n",
       "    .dataframe tbody tr th {\n",
       "        vertical-align: top;\n",
       "    }\n",
       "\n",
       "    .dataframe thead th {\n",
       "        text-align: right;\n",
       "    }\n",
       "</style>\n",
       "<table border=\"1\" class=\"dataframe\">\n",
       "  <thead>\n",
       "    <tr style=\"text-align: right;\">\n",
       "      <th></th>\n",
       "      <th>acquiring_company</th>\n",
       "      <th>acquistion_price(mil_usd)</th>\n",
       "    </tr>\n",
       "  </thead>\n",
       "  <tbody>\n",
       "    <tr>\n",
       "      <th>0</th>\n",
       "      <td>Apple</td>\n",
       "      <td>7080.426</td>\n",
       "    </tr>\n",
       "    <tr>\n",
       "      <th>1</th>\n",
       "      <td>Facebook</td>\n",
       "      <td>22624.700</td>\n",
       "    </tr>\n",
       "    <tr>\n",
       "      <th>2</th>\n",
       "      <td>Google</td>\n",
       "      <td>30277.200</td>\n",
       "    </tr>\n",
       "    <tr>\n",
       "      <th>3</th>\n",
       "      <td>IBM</td>\n",
       "      <td>36268.000</td>\n",
       "    </tr>\n",
       "    <tr>\n",
       "      <th>4</th>\n",
       "      <td>Microsoft</td>\n",
       "      <td>63097.064</td>\n",
       "    </tr>\n",
       "    <tr>\n",
       "      <th>5</th>\n",
       "      <td>Twitter</td>\n",
       "      <td>1668.170</td>\n",
       "    </tr>\n",
       "    <tr>\n",
       "      <th>6</th>\n",
       "      <td>Yahoo</td>\n",
       "      <td>18097.100</td>\n",
       "    </tr>\n",
       "  </tbody>\n",
       "</table>\n",
       "</div>"
      ],
      "text/plain": [
       "  acquiring_company  acquistion_price(mil_usd)\n",
       "0             Apple                   7080.426\n",
       "1          Facebook                  22624.700\n",
       "2            Google                  30277.200\n",
       "3               IBM                  36268.000\n",
       "4         Microsoft                  63097.064\n",
       "5           Twitter                   1668.170\n",
       "6             Yahoo                  18097.100"
      ]
     },
     "execution_count": 68,
     "metadata": {},
     "output_type": "execute_result"
    }
   ],
   "source": [
    "companytotalacquisitionprice=(data.groupby(\"acquiring_company\").agg({\"acquistion_price(mil_usd)\": sum})).reset_index()\n",
    "companytotalacquisitionprice=companytotalacquisitionprice.rename(columns={'index':'Acquiring Company'})\n",
    "#companytotalacquisitionprice=companytotalacquisitionprice.reset_index().sort_values(\"acquistion_price(mil_usd)\", ascending=False)\n",
    "companytotalacquisitionprice\n",
    "\n",
    "#company_acquisitions=data['acquiring_company'].value_counts().reset_index()\n",
    "#company_acquisitions=company_acquisitions.rename(columns={'index':'Acquiring Company', 'acquiring_company':'Acquisitions (1987 to 2017)'})\n",
    "#company_acquisitions"
   ]
  },
  {
   "cell_type": "code",
   "execution_count": 69,
   "id": "573e6159",
   "metadata": {},
   "outputs": [],
   "source": [
    "#companytotalacquisitionprice=companytotalacquisitionprice.rename(columns={'acquiring_company':'Acquiring Company', 'acquistion_price(mil_usd)':'Acquisitions (1987 to 2017)'})\n",
    "#companytotalacquisitionprice.shape"
   ]
  },
  {
   "cell_type": "code",
   "execution_count": 70,
   "id": "095f01aa",
   "metadata": {},
   "outputs": [
    {
     "data": {
      "image/png": "[encoded data removed]",
      "text/plain": [
       "<Figure size 1800x720 with 1 Axes>"
      ]
     },
     "metadata": {},
     "output_type": "display_data"
    }
   ],
   "source": [
    "#text = ('Worth noting: while Ibm and Yahoo have returned lower adjusted EBITDA compapred to Apple and Facbook' \n",
    "#        + '\\n' + ' despite making more more acquistions.Not withstanding value of acquisitionss,' + \n",
    "#        '\\n' + 'this may suggest lower M&A efficiency,realized synergies, ROTA and ROCE')\n",
    "plt.figure(figsize=(25,10))\n",
    "plt.title('Total M&A spend by Acquiring company (1988-2017)',fontsize=30, fontweight=\"bold\")\n",
    "plt.xlabel('acquiring_company', fontsize=25)\n",
    "plt.ylabel(\"acquistion_price(mil_usd)\", fontsize=25)\n",
    "sns.barplot(x='acquiring_company', y='acquistion_price(mil_usd)', data=companytotalacquisitionprice)\n",
    "#plt.text(x=1, y=180, s=text, size='xx-large')\n",
    "sns.despine()\n",
    "plt.rc('xtick',labelsize=20)\n",
    "plt.rc('ytick',labelsize=30);"
   ]
  },
  {
   "cell_type": "code",
   "execution_count": 71,
   "id": "fe876a2a",
   "metadata": {},
   "outputs": [],
   "source": [
    "data.to_csv('week5projectdata.csv')"
   ]
  },
  {
   "cell_type": "code",
   "execution_count": 72,
   "id": "f9c85b7f",
   "metadata": {},
   "outputs": [],
   "source": [
    "acq_price_yoy=(data.groupby([\"acquiring_company\",'acquisition_year']).agg({\"acquistion_price(mil_usd)\": sum})).reset_index()\n",
    "acq_price_yoy=acq_price_yoy.rename(columns={'index':'Acquiring Company'})"
   ]
  },
  {
   "cell_type": "code",
   "execution_count": 73,
   "id": "8308c0c0",
   "metadata": {},
   "outputs": [
    {
     "data": {
      "text/plain": [
       "(119, 3)"
      ]
     },
     "execution_count": 73,
     "metadata": {},
     "output_type": "execute_result"
    }
   ],
   "source": [
    "acq_price_yoy.shape"
   ]
  },
  {
   "cell_type": "code",
   "execution_count": 74,
   "id": "410e7edd",
   "metadata": {},
   "outputs": [
    {
     "data": {
      "text/html": [
       "<div>\n",
       "<style scoped>\n",
       "    .dataframe tbody tr th:only-of-type {\n",
       "        vertical-align: middle;\n",
       "    }\n",
       "\n",
       "    .dataframe tbody tr th {\n",
       "        vertical-align: top;\n",
       "    }\n",
       "\n",
       "    .dataframe thead th {\n",
       "        text-align: right;\n",
       "    }\n",
       "</style>\n",
       "<table border=\"1\" class=\"dataframe\">\n",
       "  <thead>\n",
       "    <tr style=\"text-align: right;\">\n",
       "      <th></th>\n",
       "      <th>acquiring_company</th>\n",
       "      <th>acquisition_year</th>\n",
       "      <th>acquistion_price(mil_usd)</th>\n",
       "    </tr>\n",
       "  </thead>\n",
       "  <tbody>\n",
       "    <tr>\n",
       "      <th>0</th>\n",
       "      <td>Apple</td>\n",
       "      <td>1988</td>\n",
       "      <td>0.000</td>\n",
       "    </tr>\n",
       "    <tr>\n",
       "      <th>1</th>\n",
       "      <td>Apple</td>\n",
       "      <td>1989</td>\n",
       "      <td>0.000</td>\n",
       "    </tr>\n",
       "    <tr>\n",
       "      <th>2</th>\n",
       "      <td>Apple</td>\n",
       "      <td>1997</td>\n",
       "      <td>514.000</td>\n",
       "    </tr>\n",
       "    <tr>\n",
       "      <th>3</th>\n",
       "      <td>Apple</td>\n",
       "      <td>1999</td>\n",
       "      <td>19.926</td>\n",
       "    </tr>\n",
       "    <tr>\n",
       "      <th>4</th>\n",
       "      <td>Apple</td>\n",
       "      <td>2000</td>\n",
       "      <td>0.000</td>\n",
       "    </tr>\n",
       "  </tbody>\n",
       "</table>\n",
       "</div>"
      ],
      "text/plain": [
       "  acquiring_company  acquisition_year  acquistion_price(mil_usd)\n",
       "0             Apple              1988                      0.000\n",
       "1             Apple              1989                      0.000\n",
       "2             Apple              1997                    514.000\n",
       "3             Apple              1999                     19.926\n",
       "4             Apple              2000                      0.000"
      ]
     },
     "execution_count": 74,
     "metadata": {},
     "output_type": "execute_result"
    }
   ],
   "source": [
    "acq_price_yoy.head()"
   ]
  },
  {
   "cell_type": "code",
   "execution_count": 75,
   "id": "88f93a75",
   "metadata": {},
   "outputs": [],
   "source": [
    "#acq_price_yoy_count=acq_price_yoy.copy()\n",
    "#acq_price_yoy_count.shape"
   ]
  },
  {
   "cell_type": "code",
   "execution_count": 76,
   "id": "a68cf129",
   "metadata": {},
   "outputs": [],
   "source": [
    "#acq_price_yoy_count['acquisition_year'] = pd.to_datetime(acq_price_yoy_count['acquisition_year'], errors='coerce')\n",
    "#acq_price_yoy_count['acquisition_year'].unique()"
   ]
  },
  {
   "cell_type": "code",
   "execution_count": 77,
   "id": "7b809c47",
   "metadata": {},
   "outputs": [],
   "source": [
    "#acq_price_yoy_count['acquisition_year'] = acq_price_yoy_count.acquisition_year.apply(lambda x: x.year)\n",
    "#acq_price_yoy_count['acquisition_year'].unique()"
   ]
  },
  {
   "cell_type": "code",
   "execution_count": 78,
   "id": "922217d2",
   "metadata": {
    "scrolled": true
   },
   "outputs": [
    {
     "data": {
      "image/png": "[encoded data removed]",
      "text/plain": [
       "<Figure size 1080x360 with 1 Axes>"
      ]
     },
     "metadata": {},
     "output_type": "display_data"
    }
   ],
   "source": [
    "fig, ax1 = plt.subplots(1,1,figsize=(15,5)) \n",
    "plt.title('Years of M&A activity by acquiring company',fontsize=30, fontweight=\"bold\")\n",
    "sns.histplot(binwidth=0.5, x=\"acquisition_year\", hue=\"acquiring_company\", data=acq_price_yoy, stat=\"count\", multiple=\"stack\");"
   ]
  },
  {
   "cell_type": "code",
   "execution_count": null,
   "id": "49374bde",
   "metadata": {},
   "outputs": [],
   "source": []
  },
  {
   "cell_type": "markdown",
   "id": "97e9deb5",
   "metadata": {},
   "source": []
  },
  {
   "cell_type": "markdown",
   "id": "3739a4aa",
   "metadata": {},
   "source": [
    "<div class='tableauPlaceholder' id='viz1654093233132' style='position: relative'><noscript><a href='#'><img alt=' ' src='https:&#47;&#47;public.tableau.com&#47;static&#47;images&#47;nu&#47;numberacquistionsbycompany_yoy&#47;Sheet3&#47;1_rss.png' style='border: none' /></a></noscript><object class='tableauViz'  style='display:none;'><param name='host_url' value='https%3A%2F%2Fpublic.tableau.com%2F' /> <param name='embed_code_version' value='3' /> <param name='site_root' value='' /><param name='name' value='numberacquistionsbycompany_yoy&#47;Sheet3' /><param name='tabs' value='yes' /><param name='toolbar' value='yes' /><param name='static_image' value='https:&#47;&#47;public.tableau.com&#47;static&#47;images&#47;nu&#47;numberacquistionsbycompany_yoy&#47;Sheet3&#47;1.png' /> <param name='animate_transition' value='yes' /><param name='display_static_image' value='yes' /><param name='display_spinner' value='yes' /><param name='display_overlay' value='yes' /><param name='display_count' value='yes' /><param name='language' value='en-US' /><param name='filter' value='publish=yes' /></object></div>                <script type='text/javascript'>                    var divElement = document.getElementById('viz1654093233132');                    var vizElement = divElement.getElementsByTagName('object')[0];                    vizElement.style.width='100%';vizElement.style.height=(divElement.offsetWidth*0.75)+'px';                    var scriptElement = document.createElement('script');                    scriptElement.src = 'https://public.tableau.com/javascripts/api/viz_v1.js';                    vizElement.parentNode.insertBefore(scriptElement, vizElement);                </script>"
   ]
  },
  {
   "cell_type": "code",
   "execution_count": 79,
   "id": "576ec1cd",
   "metadata": {},
   "outputs": [
    {
     "data": {
      "image/png": "[encoded data removed]",
      "text/plain": [
       "<Figure size 1800x720 with 1 Axes>"
      ]
     },
     "metadata": {},
     "output_type": "display_data"
    }
   ],
   "source": [
    "plt.figure(figsize=(25,10))\n",
    "plt.title('Value of M&A by Acquiring company YoY',fontsize=30, fontweight=\"bold\")\n",
    "plt.xlabel('acquisition_year', fontsize=25)\n",
    "plt.ylabel(\"acquistion_price(mil_usd)\", fontsize=25)\n",
    "sns.barplot(x='acquisition_year', y='acquistion_price(mil_usd)', hue=\"acquiring_company\",data=acq_price_yoy)\n",
    "#plt.text(x=2, y=170, s=text, size='xx-large')\n",
    "sns.despine()\n",
    "plt.rc('xtick',labelsize=20)\n",
    "plt.rc('ytick',labelsize=30);"
   ]
  },
  {
   "cell_type": "code",
   "execution_count": 80,
   "id": "ae11ecaf",
   "metadata": {
    "scrolled": true
   },
   "outputs": [
    {
     "data": {
      "text/html": [
       "<div>\n",
       "<style scoped>\n",
       "    .dataframe tbody tr th:only-of-type {\n",
       "        vertical-align: middle;\n",
       "    }\n",
       "\n",
       "    .dataframe tbody tr th {\n",
       "        vertical-align: top;\n",
       "    }\n",
       "\n",
       "    .dataframe thead th {\n",
       "        text-align: right;\n",
       "    }\n",
       "</style>\n",
       "<table border=\"1\" class=\"dataframe\">\n",
       "  <thead>\n",
       "    <tr style=\"text-align: right;\">\n",
       "      <th></th>\n",
       "      <th>acquiring_company</th>\n",
       "      <th>acquisition_year</th>\n",
       "      <th>acquistion_price(mil_usd)</th>\n",
       "    </tr>\n",
       "  </thead>\n",
       "  <tbody>\n",
       "    <tr>\n",
       "      <th>0</th>\n",
       "      <td>Apple</td>\n",
       "      <td>1988</td>\n",
       "      <td>0.000</td>\n",
       "    </tr>\n",
       "    <tr>\n",
       "      <th>1</th>\n",
       "      <td>Apple</td>\n",
       "      <td>1989</td>\n",
       "      <td>0.000</td>\n",
       "    </tr>\n",
       "    <tr>\n",
       "      <th>2</th>\n",
       "      <td>Apple</td>\n",
       "      <td>1997</td>\n",
       "      <td>514.000</td>\n",
       "    </tr>\n",
       "    <tr>\n",
       "      <th>3</th>\n",
       "      <td>Apple</td>\n",
       "      <td>1999</td>\n",
       "      <td>19.926</td>\n",
       "    </tr>\n",
       "    <tr>\n",
       "      <th>4</th>\n",
       "      <td>Apple</td>\n",
       "      <td>2000</td>\n",
       "      <td>0.000</td>\n",
       "    </tr>\n",
       "    <tr>\n",
       "      <th>...</th>\n",
       "      <td>...</td>\n",
       "      <td>...</td>\n",
       "      <td>...</td>\n",
       "    </tr>\n",
       "    <tr>\n",
       "      <th>114</th>\n",
       "      <td>Yahoo</td>\n",
       "      <td>2011</td>\n",
       "      <td>330.000</td>\n",
       "    </tr>\n",
       "    <tr>\n",
       "      <th>115</th>\n",
       "      <td>Yahoo</td>\n",
       "      <td>2012</td>\n",
       "      <td>0.000</td>\n",
       "    </tr>\n",
       "    <tr>\n",
       "      <th>116</th>\n",
       "      <td>Yahoo</td>\n",
       "      <td>2013</td>\n",
       "      <td>1271.500</td>\n",
       "    </tr>\n",
       "    <tr>\n",
       "      <th>117</th>\n",
       "      <td>Yahoo</td>\n",
       "      <td>2014</td>\n",
       "      <td>855.000</td>\n",
       "    </tr>\n",
       "    <tr>\n",
       "      <th>118</th>\n",
       "      <td>Yahoo</td>\n",
       "      <td>2015</td>\n",
       "      <td>160.000</td>\n",
       "    </tr>\n",
       "  </tbody>\n",
       "</table>\n",
       "<p>119 rows × 3 columns</p>\n",
       "</div>"
      ],
      "text/plain": [
       "    acquiring_company  acquisition_year  acquistion_price(mil_usd)\n",
       "0               Apple              1988                      0.000\n",
       "1               Apple              1989                      0.000\n",
       "2               Apple              1997                    514.000\n",
       "3               Apple              1999                     19.926\n",
       "4               Apple              2000                      0.000\n",
       "..                ...               ...                        ...\n",
       "114             Yahoo              2011                    330.000\n",
       "115             Yahoo              2012                      0.000\n",
       "116             Yahoo              2013                   1271.500\n",
       "117             Yahoo              2014                    855.000\n",
       "118             Yahoo              2015                    160.000\n",
       "\n",
       "[119 rows x 3 columns]"
      ]
     },
     "execution_count": 80,
     "metadata": {},
     "output_type": "execute_result"
    }
   ],
   "source": [
    "company_acq_price_by_year = data.groupby([\"acquiring_company\",'acquisition_year']).agg({\"acquistion_price(mil_usd)\": sum})\n",
    "company_acq_price_by_year.reset_index()"
   ]
  },
  {
   "cell_type": "code",
   "execution_count": 81,
   "id": "68844631",
   "metadata": {},
   "outputs": [],
   "source": [
    "company_acq_price_by_year.to_csv('company_acitivity2.csv')\n"
   ]
  },
  {
   "cell_type": "markdown",
   "id": "ccf956c1",
   "metadata": {},
   "source": [
    "<div class='tableauPlaceholder' id='viz1654037990536' style='position: relative'><noscript><a href='#'><img alt='Acquisition spend by company YoY ( MUSD) ' src='https:&#47;&#47;public.tableau.com&#47;static&#47;images&#47;ac&#47;acquiringcompaniesacquisitionpriceyearonyear1&#47;Sheet3&#47;1_rss.png' style='border: none' /></a></noscript><object class='tableauViz'  style='display:none;'><param name='host_url' value='https%3A%2F%2Fpublic.tableau.com%2F' /> <param name='embed_code_version' value='3' /> <param name='site_root' value='' /><param name='name' value='acquiringcompaniesacquisitionpriceyearonyear1&#47;Sheet3' /><param name='tabs' value='no' /><param name='toolbar' value='yes' /><param name='static_image' value='https:&#47;&#47;public.tableau.com&#47;static&#47;images&#47;ac&#47;acquiringcompaniesacquisitionpriceyearonyear1&#47;Sheet3&#47;1.png' /> <param name='animate_transition' value='yes' /><param name='display_static_image' value='yes' /><param name='display_spinner' value='yes' /><param name='display_overlay' value='yes' /><param name='display_count' value='yes' /><param name='language' value='en-US' /><param name='filter' value='publish=yes' /></object></div>                <script type='text/javascript'>                    var divElement = document.getElementById('viz1654037990536');                    var vizElement = divElement.getElementsByTagName('object')[0];                    vizElement.style.width='100%';vizElement.style.height=(divElement.offsetWidth*0.75)+'px';                    var scriptElement = document.createElement('script');                    scriptElement.src = 'https://public.tableau.com/javascripts/api/viz_v1.js';                    vizElement.parentNode.insertBefore(scriptElement, vizElement);                </script>"
   ]
  },
  {
   "cell_type": "markdown",
   "id": "7cbed119",
   "metadata": {},
   "source": [
    "### 3) What is the pattern of acquistion over the years ( in which businesses is MnA concentrated):"
   ]
  },
  {
   "cell_type": "code",
   "execution_count": 82,
   "id": "748fb927",
   "metadata": {},
   "outputs": [
    {
     "data": {
      "text/plain": [
       "Index(['acquisition_id', 'acquisition_month', 'acquisition_monthdate',\n",
       "       'acquisition_year', 'acquired_company', 'business', 'country',\n",
       "       'acquistion_price(mil_usd)', 'derived_products', 'acquiring_company',\n",
       "       'parent-acquired'],\n",
       "      dtype='object')"
      ]
     },
     "execution_count": 82,
     "metadata": {},
     "output_type": "execute_result"
    }
   ],
   "source": [
    "data.columns"
   ]
  },
  {
   "cell_type": "code",
   "execution_count": 83,
   "id": "b7d9c189",
   "metadata": {},
   "outputs": [
    {
     "data": {
      "text/html": [
       "<div>\n",
       "<style scoped>\n",
       "    .dataframe tbody tr th:only-of-type {\n",
       "        vertical-align: middle;\n",
       "    }\n",
       "\n",
       "    .dataframe tbody tr th {\n",
       "        vertical-align: top;\n",
       "    }\n",
       "\n",
       "    .dataframe thead th {\n",
       "        text-align: right;\n",
       "    }\n",
       "</style>\n",
       "<table border=\"1\" class=\"dataframe\">\n",
       "  <thead>\n",
       "    <tr style=\"text-align: right;\">\n",
       "      <th></th>\n",
       "      <th>business domain</th>\n",
       "      <th>Number of Companies acquired</th>\n",
       "    </tr>\n",
       "  </thead>\n",
       "  <tbody>\n",
       "    <tr>\n",
       "      <th>0</th>\n",
       "      <td>Software</td>\n",
       "      <td>47</td>\n",
       "    </tr>\n",
       "    <tr>\n",
       "      <th>1</th>\n",
       "      <td>Internet software</td>\n",
       "      <td>9</td>\n",
       "    </tr>\n",
       "    <tr>\n",
       "      <th>2</th>\n",
       "      <td>Internet service provider</td>\n",
       "      <td>8</td>\n",
       "    </tr>\n",
       "    <tr>\n",
       "      <th>3</th>\n",
       "      <td>Online advertising</td>\n",
       "      <td>8</td>\n",
       "    </tr>\n",
       "    <tr>\n",
       "      <th>4</th>\n",
       "      <td>Mobile software</td>\n",
       "      <td>7</td>\n",
       "    </tr>\n",
       "    <tr>\n",
       "      <th>5</th>\n",
       "      <td>Advertising</td>\n",
       "      <td>7</td>\n",
       "    </tr>\n",
       "    <tr>\n",
       "      <th>6</th>\n",
       "      <td>Computer software</td>\n",
       "      <td>7</td>\n",
       "    </tr>\n",
       "    <tr>\n",
       "      <th>7</th>\n",
       "      <td>Web search engine</td>\n",
       "      <td>5</td>\n",
       "    </tr>\n",
       "    <tr>\n",
       "      <th>8</th>\n",
       "      <td>IT Services</td>\n",
       "      <td>5</td>\n",
       "    </tr>\n",
       "    <tr>\n",
       "      <th>9</th>\n",
       "      <td>Maps</td>\n",
       "      <td>5</td>\n",
       "    </tr>\n",
       "    <tr>\n",
       "      <th>10</th>\n",
       "      <td>Music streaming</td>\n",
       "      <td>4</td>\n",
       "    </tr>\n",
       "    <tr>\n",
       "      <th>11</th>\n",
       "      <td>Business Intelligence</td>\n",
       "      <td>4</td>\n",
       "    </tr>\n",
       "    <tr>\n",
       "      <th>12</th>\n",
       "      <td>Social networking service</td>\n",
       "      <td>4</td>\n",
       "    </tr>\n",
       "    <tr>\n",
       "      <th>13</th>\n",
       "      <td>Enterprise Information Integration</td>\n",
       "      <td>4</td>\n",
       "    </tr>\n",
       "    <tr>\n",
       "      <th>14</th>\n",
       "      <td>Computer vision</td>\n",
       "      <td>4</td>\n",
       "    </tr>\n",
       "    <tr>\n",
       "      <th>15</th>\n",
       "      <td>Artificial intelligence</td>\n",
       "      <td>4</td>\n",
       "    </tr>\n",
       "    <tr>\n",
       "      <th>16</th>\n",
       "      <td>Weblog software</td>\n",
       "      <td>4</td>\n",
       "    </tr>\n",
       "    <tr>\n",
       "      <th>17</th>\n",
       "      <td>Semiconductors</td>\n",
       "      <td>3</td>\n",
       "    </tr>\n",
       "    <tr>\n",
       "      <th>18</th>\n",
       "      <td>Identity management</td>\n",
       "      <td>3</td>\n",
       "    </tr>\n",
       "    <tr>\n",
       "      <th>19</th>\n",
       "      <td>Security</td>\n",
       "      <td>3</td>\n",
       "    </tr>\n",
       "    <tr>\n",
       "      <th>20</th>\n",
       "      <td>Applications</td>\n",
       "      <td>3</td>\n",
       "    </tr>\n",
       "    <tr>\n",
       "      <th>21</th>\n",
       "      <td>Mobile advertising</td>\n",
       "      <td>3</td>\n",
       "    </tr>\n",
       "    <tr>\n",
       "      <th>22</th>\n",
       "      <td>Information security</td>\n",
       "      <td>3</td>\n",
       "    </tr>\n",
       "    <tr>\n",
       "      <th>23</th>\n",
       "      <td>Augmented reality</td>\n",
       "      <td>3</td>\n",
       "    </tr>\n",
       "    <tr>\n",
       "      <th>24</th>\n",
       "      <td>Photo sharing</td>\n",
       "      <td>3</td>\n",
       "    </tr>\n",
       "    <tr>\n",
       "      <th>25</th>\n",
       "      <td>Web-based email</td>\n",
       "      <td>3</td>\n",
       "    </tr>\n",
       "    <tr>\n",
       "      <th>26</th>\n",
       "      <td>Social networking</td>\n",
       "      <td>3</td>\n",
       "    </tr>\n",
       "    <tr>\n",
       "      <th>27</th>\n",
       "      <td>Online video</td>\n",
       "      <td>3</td>\n",
       "    </tr>\n",
       "    <tr>\n",
       "      <th>28</th>\n",
       "      <td>Home automation</td>\n",
       "      <td>3</td>\n",
       "    </tr>\n",
       "    <tr>\n",
       "      <th>29</th>\n",
       "      <td>Digital marketing and creative agency</td>\n",
       "      <td>3</td>\n",
       "    </tr>\n",
       "    <tr>\n",
       "      <th>30</th>\n",
       "      <td>Information technology</td>\n",
       "      <td>3</td>\n",
       "    </tr>\n",
       "    <tr>\n",
       "      <th>31</th>\n",
       "      <td>Social recommendation</td>\n",
       "      <td>3</td>\n",
       "    </tr>\n",
       "    <tr>\n",
       "      <th>32</th>\n",
       "      <td>Asset Management</td>\n",
       "      <td>3</td>\n",
       "    </tr>\n",
       "    <tr>\n",
       "      <th>33</th>\n",
       "      <td>Cloud computing</td>\n",
       "      <td>3</td>\n",
       "    </tr>\n",
       "  </tbody>\n",
       "</table>\n",
       "</div>"
      ],
      "text/plain": [
       "                          business domain  Number of Companies acquired\n",
       "0                                Software                            47\n",
       "1                       Internet software                             9\n",
       "2               Internet service provider                             8\n",
       "3                      Online advertising                             8\n",
       "4                         Mobile software                             7\n",
       "5                             Advertising                             7\n",
       "6                       Computer software                             7\n",
       "7                       Web search engine                             5\n",
       "8                             IT Services                             5\n",
       "9                                    Maps                             5\n",
       "10                        Music streaming                             4\n",
       "11                  Business Intelligence                             4\n",
       "12              Social networking service                             4\n",
       "13     Enterprise Information Integration                             4\n",
       "14                        Computer vision                             4\n",
       "15                Artificial intelligence                             4\n",
       "16                        Weblog software                             4\n",
       "17                         Semiconductors                             3\n",
       "18                    Identity management                             3\n",
       "19                               Security                             3\n",
       "20                           Applications                             3\n",
       "21                     Mobile advertising                             3\n",
       "22                   Information security                             3\n",
       "23                      Augmented reality                             3\n",
       "24                          Photo sharing                             3\n",
       "25                        Web-based email                             3\n",
       "26                      Social networking                             3\n",
       "27                           Online video                             3\n",
       "28                        Home automation                             3\n",
       "29  Digital marketing and creative agency                             3\n",
       "30                 Information technology                             3\n",
       "31                  Social recommendation                             3\n",
       "32                       Asset Management                             3\n",
       "33                        Cloud computing                             3"
      ]
     },
     "execution_count": 83,
     "metadata": {},
     "output_type": "execute_result"
    }
   ],
   "source": [
    "business_domain = data[\"business\"].value_counts().reset_index()\n",
    "business_domain = business_domain.rename(\n",
    "    {\"index\": \"business domain\", \"business\": \"Number of Companies acquired\"}, axis=1)\n",
    "Top35_business_domains = business_domain.head(34) # 35 was run to capture all companies by business with 3 aquistions.\n",
    "Top35_business_domains\n"
   ]
  },
  {
   "cell_type": "markdown",
   "id": "e982a853",
   "metadata": {},
   "source": [
    "Some of the most interesting acquisitions by business type are of small count. Note. low number of acquisitions in a domain niether reflect the size of the acquisition nor the critical importance of the acquisition to the competetive position of the acquiring company. It mearly reflect the competition in the respective domains, the associated innovation level and barriers to entry, the demand for such services (not the dollar value) and willingness of sale (market growth potential versus the price offered).With a detailed study of the acquiring companies corporate, business unit and operations strategy, valuable insight is gained as to the reasons behind the acquisition size and number. Hence the data herein is to be crossexamined against the analysis of the acquiring companies."
   ]
  },
  {
   "cell_type": "code",
   "execution_count": 84,
   "id": "50e1ca52",
   "metadata": {},
   "outputs": [
    {
     "data": {
      "image/png": "[encoded data removed]",
      "text/plain": [
       "<Figure size 1800x1440 with 1 Axes>"
      ]
     },
     "metadata": {},
     "output_type": "display_data"
    }
   ],
   "source": [
    "#text = ('Worth noting: while Ibm and Yahoo have returned lower adjusted EBITDA compapred to Apple and Facbook' \n",
    "#        + '\\n' + ' despite making more more acquistions.Not withstanding value of acquisitionss,' + \n",
    "#        '\\n' + 'this may suggest lower M&A efficiency,realized synergies, ROTA and ROCE')\n",
    "plt.figure(figsize=(25,20))\n",
    "plt.title('Number of acquisitions by business domain (1987 to 2017)',fontsize=30, fontweight=\"bold\")\n",
    "plt.xlabel('Number of Companies acquired', fontsize=25)\n",
    "plt.ylabel(\"business domain\", fontsize=25)\n",
    "sns.barplot(x='Number of Companies acquired', y='business domain', data=Top35_business_domains)\n",
    "#plt.text(x=1, y=180, s=text, size='xx-large')\n",
    "sns.despine()\n",
    "plt.rc('xtick',labelsize=20)\n",
    "plt.rc('ytick',labelsize=25);"
   ]
  },
  {
   "cell_type": "code",
   "execution_count": 85,
   "id": "6ccefda4",
   "metadata": {},
   "outputs": [],
   "source": [
    "Top35_business_domains.to_csv('Top35_business_domains.csv')"
   ]
  },
  {
   "cell_type": "markdown",
   "id": "a11b704a",
   "metadata": {},
   "source": [
    "Given the plot above, to glean an insight at the strategic direction  and intent of the acquiring companies, a plot of the top 35 business domains in the plot are plotted against the acquiring companies in Tableau as shown below:"
   ]
  },
  {
   "cell_type": "code",
   "execution_count": null,
   "id": "e477763a",
   "metadata": {},
   "outputs": [],
   "source": []
  },
  {
   "cell_type": "code",
   "execution_count": null,
   "id": "82eac93e",
   "metadata": {},
   "outputs": [],
   "source": []
  },
  {
   "cell_type": "code",
   "execution_count": null,
   "id": "f262c761",
   "metadata": {},
   "outputs": [],
   "source": []
  },
  {
   "cell_type": "markdown",
   "id": "78d3d288",
   "metadata": {},
   "source": [
    "plt.figure(figsize=(25,10))\n",
    "plt.title('Total number of M&A by Acquiring company (1988-2017)',fontsize=30, fontweight=\"bold\")\n",
    "plt.xlabel('Acquiring company', fontsize=25)\n",
    "plt.ylabel(\"Total Spend MUSD (1987 to 2017)\", fontsize=25)\n",
    "sns.barplot(x='Acquiring Company', y='Acquisitions (1987 to 2017)', data=companyyearlyacq)\n",
    "plt.text(x=2, y=170, s=text, size='xx-large')\n",
    "sns.despine()\n",
    "plt.rc('xtick',labelsize=20)\n",
    "plt.rc('ytick',labelsize=30);"
   ]
  },
  {
   "cell_type": "code",
   "execution_count": 86,
   "id": "039f3864",
   "metadata": {},
   "outputs": [],
   "source": [
    "#fig, ax1 = plt.subplots(1,1,figsize=(15,5)) \n",
    "#sns.histplot(binwidth=0.5, x=\"acquisition_year\", hue=('acquistion_price(mil_usd)'), data=company_acq_price_by_year1,multiple=\"stack\")"
   ]
  },
  {
   "cell_type": "code",
   "execution_count": null,
   "id": "dbbbf1da",
   "metadata": {},
   "outputs": [],
   "source": []
  },
  {
   "cell_type": "code",
   "execution_count": 87,
   "id": "ad09c689",
   "metadata": {
    "scrolled": true
   },
   "outputs": [
    {
     "data": {
      "text/plain": [
       "array(['USA', 'GER', 'FIN', 'CAN', 'UK', 'SWE', 'ISR', 'TWN', 'AUS',\n",
       "       'SGP', 'NOR', 'DEN', 'ROU', 'CHN', 'EU', 'IND', 'BLR', 'FRA',\n",
       "       'BRA', 'ITA', 'SWI', 'SUI', 'CHE', 'NED', 'ESP', 'THA', 'BEL',\n",
       "       'POR', 'United States', 'KOR', 'other', 'HKG', 'JOR', 'MYS', 'IRL',\n",
       "       'IDN', 'GRE', 'LUX', 'UKR', 'AUT', 'JPN', 'NZL'], dtype=object)"
      ]
     },
     "execution_count": 87,
     "metadata": {},
     "output_type": "execute_result"
    }
   ],
   "source": [
    "data['country'].unique()"
   ]
  },
  {
   "cell_type": "code",
   "execution_count": 88,
   "id": "778347a7",
   "metadata": {},
   "outputs": [],
   "source": [
    "#data['country'].value_counts()"
   ]
  },
  {
   "cell_type": "code",
   "execution_count": 89,
   "id": "47aeb5c9",
   "metadata": {},
   "outputs": [],
   "source": [
    "data['country']= data['country'].apply(lambda x: 'USA' if x == 'United States'  else ('SUI' if x == 'SWI' else x))\n"
   ]
  },
  {
   "cell_type": "code",
   "execution_count": 90,
   "id": "2cfea881",
   "metadata": {},
   "outputs": [],
   "source": [
    "#data['country'].value_counts()"
   ]
  },
  {
   "cell_type": "code",
   "execution_count": 91,
   "id": "6886a7e3",
   "metadata": {},
   "outputs": [
    {
     "data": {
      "text/html": [
       "<div>\n",
       "<style scoped>\n",
       "    .dataframe tbody tr th:only-of-type {\n",
       "        vertical-align: middle;\n",
       "    }\n",
       "\n",
       "    .dataframe tbody tr th {\n",
       "        vertical-align: top;\n",
       "    }\n",
       "\n",
       "    .dataframe thead th {\n",
       "        text-align: right;\n",
       "    }\n",
       "</style>\n",
       "<table border=\"1\" class=\"dataframe\">\n",
       "  <thead>\n",
       "    <tr style=\"text-align: right;\">\n",
       "      <th></th>\n",
       "      <th>acquisition_id</th>\n",
       "      <th>acquisition_month</th>\n",
       "      <th>acquisition_monthdate</th>\n",
       "      <th>acquisition_year</th>\n",
       "      <th>acquired_company</th>\n",
       "      <th>business</th>\n",
       "      <th>country</th>\n",
       "      <th>acquistion_price(mil_usd)</th>\n",
       "      <th>derived_products</th>\n",
       "      <th>acquiring_company</th>\n",
       "      <th>parent-acquired</th>\n",
       "    </tr>\n",
       "  </thead>\n",
       "  <tbody>\n",
       "    <tr>\n",
       "      <th>402</th>\n",
       "      <td>ACQ560</td>\n",
       "      <td>November</td>\n",
       "      <td>24.0</td>\n",
       "      <td>2008</td>\n",
       "      <td>Values of n</td>\n",
       "      <td>Social software development</td>\n",
       "      <td>other</td>\n",
       "      <td>NaN</td>\n",
       "      <td>unclear</td>\n",
       "      <td>Twitter</td>\n",
       "      <td>Twitter-Values of n</td>\n",
       "    </tr>\n",
       "    <tr>\n",
       "      <th>430</th>\n",
       "      <td>ACQ535</td>\n",
       "      <td>December</td>\n",
       "      <td>23.0</td>\n",
       "      <td>2009</td>\n",
       "      <td>Mixer labs</td>\n",
       "      <td>Location information engine</td>\n",
       "      <td>other</td>\n",
       "      <td>5.17</td>\n",
       "      <td>unclear</td>\n",
       "      <td>Twitter</td>\n",
       "      <td>Twitter-Mixer labs</td>\n",
       "    </tr>\n",
       "    <tr>\n",
       "      <th>448</th>\n",
       "      <td>ACQ519</td>\n",
       "      <td>April</td>\n",
       "      <td>23.0</td>\n",
       "      <td>2010</td>\n",
       "      <td>Cloudhopper</td>\n",
       "      <td>Mobile messaging</td>\n",
       "      <td>other</td>\n",
       "      <td>NaN</td>\n",
       "      <td>unclear</td>\n",
       "      <td>Twitter</td>\n",
       "      <td>Twitter-Cloudhopper</td>\n",
       "    </tr>\n",
       "    <tr>\n",
       "      <th>458</th>\n",
       "      <td>ACQ51</td>\n",
       "      <td>October</td>\n",
       "      <td>11.0</td>\n",
       "      <td>2016</td>\n",
       "      <td>FameBit</td>\n",
       "      <td>Branded content</td>\n",
       "      <td>other</td>\n",
       "      <td>NaN</td>\n",
       "      <td>YouTube</td>\n",
       "      <td>Google</td>\n",
       "      <td>Google-FameBit</td>\n",
       "    </tr>\n",
       "    <tr>\n",
       "      <th>465</th>\n",
       "      <td>ACQ503</td>\n",
       "      <td>June</td>\n",
       "      <td>10.0</td>\n",
       "      <td>2010</td>\n",
       "      <td>Smallthought Systems</td>\n",
       "      <td>Databases and analytics</td>\n",
       "      <td>other</td>\n",
       "      <td>NaN</td>\n",
       "      <td>Analytics tools</td>\n",
       "      <td>Twitter</td>\n",
       "      <td>Twitter-Smallthought Systems</td>\n",
       "    </tr>\n",
       "    <tr>\n",
       "      <th>469</th>\n",
       "      <td>ACQ50</td>\n",
       "      <td>October</td>\n",
       "      <td>24.0</td>\n",
       "      <td>2016</td>\n",
       "      <td>Eyefluence</td>\n",
       "      <td>Eye tracking, virtual reality</td>\n",
       "      <td>other</td>\n",
       "      <td>NaN</td>\n",
       "      <td>Google VR</td>\n",
       "      <td>Google</td>\n",
       "      <td>Google-Eyefluence</td>\n",
       "    </tr>\n",
       "    <tr>\n",
       "      <th>505</th>\n",
       "      <td>ACQ468</td>\n",
       "      <td>December</td>\n",
       "      <td>21.0</td>\n",
       "      <td>2010</td>\n",
       "      <td>Fluther</td>\n",
       "      <td>Q&amp;A service</td>\n",
       "      <td>other</td>\n",
       "      <td>NaN</td>\n",
       "      <td>unclear</td>\n",
       "      <td>Twitter</td>\n",
       "      <td>Twitter-Fluther</td>\n",
       "    </tr>\n",
       "    <tr>\n",
       "      <th>525</th>\n",
       "      <td>ACQ45</td>\n",
       "      <td>November</td>\n",
       "      <td>21.0</td>\n",
       "      <td>2016</td>\n",
       "      <td>Qwiklabs</td>\n",
       "      <td>Cloud based hands-on training platform</td>\n",
       "      <td>other</td>\n",
       "      <td>NaN</td>\n",
       "      <td>Google Cloud Platform</td>\n",
       "      <td>Google</td>\n",
       "      <td>Google-Qwiklabs</td>\n",
       "    </tr>\n",
       "    <tr>\n",
       "      <th>528</th>\n",
       "      <td>ACQ447</td>\n",
       "      <td>June</td>\n",
       "      <td>1.0</td>\n",
       "      <td>2011</td>\n",
       "      <td>AdGrok</td>\n",
       "      <td>Advertising</td>\n",
       "      <td>other</td>\n",
       "      <td>NaN</td>\n",
       "      <td>unclear</td>\n",
       "      <td>Twitter</td>\n",
       "      <td>Twitter-AdGrok</td>\n",
       "    </tr>\n",
       "    <tr>\n",
       "      <th>535</th>\n",
       "      <td>ACQ440</td>\n",
       "      <td>July</td>\n",
       "      <td>5.0</td>\n",
       "      <td>2011</td>\n",
       "      <td>BackType</td>\n",
       "      <td>Social analytics</td>\n",
       "      <td>other</td>\n",
       "      <td>NaN</td>\n",
       "      <td>unclear</td>\n",
       "      <td>Twitter</td>\n",
       "      <td>Twitter-BackType</td>\n",
       "    </tr>\n",
       "    <tr>\n",
       "      <th>543</th>\n",
       "      <td>ACQ433</td>\n",
       "      <td>August</td>\n",
       "      <td>8.0</td>\n",
       "      <td>2011</td>\n",
       "      <td>Bagcheck</td>\n",
       "      <td>Social sharing and discovery</td>\n",
       "      <td>other</td>\n",
       "      <td>NaN</td>\n",
       "      <td>unclear</td>\n",
       "      <td>Twitter</td>\n",
       "      <td>Twitter-Bagcheck</td>\n",
       "    </tr>\n",
       "    <tr>\n",
       "      <th>551</th>\n",
       "      <td>ACQ426</td>\n",
       "      <td>September</td>\n",
       "      <td>21.0</td>\n",
       "      <td>2011</td>\n",
       "      <td>Julpan</td>\n",
       "      <td>Real-time social search engine</td>\n",
       "      <td>other</td>\n",
       "      <td>NaN</td>\n",
       "      <td>unclear</td>\n",
       "      <td>Twitter</td>\n",
       "      <td>Twitter-Julpan</td>\n",
       "    </tr>\n",
       "    <tr>\n",
       "      <th>562</th>\n",
       "      <td>ACQ416</td>\n",
       "      <td>November</td>\n",
       "      <td>28.0</td>\n",
       "      <td>2011</td>\n",
       "      <td>Whisper Systems</td>\n",
       "      <td>Mobile privacy and security</td>\n",
       "      <td>other</td>\n",
       "      <td>NaN</td>\n",
       "      <td>unclear</td>\n",
       "      <td>Twitter</td>\n",
       "      <td>Twitter-Whisper Systems</td>\n",
       "    </tr>\n",
       "    <tr>\n",
       "      <th>573</th>\n",
       "      <td>ACQ406</td>\n",
       "      <td>January</td>\n",
       "      <td>19.0</td>\n",
       "      <td>2012</td>\n",
       "      <td>Summify</td>\n",
       "      <td>Social news</td>\n",
       "      <td>other</td>\n",
       "      <td>NaN</td>\n",
       "      <td>unclear</td>\n",
       "      <td>Twitter</td>\n",
       "      <td>Twitter-Summify</td>\n",
       "    </tr>\n",
       "    <tr>\n",
       "      <th>574</th>\n",
       "      <td>ACQ405</td>\n",
       "      <td>January</td>\n",
       "      <td>24.0</td>\n",
       "      <td>2012</td>\n",
       "      <td>Dasient</td>\n",
       "      <td>Internet security</td>\n",
       "      <td>other</td>\n",
       "      <td>NaN</td>\n",
       "      <td>Revenue team</td>\n",
       "      <td>Twitter</td>\n",
       "      <td>Twitter-Dasient</td>\n",
       "    </tr>\n",
       "    <tr>\n",
       "      <th>578</th>\n",
       "      <td>ACQ401</td>\n",
       "      <td>March</td>\n",
       "      <td>12.0</td>\n",
       "      <td>2012</td>\n",
       "      <td>Posterous</td>\n",
       "      <td>Blogging platform</td>\n",
       "      <td>other</td>\n",
       "      <td>NaN</td>\n",
       "      <td>unclear</td>\n",
       "      <td>Twitter</td>\n",
       "      <td>Twitter-Posterous</td>\n",
       "    </tr>\n",
       "    <tr>\n",
       "      <th>596</th>\n",
       "      <td>ACQ386</td>\n",
       "      <td>June</td>\n",
       "      <td>4.0</td>\n",
       "      <td>2012</td>\n",
       "      <td>Nclud</td>\n",
       "      <td>Boutique design agency</td>\n",
       "      <td>other</td>\n",
       "      <td>NaN</td>\n",
       "      <td>unclear</td>\n",
       "      <td>Twitter</td>\n",
       "      <td>Twitter-Nclud</td>\n",
       "    </tr>\n",
       "    <tr>\n",
       "      <th>607</th>\n",
       "      <td>ACQ376</td>\n",
       "      <td>August</td>\n",
       "      <td>13.0</td>\n",
       "      <td>2012</td>\n",
       "      <td>Clutch.IO</td>\n",
       "      <td>A/B Tester</td>\n",
       "      <td>other</td>\n",
       "      <td>NaN</td>\n",
       "      <td>Design</td>\n",
       "      <td>Twitter</td>\n",
       "      <td>Twitter-Clutch.IO</td>\n",
       "    </tr>\n",
       "    <tr>\n",
       "      <th>618</th>\n",
       "      <td>ACQ366</td>\n",
       "      <td>October</td>\n",
       "      <td>9.0</td>\n",
       "      <td>2012</td>\n",
       "      <td>Vine</td>\n",
       "      <td>Video Sharing Service</td>\n",
       "      <td>other</td>\n",
       "      <td>30.00</td>\n",
       "      <td>unclear</td>\n",
       "      <td>Twitter</td>\n",
       "      <td>Twitter-Vine</td>\n",
       "    </tr>\n",
       "    <tr>\n",
       "      <th>620</th>\n",
       "      <td>ACQ364</td>\n",
       "      <td>October</td>\n",
       "      <td>16.0</td>\n",
       "      <td>2012</td>\n",
       "      <td>Cabana</td>\n",
       "      <td>Mobile app building software</td>\n",
       "      <td>other</td>\n",
       "      <td>NaN</td>\n",
       "      <td>unclear</td>\n",
       "      <td>Twitter</td>\n",
       "      <td>Twitter-Cabana</td>\n",
       "    </tr>\n",
       "    <tr>\n",
       "      <th>633</th>\n",
       "      <td>ACQ352</td>\n",
       "      <td>January</td>\n",
       "      <td>28.0</td>\n",
       "      <td>2013</td>\n",
       "      <td>Crashlytics</td>\n",
       "      <td>Crash reporting</td>\n",
       "      <td>other</td>\n",
       "      <td>100.00</td>\n",
       "      <td>unclear</td>\n",
       "      <td>Twitter</td>\n",
       "      <td>Twitter-Crashlytics</td>\n",
       "    </tr>\n",
       "    <tr>\n",
       "      <th>657</th>\n",
       "      <td>ACQ330</td>\n",
       "      <td>May</td>\n",
       "      <td>9.0</td>\n",
       "      <td>2013</td>\n",
       "      <td>Ubalo</td>\n",
       "      <td>Large-scale computing</td>\n",
       "      <td>other</td>\n",
       "      <td>NaN</td>\n",
       "      <td>unclear</td>\n",
       "      <td>Twitter</td>\n",
       "      <td>Twitter-Ubalo</td>\n",
       "    </tr>\n",
       "    <tr>\n",
       "      <th>662</th>\n",
       "      <td>ACQ326</td>\n",
       "      <td>May</td>\n",
       "      <td>13.0</td>\n",
       "      <td>2013</td>\n",
       "      <td>Lucky Sort</td>\n",
       "      <td>Big Data visualization</td>\n",
       "      <td>other</td>\n",
       "      <td>NaN</td>\n",
       "      <td>unclear</td>\n",
       "      <td>Twitter</td>\n",
       "      <td>Twitter-Lucky Sort</td>\n",
       "    </tr>\n",
       "    <tr>\n",
       "      <th>687</th>\n",
       "      <td>ACQ303</td>\n",
       "      <td>August</td>\n",
       "      <td>13.0</td>\n",
       "      <td>2013</td>\n",
       "      <td>Marakana</td>\n",
       "      <td>Training services</td>\n",
       "      <td>other</td>\n",
       "      <td>NaN</td>\n",
       "      <td>unclear</td>\n",
       "      <td>Twitter</td>\n",
       "      <td>Twitter-Marakana</td>\n",
       "    </tr>\n",
       "    <tr>\n",
       "      <th>694</th>\n",
       "      <td>ACQ298</td>\n",
       "      <td>August</td>\n",
       "      <td>28.0</td>\n",
       "      <td>2013</td>\n",
       "      <td>Trendrr</td>\n",
       "      <td>Advertising solutions</td>\n",
       "      <td>other</td>\n",
       "      <td>NaN</td>\n",
       "      <td>unclear</td>\n",
       "      <td>Twitter</td>\n",
       "      <td>Twitter-Trendrr</td>\n",
       "    </tr>\n",
       "    <tr>\n",
       "      <th>696</th>\n",
       "      <td>ACQ296</td>\n",
       "      <td>September</td>\n",
       "      <td>9.0</td>\n",
       "      <td>2013</td>\n",
       "      <td>MoPub</td>\n",
       "      <td>Advertising solutions</td>\n",
       "      <td>other</td>\n",
       "      <td>350.00</td>\n",
       "      <td>unclear</td>\n",
       "      <td>Twitter</td>\n",
       "      <td>Twitter-MoPub</td>\n",
       "    </tr>\n",
       "    <tr>\n",
       "      <th>717</th>\n",
       "      <td>ACQ277</td>\n",
       "      <td>December</td>\n",
       "      <td>2.0</td>\n",
       "      <td>2013</td>\n",
       "      <td>SkyPhrase</td>\n",
       "      <td>Natural Language Processing</td>\n",
       "      <td>other</td>\n",
       "      <td>NaN</td>\n",
       "      <td>unclear</td>\n",
       "      <td>Yahoo</td>\n",
       "      <td>Yahoo-SkyPhrase</td>\n",
       "    </tr>\n",
       "    <tr>\n",
       "      <th>744</th>\n",
       "      <td>ACQ252</td>\n",
       "      <td>January</td>\n",
       "      <td>24.0</td>\n",
       "      <td>2014</td>\n",
       "      <td>Cloud Party</td>\n",
       "      <td>Virtual world gaming</td>\n",
       "      <td>other</td>\n",
       "      <td>NaN</td>\n",
       "      <td>unclear</td>\n",
       "      <td>Yahoo</td>\n",
       "      <td>Yahoo-Cloud Party</td>\n",
       "    </tr>\n",
       "    <tr>\n",
       "      <th>763</th>\n",
       "      <td>ACQ235</td>\n",
       "      <td>April</td>\n",
       "      <td>7.0</td>\n",
       "      <td>2014</td>\n",
       "      <td>Cover</td>\n",
       "      <td>Android Lockscreen App</td>\n",
       "      <td>other</td>\n",
       "      <td>NaN</td>\n",
       "      <td>unclear</td>\n",
       "      <td>Twitter</td>\n",
       "      <td>Twitter-Cover</td>\n",
       "    </tr>\n",
       "    <tr>\n",
       "      <th>766</th>\n",
       "      <td>ACQ232</td>\n",
       "      <td>April</td>\n",
       "      <td>15.0</td>\n",
       "      <td>2014</td>\n",
       "      <td>Gnip</td>\n",
       "      <td>Data reseller</td>\n",
       "      <td>other</td>\n",
       "      <td>134.00</td>\n",
       "      <td>unclear</td>\n",
       "      <td>Twitter</td>\n",
       "      <td>Twitter-Gnip</td>\n",
       "    </tr>\n",
       "    <tr>\n",
       "      <th>781</th>\n",
       "      <td>ACQ219</td>\n",
       "      <td>June</td>\n",
       "      <td>5.0</td>\n",
       "      <td>2014</td>\n",
       "      <td>TapCommerce</td>\n",
       "      <td>Mobile app install ads</td>\n",
       "      <td>other</td>\n",
       "      <td>100.00</td>\n",
       "      <td>unclear</td>\n",
       "      <td>Twitter</td>\n",
       "      <td>Twitter-TapCommerce</td>\n",
       "    </tr>\n",
       "    <tr>\n",
       "      <th>782</th>\n",
       "      <td>ACQ218</td>\n",
       "      <td>June</td>\n",
       "      <td>5.0</td>\n",
       "      <td>2014</td>\n",
       "      <td>Namo Media</td>\n",
       "      <td>Native mobile advertising</td>\n",
       "      <td>other</td>\n",
       "      <td>50.00</td>\n",
       "      <td>MoPub</td>\n",
       "      <td>Twitter</td>\n",
       "      <td>Twitter-Namo Media</td>\n",
       "    </tr>\n",
       "    <tr>\n",
       "      <th>788</th>\n",
       "      <td>ACQ212</td>\n",
       "      <td>June</td>\n",
       "      <td>19.0</td>\n",
       "      <td>2014</td>\n",
       "      <td>SnappyTV</td>\n",
       "      <td>Live Clipping Service</td>\n",
       "      <td>other</td>\n",
       "      <td>NaN</td>\n",
       "      <td>unclear</td>\n",
       "      <td>Twitter</td>\n",
       "      <td>Twitter-SnappyTV</td>\n",
       "    </tr>\n",
       "    <tr>\n",
       "      <th>801</th>\n",
       "      <td>ACQ200</td>\n",
       "      <td>July</td>\n",
       "      <td>29.0</td>\n",
       "      <td>2014</td>\n",
       "      <td>CardSpring</td>\n",
       "      <td>Payment application platform</td>\n",
       "      <td>other</td>\n",
       "      <td>NaN</td>\n",
       "      <td>Commerce</td>\n",
       "      <td>Twitter</td>\n",
       "      <td>Twitter-CardSpring</td>\n",
       "    </tr>\n",
       "    <tr>\n",
       "      <th>807</th>\n",
       "      <td>ACQ196</td>\n",
       "      <td>August</td>\n",
       "      <td>1.0</td>\n",
       "      <td>2014</td>\n",
       "      <td>Mitro</td>\n",
       "      <td>Password security</td>\n",
       "      <td>other</td>\n",
       "      <td>NaN</td>\n",
       "      <td>unclear</td>\n",
       "      <td>Twitter</td>\n",
       "      <td>Twitter-Mitro</td>\n",
       "    </tr>\n",
       "    <tr>\n",
       "      <th>829</th>\n",
       "      <td>ACQ176</td>\n",
       "      <td>October</td>\n",
       "      <td>25.0</td>\n",
       "      <td>2014</td>\n",
       "      <td>Twitpic</td>\n",
       "      <td>Photo-Sharing Website</td>\n",
       "      <td>other</td>\n",
       "      <td>NaN</td>\n",
       "      <td>unclear</td>\n",
       "      <td>Twitter</td>\n",
       "      <td>Twitter-Twitpic</td>\n",
       "    </tr>\n",
       "    <tr>\n",
       "      <th>851</th>\n",
       "      <td>ACQ156</td>\n",
       "      <td>February</td>\n",
       "      <td>11.0</td>\n",
       "      <td>2015</td>\n",
       "      <td>Niche</td>\n",
       "      <td>Advertising</td>\n",
       "      <td>other</td>\n",
       "      <td>NaN</td>\n",
       "      <td>unclear</td>\n",
       "      <td>Twitter</td>\n",
       "      <td>Twitter-Niche</td>\n",
       "    </tr>\n",
       "    <tr>\n",
       "      <th>856</th>\n",
       "      <td>ACQ151</td>\n",
       "      <td>March</td>\n",
       "      <td>9.0</td>\n",
       "      <td>2015</td>\n",
       "      <td>Periscope (app)</td>\n",
       "      <td>Live-Video Streaming</td>\n",
       "      <td>other</td>\n",
       "      <td>100.00</td>\n",
       "      <td>unclear</td>\n",
       "      <td>Twitter</td>\n",
       "      <td>Twitter-Periscope (app)</td>\n",
       "    </tr>\n",
       "    <tr>\n",
       "      <th>863</th>\n",
       "      <td>ACQ145</td>\n",
       "      <td>April</td>\n",
       "      <td>2.0</td>\n",
       "      <td>2015</td>\n",
       "      <td>TenXer</td>\n",
       "      <td>Collaboration Platform</td>\n",
       "      <td>other</td>\n",
       "      <td>50.00</td>\n",
       "      <td>unclear</td>\n",
       "      <td>Twitter</td>\n",
       "      <td>Twitter-TenXer</td>\n",
       "    </tr>\n",
       "    <tr>\n",
       "      <th>871</th>\n",
       "      <td>ACQ138</td>\n",
       "      <td>April</td>\n",
       "      <td>28.0</td>\n",
       "      <td>2015</td>\n",
       "      <td>TellApart</td>\n",
       "      <td>Advertising</td>\n",
       "      <td>other</td>\n",
       "      <td>479.00</td>\n",
       "      <td>unclear</td>\n",
       "      <td>Twitter</td>\n",
       "      <td>Twitter-TellApart</td>\n",
       "    </tr>\n",
       "    <tr>\n",
       "      <th>906</th>\n",
       "      <td>ACQ106</td>\n",
       "      <td>October</td>\n",
       "      <td>21.0</td>\n",
       "      <td>2015</td>\n",
       "      <td>Fastlane</td>\n",
       "      <td>Deployment Services</td>\n",
       "      <td>other</td>\n",
       "      <td>NaN</td>\n",
       "      <td>unclear</td>\n",
       "      <td>Twitter</td>\n",
       "      <td>Twitter-Fastlane</td>\n",
       "    </tr>\n",
       "  </tbody>\n",
       "</table>\n",
       "</div>"
      ],
      "text/plain": [
       "    acquisition_id acquisition_month  acquisition_monthdate  acquisition_year  \\\n",
       "402         ACQ560          November                   24.0              2008   \n",
       "430         ACQ535          December                   23.0              2009   \n",
       "448         ACQ519             April                   23.0              2010   \n",
       "458          ACQ51           October                   11.0              2016   \n",
       "465         ACQ503              June                   10.0              2010   \n",
       "469          ACQ50           October                   24.0              2016   \n",
       "505         ACQ468          December                   21.0              2010   \n",
       "525          ACQ45          November                   21.0              2016   \n",
       "528         ACQ447              June                    1.0              2011   \n",
       "535         ACQ440              July                    5.0              2011   \n",
       "543         ACQ433            August                    8.0              2011   \n",
       "551         ACQ426         September                   21.0              2011   \n",
       "562         ACQ416          November                   28.0              2011   \n",
       "573         ACQ406           January                   19.0              2012   \n",
       "574         ACQ405           January                   24.0              2012   \n",
       "578         ACQ401             March                   12.0              2012   \n",
       "596         ACQ386              June                    4.0              2012   \n",
       "607         ACQ376            August                   13.0              2012   \n",
       "618         ACQ366           October                    9.0              2012   \n",
       "620         ACQ364           October                   16.0              2012   \n",
       "633         ACQ352           January                   28.0              2013   \n",
       "657         ACQ330               May                    9.0              2013   \n",
       "662         ACQ326               May                   13.0              2013   \n",
       "687         ACQ303            August                   13.0              2013   \n",
       "694         ACQ298            August                   28.0              2013   \n",
       "696         ACQ296         September                    9.0              2013   \n",
       "717         ACQ277          December                    2.0              2013   \n",
       "744         ACQ252           January                   24.0              2014   \n",
       "763         ACQ235             April                    7.0              2014   \n",
       "766         ACQ232             April                   15.0              2014   \n",
       "781         ACQ219              June                    5.0              2014   \n",
       "782         ACQ218              June                    5.0              2014   \n",
       "788         ACQ212              June                   19.0              2014   \n",
       "801         ACQ200              July                   29.0              2014   \n",
       "807         ACQ196            August                    1.0              2014   \n",
       "829         ACQ176           October                   25.0              2014   \n",
       "851         ACQ156          February                   11.0              2015   \n",
       "856         ACQ151             March                    9.0              2015   \n",
       "863         ACQ145             April                    2.0              2015   \n",
       "871         ACQ138             April                   28.0              2015   \n",
       "906         ACQ106           October                   21.0              2015   \n",
       "\n",
       "         acquired_company                                business country  \\\n",
       "402           Values of n             Social software development   other   \n",
       "430            Mixer labs             Location information engine   other   \n",
       "448           Cloudhopper                        Mobile messaging   other   \n",
       "458               FameBit                         Branded content   other   \n",
       "465  Smallthought Systems                 Databases and analytics   other   \n",
       "469            Eyefluence           Eye tracking, virtual reality   other   \n",
       "505               Fluther                             Q&A service   other   \n",
       "525              Qwiklabs  Cloud based hands-on training platform   other   \n",
       "528                AdGrok                             Advertising   other   \n",
       "535              BackType                        Social analytics   other   \n",
       "543              Bagcheck            Social sharing and discovery   other   \n",
       "551                Julpan          Real-time social search engine   other   \n",
       "562       Whisper Systems             Mobile privacy and security   other   \n",
       "573               Summify                             Social news   other   \n",
       "574               Dasient                       Internet security   other   \n",
       "578             Posterous                       Blogging platform   other   \n",
       "596                 Nclud                  Boutique design agency   other   \n",
       "607             Clutch.IO                              A/B Tester   other   \n",
       "618                  Vine                   Video Sharing Service   other   \n",
       "620                Cabana            Mobile app building software   other   \n",
       "633           Crashlytics                         Crash reporting   other   \n",
       "657                 Ubalo                   Large-scale computing   other   \n",
       "662            Lucky Sort                  Big Data visualization   other   \n",
       "687              Marakana                       Training services   other   \n",
       "694               Trendrr                   Advertising solutions   other   \n",
       "696                 MoPub                   Advertising solutions   other   \n",
       "717             SkyPhrase             Natural Language Processing   other   \n",
       "744           Cloud Party                    Virtual world gaming   other   \n",
       "763                 Cover                  Android Lockscreen App   other   \n",
       "766                  Gnip                           Data reseller   other   \n",
       "781           TapCommerce                  Mobile app install ads   other   \n",
       "782            Namo Media               Native mobile advertising   other   \n",
       "788              SnappyTV                   Live Clipping Service   other   \n",
       "801            CardSpring            Payment application platform   other   \n",
       "807                 Mitro                       Password security   other   \n",
       "829               Twitpic                   Photo-Sharing Website   other   \n",
       "851                 Niche                             Advertising   other   \n",
       "856       Periscope (app)                    Live-Video Streaming   other   \n",
       "863                TenXer                  Collaboration Platform   other   \n",
       "871             TellApart                             Advertising   other   \n",
       "906              Fastlane                     Deployment Services   other   \n",
       "\n",
       "     acquistion_price(mil_usd)       derived_products acquiring_company  \\\n",
       "402                        NaN                unclear           Twitter   \n",
       "430                       5.17                unclear           Twitter   \n",
       "448                        NaN                unclear           Twitter   \n",
       "458                        NaN                YouTube            Google   \n",
       "465                        NaN        Analytics tools           Twitter   \n",
       "469                        NaN              Google VR            Google   \n",
       "505                        NaN                unclear           Twitter   \n",
       "525                        NaN  Google Cloud Platform            Google   \n",
       "528                        NaN                unclear           Twitter   \n",
       "535                        NaN                unclear           Twitter   \n",
       "543                        NaN                unclear           Twitter   \n",
       "551                        NaN                unclear           Twitter   \n",
       "562                        NaN                unclear           Twitter   \n",
       "573                        NaN                unclear           Twitter   \n",
       "574                        NaN           Revenue team           Twitter   \n",
       "578                        NaN                unclear           Twitter   \n",
       "596                        NaN                unclear           Twitter   \n",
       "607                        NaN                 Design           Twitter   \n",
       "618                      30.00                unclear           Twitter   \n",
       "620                        NaN                unclear           Twitter   \n",
       "633                     100.00                unclear           Twitter   \n",
       "657                        NaN                unclear           Twitter   \n",
       "662                        NaN                unclear           Twitter   \n",
       "687                        NaN                unclear           Twitter   \n",
       "694                        NaN                unclear           Twitter   \n",
       "696                     350.00                unclear           Twitter   \n",
       "717                        NaN                unclear             Yahoo   \n",
       "744                        NaN                unclear             Yahoo   \n",
       "763                        NaN                unclear           Twitter   \n",
       "766                     134.00                unclear           Twitter   \n",
       "781                     100.00                unclear           Twitter   \n",
       "782                      50.00                  MoPub           Twitter   \n",
       "788                        NaN                unclear           Twitter   \n",
       "801                        NaN               Commerce           Twitter   \n",
       "807                        NaN                unclear           Twitter   \n",
       "829                        NaN                unclear           Twitter   \n",
       "851                        NaN                unclear           Twitter   \n",
       "856                     100.00                unclear           Twitter   \n",
       "863                      50.00                unclear           Twitter   \n",
       "871                     479.00                unclear           Twitter   \n",
       "906                        NaN                unclear           Twitter   \n",
       "\n",
       "                  parent-acquired  \n",
       "402           Twitter-Values of n  \n",
       "430            Twitter-Mixer labs  \n",
       "448           Twitter-Cloudhopper  \n",
       "458                Google-FameBit  \n",
       "465  Twitter-Smallthought Systems  \n",
       "469             Google-Eyefluence  \n",
       "505               Twitter-Fluther  \n",
       "525               Google-Qwiklabs  \n",
       "528                Twitter-AdGrok  \n",
       "535              Twitter-BackType  \n",
       "543              Twitter-Bagcheck  \n",
       "551                Twitter-Julpan  \n",
       "562       Twitter-Whisper Systems  \n",
       "573               Twitter-Summify  \n",
       "574               Twitter-Dasient  \n",
       "578             Twitter-Posterous  \n",
       "596                 Twitter-Nclud  \n",
       "607             Twitter-Clutch.IO  \n",
       "618                  Twitter-Vine  \n",
       "620                Twitter-Cabana  \n",
       "633           Twitter-Crashlytics  \n",
       "657                 Twitter-Ubalo  \n",
       "662            Twitter-Lucky Sort  \n",
       "687              Twitter-Marakana  \n",
       "694               Twitter-Trendrr  \n",
       "696                 Twitter-MoPub  \n",
       "717               Yahoo-SkyPhrase  \n",
       "744             Yahoo-Cloud Party  \n",
       "763                 Twitter-Cover  \n",
       "766                  Twitter-Gnip  \n",
       "781           Twitter-TapCommerce  \n",
       "782            Twitter-Namo Media  \n",
       "788              Twitter-SnappyTV  \n",
       "801            Twitter-CardSpring  \n",
       "807                 Twitter-Mitro  \n",
       "829               Twitter-Twitpic  \n",
       "851                 Twitter-Niche  \n",
       "856       Twitter-Periscope (app)  \n",
       "863                Twitter-TenXer  \n",
       "871             Twitter-TellApart  \n",
       "906              Twitter-Fastlane  "
      ]
     },
     "execution_count": 91,
     "metadata": {},
     "output_type": "execute_result"
    }
   ],
   "source": [
    "data[data['country']=='other']"
   ]
  },
  {
   "cell_type": "code",
   "execution_count": 92,
   "id": "41269cc0",
   "metadata": {},
   "outputs": [
    {
     "data": {
      "text/html": [
       "<div>\n",
       "<style scoped>\n",
       "    .dataframe tbody tr th:only-of-type {\n",
       "        vertical-align: middle;\n",
       "    }\n",
       "\n",
       "    .dataframe tbody tr th {\n",
       "        vertical-align: top;\n",
       "    }\n",
       "\n",
       "    .dataframe thead th {\n",
       "        text-align: right;\n",
       "    }\n",
       "</style>\n",
       "<table border=\"1\" class=\"dataframe\">\n",
       "  <thead>\n",
       "    <tr style=\"text-align: right;\">\n",
       "      <th></th>\n",
       "      <th>acquisition_id</th>\n",
       "      <th>acquisition_month</th>\n",
       "      <th>acquisition_monthdate</th>\n",
       "      <th>acquisition_year</th>\n",
       "      <th>acquired_company</th>\n",
       "      <th>business</th>\n",
       "      <th>country</th>\n",
       "      <th>acquistion_price(mil_usd)</th>\n",
       "      <th>derived_products</th>\n",
       "      <th>acquiring_company</th>\n",
       "      <th>parent-acquired</th>\n",
       "    </tr>\n",
       "  </thead>\n",
       "  <tbody>\n",
       "    <tr>\n",
       "      <th>167</th>\n",
       "      <td>ACQ772</td>\n",
       "      <td>March</td>\n",
       "      <td>26.0</td>\n",
       "      <td>2004</td>\n",
       "      <td>Kelkoo</td>\n",
       "      <td>Price comparison service</td>\n",
       "      <td>EU</td>\n",
       "      <td>579.0</td>\n",
       "      <td>Kelkoo</td>\n",
       "      <td>Yahoo</td>\n",
       "      <td>Yahoo-Kelkoo</td>\n",
       "    </tr>\n",
       "    <tr>\n",
       "      <th>185</th>\n",
       "      <td>ACQ756</td>\n",
       "      <td>October</td>\n",
       "      <td>2.0</td>\n",
       "      <td>2004</td>\n",
       "      <td>The All-Seeing Eye</td>\n",
       "      <td>Game server browser</td>\n",
       "      <td>EU</td>\n",
       "      <td>NaN</td>\n",
       "      <td>Yahoo! Games</td>\n",
       "      <td>Yahoo</td>\n",
       "      <td>Yahoo-The All-Seeing Eye</td>\n",
       "    </tr>\n",
       "    <tr>\n",
       "      <th>300</th>\n",
       "      <td>ACQ652</td>\n",
       "      <td>November</td>\n",
       "      <td>17.0</td>\n",
       "      <td>2006</td>\n",
       "      <td>Kenet Works</td>\n",
       "      <td>Mobile software</td>\n",
       "      <td>EU</td>\n",
       "      <td>25.0</td>\n",
       "      <td>Yahoo! Mobile</td>\n",
       "      <td>Yahoo</td>\n",
       "      <td>Yahoo-Kenet Works</td>\n",
       "    </tr>\n",
       "  </tbody>\n",
       "</table>\n",
       "</div>"
      ],
      "text/plain": [
       "    acquisition_id acquisition_month  acquisition_monthdate  acquisition_year  \\\n",
       "167         ACQ772             March                   26.0              2004   \n",
       "185         ACQ756           October                    2.0              2004   \n",
       "300         ACQ652          November                   17.0              2006   \n",
       "\n",
       "       acquired_company                  business country  \\\n",
       "167              Kelkoo  Price comparison service      EU   \n",
       "185  The All-Seeing Eye       Game server browser      EU   \n",
       "300         Kenet Works           Mobile software      EU   \n",
       "\n",
       "     acquistion_price(mil_usd) derived_products acquiring_company  \\\n",
       "167                      579.0           Kelkoo             Yahoo   \n",
       "185                        NaN     Yahoo! Games             Yahoo   \n",
       "300                       25.0    Yahoo! Mobile             Yahoo   \n",
       "\n",
       "              parent-acquired  \n",
       "167              Yahoo-Kelkoo  \n",
       "185  Yahoo-The All-Seeing Eye  \n",
       "300         Yahoo-Kenet Works  "
      ]
     },
     "execution_count": 92,
     "metadata": {},
     "output_type": "execute_result"
    }
   ],
   "source": [
    "data[data['country']=='EU']"
   ]
  },
  {
   "cell_type": "code",
   "execution_count": 93,
   "id": "af1c1dc4",
   "metadata": {},
   "outputs": [],
   "source": [
    "data.country = list(map(lambda x,y: 'CAN' if x == 'other' and y == 'Smallthought Systems' else ('CAN' if x== 'other' and y == 'Summify' else x), data.country, data.acquired_company))"
   ]
  },
  {
   "cell_type": "code",
   "execution_count": 94,
   "id": "ae574371",
   "metadata": {},
   "outputs": [],
   "source": [
    "data.country = list(map(lambda x,y: 'UK' if x == 'EU' and y == 'Kelkoo' else ('FIN' if x== 'EU' and y == 'The All-Seeing Eye' else 'SWE' if x== 'EU' and y == 'Kenet Works' else x), data.country, data.acquired_company))"
   ]
  },
  {
   "cell_type": "code",
   "execution_count": 95,
   "id": "e2f69234",
   "metadata": {},
   "outputs": [],
   "source": [
    "#data['country'].value_counts()"
   ]
  },
  {
   "cell_type": "code",
   "execution_count": 96,
   "id": "bde204dd",
   "metadata": {},
   "outputs": [],
   "source": [
    "def othercountry(text):\n",
    "    if text ==\"other\":\n",
    "        return 'USA'\n",
    "    else:\n",
    "        return text"
   ]
  },
  {
   "cell_type": "code",
   "execution_count": 97,
   "id": "4f3fe942",
   "metadata": {},
   "outputs": [],
   "source": [
    "data['country']=data['country'].apply(othercountry)"
   ]
  },
  {
   "cell_type": "code",
   "execution_count": 98,
   "id": "b14bd5c6",
   "metadata": {},
   "outputs": [],
   "source": [
    "#data['country'].value_counts()"
   ]
  },
  {
   "cell_type": "code",
   "execution_count": 99,
   "id": "2eb16834",
   "metadata": {},
   "outputs": [
    {
     "data": {
      "text/html": [
       "<div>\n",
       "<style scoped>\n",
       "    .dataframe tbody tr th:only-of-type {\n",
       "        vertical-align: middle;\n",
       "    }\n",
       "\n",
       "    .dataframe tbody tr th {\n",
       "        vertical-align: top;\n",
       "    }\n",
       "\n",
       "    .dataframe thead th {\n",
       "        text-align: right;\n",
       "    }\n",
       "</style>\n",
       "<table border=\"1\" class=\"dataframe\">\n",
       "  <thead>\n",
       "    <tr style=\"text-align: right;\">\n",
       "      <th></th>\n",
       "      <th>Country</th>\n",
       "      <th>Number of Acquisitions</th>\n",
       "    </tr>\n",
       "  </thead>\n",
       "  <tbody>\n",
       "    <tr>\n",
       "      <th>0</th>\n",
       "      <td>USA</td>\n",
       "      <td>670</td>\n",
       "    </tr>\n",
       "    <tr>\n",
       "      <th>1</th>\n",
       "      <td>CAN</td>\n",
       "      <td>48</td>\n",
       "    </tr>\n",
       "    <tr>\n",
       "      <th>2</th>\n",
       "      <td>UK</td>\n",
       "      <td>35</td>\n",
       "    </tr>\n",
       "    <tr>\n",
       "      <th>3</th>\n",
       "      <td>ISR</td>\n",
       "      <td>32</td>\n",
       "    </tr>\n",
       "    <tr>\n",
       "      <th>4</th>\n",
       "      <td>GER</td>\n",
       "      <td>17</td>\n",
       "    </tr>\n",
       "    <tr>\n",
       "      <th>5</th>\n",
       "      <td>FRA</td>\n",
       "      <td>13</td>\n",
       "    </tr>\n",
       "    <tr>\n",
       "      <th>6</th>\n",
       "      <td>SWE</td>\n",
       "      <td>11</td>\n",
       "    </tr>\n",
       "    <tr>\n",
       "      <th>7</th>\n",
       "      <td>AUS</td>\n",
       "      <td>11</td>\n",
       "    </tr>\n",
       "    <tr>\n",
       "      <th>8</th>\n",
       "      <td>IND</td>\n",
       "      <td>8</td>\n",
       "    </tr>\n",
       "    <tr>\n",
       "      <th>9</th>\n",
       "      <td>FIN</td>\n",
       "      <td>8</td>\n",
       "    </tr>\n",
       "    <tr>\n",
       "      <th>10</th>\n",
       "      <td>IRL</td>\n",
       "      <td>6</td>\n",
       "    </tr>\n",
       "    <tr>\n",
       "      <th>11</th>\n",
       "      <td>SUI</td>\n",
       "      <td>5</td>\n",
       "    </tr>\n",
       "    <tr>\n",
       "      <th>12</th>\n",
       "      <td>NED</td>\n",
       "      <td>3</td>\n",
       "    </tr>\n",
       "    <tr>\n",
       "      <th>13</th>\n",
       "      <td>DEN</td>\n",
       "      <td>3</td>\n",
       "    </tr>\n",
       "    <tr>\n",
       "      <th>14</th>\n",
       "      <td>TWN</td>\n",
       "      <td>3</td>\n",
       "    </tr>\n",
       "    <tr>\n",
       "      <th>15</th>\n",
       "      <td>CHN</td>\n",
       "      <td>3</td>\n",
       "    </tr>\n",
       "    <tr>\n",
       "      <th>16</th>\n",
       "      <td>BRA</td>\n",
       "      <td>3</td>\n",
       "    </tr>\n",
       "    <tr>\n",
       "      <th>17</th>\n",
       "      <td>ITA</td>\n",
       "      <td>3</td>\n",
       "    </tr>\n",
       "    <tr>\n",
       "      <th>18</th>\n",
       "      <td>POR</td>\n",
       "      <td>2</td>\n",
       "    </tr>\n",
       "    <tr>\n",
       "      <th>19</th>\n",
       "      <td>ESP</td>\n",
       "      <td>2</td>\n",
       "    </tr>\n",
       "    <tr>\n",
       "      <th>20</th>\n",
       "      <td>NZL</td>\n",
       "      <td>2</td>\n",
       "    </tr>\n",
       "    <tr>\n",
       "      <th>21</th>\n",
       "      <td>CHE</td>\n",
       "      <td>2</td>\n",
       "    </tr>\n",
       "    <tr>\n",
       "      <th>22</th>\n",
       "      <td>NOR</td>\n",
       "      <td>2</td>\n",
       "    </tr>\n",
       "    <tr>\n",
       "      <th>23</th>\n",
       "      <td>SGP</td>\n",
       "      <td>2</td>\n",
       "    </tr>\n",
       "    <tr>\n",
       "      <th>24</th>\n",
       "      <td>BLR</td>\n",
       "      <td>2</td>\n",
       "    </tr>\n",
       "    <tr>\n",
       "      <th>25</th>\n",
       "      <td>IDN</td>\n",
       "      <td>1</td>\n",
       "    </tr>\n",
       "    <tr>\n",
       "      <th>26</th>\n",
       "      <td>JPN</td>\n",
       "      <td>1</td>\n",
       "    </tr>\n",
       "    <tr>\n",
       "      <th>27</th>\n",
       "      <td>AUT</td>\n",
       "      <td>1</td>\n",
       "    </tr>\n",
       "    <tr>\n",
       "      <th>28</th>\n",
       "      <td>UKR</td>\n",
       "      <td>1</td>\n",
       "    </tr>\n",
       "    <tr>\n",
       "      <th>29</th>\n",
       "      <td>LUX</td>\n",
       "      <td>1</td>\n",
       "    </tr>\n",
       "    <tr>\n",
       "      <th>30</th>\n",
       "      <td>GRE</td>\n",
       "      <td>1</td>\n",
       "    </tr>\n",
       "    <tr>\n",
       "      <th>31</th>\n",
       "      <td>MYS</td>\n",
       "      <td>1</td>\n",
       "    </tr>\n",
       "    <tr>\n",
       "      <th>32</th>\n",
       "      <td>JOR</td>\n",
       "      <td>1</td>\n",
       "    </tr>\n",
       "    <tr>\n",
       "      <th>33</th>\n",
       "      <td>HKG</td>\n",
       "      <td>1</td>\n",
       "    </tr>\n",
       "    <tr>\n",
       "      <th>34</th>\n",
       "      <td>KOR</td>\n",
       "      <td>1</td>\n",
       "    </tr>\n",
       "    <tr>\n",
       "      <th>35</th>\n",
       "      <td>BEL</td>\n",
       "      <td>1</td>\n",
       "    </tr>\n",
       "    <tr>\n",
       "      <th>36</th>\n",
       "      <td>THA</td>\n",
       "      <td>1</td>\n",
       "    </tr>\n",
       "    <tr>\n",
       "      <th>37</th>\n",
       "      <td>ROU</td>\n",
       "      <td>1</td>\n",
       "    </tr>\n",
       "  </tbody>\n",
       "</table>\n",
       "</div>"
      ],
      "text/plain": [
       "   Country  Number of Acquisitions\n",
       "0      USA                     670\n",
       "1      CAN                      48\n",
       "2       UK                      35\n",
       "3      ISR                      32\n",
       "4      GER                      17\n",
       "5      FRA                      13\n",
       "6      SWE                      11\n",
       "7      AUS                      11\n",
       "8      IND                       8\n",
       "9      FIN                       8\n",
       "10     IRL                       6\n",
       "11     SUI                       5\n",
       "12     NED                       3\n",
       "13     DEN                       3\n",
       "14     TWN                       3\n",
       "15     CHN                       3\n",
       "16     BRA                       3\n",
       "17     ITA                       3\n",
       "18     POR                       2\n",
       "19     ESP                       2\n",
       "20     NZL                       2\n",
       "21     CHE                       2\n",
       "22     NOR                       2\n",
       "23     SGP                       2\n",
       "24     BLR                       2\n",
       "25     IDN                       1\n",
       "26     JPN                       1\n",
       "27     AUT                       1\n",
       "28     UKR                       1\n",
       "29     LUX                       1\n",
       "30     GRE                       1\n",
       "31     MYS                       1\n",
       "32     JOR                       1\n",
       "33     HKG                       1\n",
       "34     KOR                       1\n",
       "35     BEL                       1\n",
       "36     THA                       1\n",
       "37     ROU                       1"
      ]
     },
     "execution_count": 99,
     "metadata": {},
     "output_type": "execute_result"
    }
   ],
   "source": [
    "acq_by_country=data['country'].value_counts().reset_index()\n",
    "acq_by_country=acq_by_country.rename(columns={'index':'Country','country':'Number of Acquisitions'})\n",
    "acq_by_country"
   ]
  },
  {
   "cell_type": "code",
   "execution_count": 116,
   "id": "8665fc1a",
   "metadata": {},
   "outputs": [
    {
     "data": {
      "image/png": "[encoded data removed]",
      "text/plain": [
       "<Figure size 1440x720 with 1 Axes>"
      ]
     },
     "metadata": {},
     "output_type": "display_data"
    }
   ],
   "source": [
    "plt.figure(figsize=(20, 10))\n",
    "plt.title(\"Acquisitions by Country\",fontsize=20, fontweight=\"bold\")\n",
    "sns.barplot(data=acq_by_country, y=\"Country\",x='Number of Acquisitions')\n",
    "\n",
    "plt.xlabel(\"Number of Acquisitions\", fontsize=25)\n",
    "plt.ylabel(\"Country official Abbreviation\", fontsize=25)\n",
    "sns.despine()\n",
    "plt.rc('xtick',labelsize=20)\n",
    "plt.rc('ytick',labelsize=15);"
   ]
  },
  {
   "cell_type": "code",
   "execution_count": null,
   "id": "74bf0b79",
   "metadata": {},
   "outputs": [],
   "source": []
  },
  {
   "cell_type": "code",
   "execution_count": 115,
   "id": "78beecc9",
   "metadata": {},
   "outputs": [],
   "source": [
    "data.to_csv('week5projectdata.csv')"
   ]
  },
  {
   "cell_type": "code",
   "execution_count": null,
   "id": "4e1c10b7",
   "metadata": {},
   "outputs": [],
   "source": []
  },
  {
   "cell_type": "code",
   "execution_count": null,
   "id": "1beb427c",
   "metadata": {},
   "outputs": [],
   "source": [
    "data_crosstab = pd.crosstab(data['acquiring_company'], data['business'], margins = False)\n",
    "data_crosstab"
   ]
  }
 ],
 "metadata": {
  "kernelspec": {
   "display_name": "Python 3 (ipykernel)",
   "language": "python",
   "name": "python3"
  },
  "language_info": {
   "codemirror_mode": {
    "name": "ipython",
    "version": 3
   },
   "file_extension": ".py",
   "mimetype": "text/x-python",
   "name": "python",
   "nbconvert_exporter": "python",
   "pygments_lexer": "ipython3",
   "version": "3.9.7"
  },
  "toc": {
   "base_numbering": "",
   "nav_menu": {},
   "number_sections": false,
   "sideBar": true,
   "skip_h1_title": false,
   "title_cell": "Table of Contents",
   "title_sidebar": "Contents",
   "toc_cell": false,
   "toc_position": {
    "height": "calc(100% - 180px)",
    "left": "10px",
    "top": "150px",
    "width": "256px"
   },
   "toc_section_display": true,
   "toc_window_display": false
  }
 },
 "nbformat": 4,
 "nbformat_minor": 5
}
