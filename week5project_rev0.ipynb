{
 "cells": [
  {
   "cell_type": "code",
   "execution_count": 62,
   "id": "885e7289",
   "metadata": {},
   "outputs": [],
   "source": [
    "import pandas as pd\n",
    "import seaborn as sns\n",
    "import matplotlib.pyplot as plt\n",
    "%matplotlib inline\n",
    "import numpy as np\n",
    "import time\n",
    "from datetime import date\n",
    "from datetime import datetime\n",
    "from datetime import timedelta"
   ]
  },
  {
   "cell_type": "code",
   "execution_count": 2,
   "id": "d8255695",
   "metadata": {},
   "outputs": [],
   "source": [
    "#from sklearn.linear_model import LogisticRegression\n",
    "from sklearn.linear_model import LinearRegression\n",
    "from sklearn import linear_model\n",
    "from sklearn.metrics import mean_squared_error, r2_score\n",
    "from sklearn.preprocessing import MinMaxScaler \n",
    "from sklearn.neighbors import KNeighborsRegressor\n",
    "from sklearn.preprocessing import OneHotEncoder\n",
    "from sklearn.preprocessing import StandardScaler\n",
    "from sklearn.model_selection import train_test_split\n",
    "from sklearn.metrics import accuracy_score, precision_score, recall_score, f1_score, cohen_kappa_score\n",
    "from sklearn.metrics import confusion_matrix, ConfusionMatrixDisplay\n",
    "from sklearn.metrics import mean_squared_error, r2_score\n",
    "from sklearn.utils import resample\n",
    "from scipy import stats as st\n",
    "from scipy.stats import chi2_contingency\n",
    "from sklearn.preprocessing import PowerTransformer\n",
    "from sklearn.neural_network import MLPRegressor\n",
    "from sklearn.datasets import make_regression"
   ]
  },
  {
   "cell_type": "markdown",
   "id": "12061a0e",
   "metadata": {},
   "source": [
    "# Project : \n",
    "# Mergers and Acquisitions EDA - focus Tech companies "
   ]
  },
  {
   "cell_type": "markdown",
   "id": "c292232b",
   "metadata": {},
   "source": [
    "## Business Questions:"
   ]
  },
  {
   "cell_type": "markdown",
   "id": "e015c64a",
   "metadata": {},
   "source": [
    "### 1) what is the total number of acquistions year on year. did the acquisition rate increase over years:"
   ]
  },
  {
   "cell_type": "markdown",
   "id": "de76348c",
   "metadata": {},
   "source": [
    "### 2) what is the pattern of acquistion over the years ( in which businesses is MnA concentrated):"
   ]
  },
  {
   "cell_type": "markdown",
   "id": "459ae05b",
   "metadata": {},
   "source": [
    "### 3) Parent compnay ranking by number of acquisitions and total deal value year on year"
   ]
  },
  {
   "cell_type": "markdown",
   "id": "769f3e07",
   "metadata": {},
   "source": [
    "### 4) Countries with the highest acquisition rate year on year ranking and total value"
   ]
  },
  {
   "cell_type": "code",
   "execution_count": null,
   "id": "525c1420",
   "metadata": {},
   "outputs": [],
   "source": []
  },
  {
   "cell_type": "markdown",
   "id": "8ede64c3",
   "metadata": {},
   "source": [
    "load 2 data setsf for comparison and choice of better data quality:"
   ]
  },
  {
   "cell_type": "code",
   "execution_count": 3,
   "id": "e71a0213",
   "metadata": {
    "scrolled": true
   },
   "outputs": [
    {
     "data": {
      "text/html": [
       "<div>\n",
       "<style scoped>\n",
       "    .dataframe tbody tr th:only-of-type {\n",
       "        vertical-align: middle;\n",
       "    }\n",
       "\n",
       "    .dataframe tbody tr th {\n",
       "        vertical-align: top;\n",
       "    }\n",
       "\n",
       "    .dataframe thead th {\n",
       "        text-align: right;\n",
       "    }\n",
       "</style>\n",
       "<table border=\"1\" class=\"dataframe\">\n",
       "  <thead>\n",
       "    <tr style=\"text-align: right;\">\n",
       "      <th></th>\n",
       "      <th>AcquisitionID</th>\n",
       "      <th>AcquisitionMonth</th>\n",
       "      <th>AcquisitionMonthDate</th>\n",
       "      <th>AcquisitionYear</th>\n",
       "      <th>Company</th>\n",
       "      <th>Business</th>\n",
       "      <th>Country</th>\n",
       "      <th>Value (USD)</th>\n",
       "      <th>Derived products</th>\n",
       "      <th>ParentCompany</th>\n",
       "    </tr>\n",
       "  </thead>\n",
       "  <tbody>\n",
       "    <tr>\n",
       "      <th>0</th>\n",
       "      <td>ACQ99</td>\n",
       "      <td>November</td>\n",
       "      <td>11.0</td>\n",
       "      <td>2015</td>\n",
       "      <td>bebop</td>\n",
       "      <td>Cloud software</td>\n",
       "      <td>USA</td>\n",
       "      <td>380000000.0</td>\n",
       "      <td>Google Cloud Platform</td>\n",
       "      <td>Google</td>\n",
       "    </tr>\n",
       "    <tr>\n",
       "      <th>1</th>\n",
       "      <td>ACQ98</td>\n",
       "      <td>November</td>\n",
       "      <td>11.0</td>\n",
       "      <td>2015</td>\n",
       "      <td>Fly Labs</td>\n",
       "      <td>Video editing</td>\n",
       "      <td>USA</td>\n",
       "      <td>NaN</td>\n",
       "      <td>Google Photos</td>\n",
       "      <td>Google</td>\n",
       "    </tr>\n",
       "    <tr>\n",
       "      <th>2</th>\n",
       "      <td>ACQ97</td>\n",
       "      <td>December</td>\n",
       "      <td>8.0</td>\n",
       "      <td>2015</td>\n",
       "      <td>Clearleap</td>\n",
       "      <td>Cloud-based video management</td>\n",
       "      <td>USA</td>\n",
       "      <td>NaN</td>\n",
       "      <td>NaN</td>\n",
       "      <td>IBM</td>\n",
       "    </tr>\n",
       "    <tr>\n",
       "      <th>3</th>\n",
       "      <td>ACQ96</td>\n",
       "      <td>December</td>\n",
       "      <td>18.0</td>\n",
       "      <td>2015</td>\n",
       "      <td>Metanautix</td>\n",
       "      <td>Big Data Analytics</td>\n",
       "      <td>USA</td>\n",
       "      <td>NaN</td>\n",
       "      <td>NaN</td>\n",
       "      <td>Microsoft</td>\n",
       "    </tr>\n",
       "    <tr>\n",
       "      <th>4</th>\n",
       "      <td>ACQ95</td>\n",
       "      <td>December</td>\n",
       "      <td>21.0</td>\n",
       "      <td>2015</td>\n",
       "      <td>Talko, Inc.</td>\n",
       "      <td>Mobile communications</td>\n",
       "      <td>USA</td>\n",
       "      <td>NaN</td>\n",
       "      <td>NaN</td>\n",
       "      <td>Microsoft</td>\n",
       "    </tr>\n",
       "  </tbody>\n",
       "</table>\n",
       "</div>"
      ],
      "text/plain": [
       "  AcquisitionID AcquisitionMonth  AcquisitionMonthDate  AcquisitionYear  \\\n",
       "0         ACQ99         November                  11.0             2015   \n",
       "1         ACQ98         November                  11.0             2015   \n",
       "2         ACQ97         December                   8.0             2015   \n",
       "3         ACQ96         December                  18.0             2015   \n",
       "4         ACQ95         December                  21.0             2015   \n",
       "\n",
       "       Company                      Business Country  Value (USD)  \\\n",
       "0        bebop                Cloud software     USA  380000000.0   \n",
       "1     Fly Labs                 Video editing     USA          NaN   \n",
       "2    Clearleap  Cloud-based video management     USA          NaN   \n",
       "3   Metanautix            Big Data Analytics     USA          NaN   \n",
       "4  Talko, Inc.         Mobile communications     USA          NaN   \n",
       "\n",
       "        Derived products ParentCompany  \n",
       "0  Google Cloud Platform        Google  \n",
       "1          Google Photos        Google  \n",
       "2                    NaN           IBM  \n",
       "3                    NaN     Microsoft  \n",
       "4                    NaN     Microsoft  "
      ]
     },
     "execution_count": 3,
     "metadata": {},
     "output_type": "execute_result"
    }
   ],
   "source": [
    "data= pd.read_csv('acquisitions.csv')\n",
    "data.head()"
   ]
  },
  {
   "cell_type": "code",
   "execution_count": 4,
   "id": "ee2184b4",
   "metadata": {},
   "outputs": [
    {
     "data": {
      "text/plain": [
       "AcquisitionID             0\n",
       "AcquisitionMonth          6\n",
       "AcquisitionMonthDate     33\n",
       "AcquisitionYear           0\n",
       "Company                   0\n",
       "Business                  0\n",
       "Country                  46\n",
       "Value (USD)             671\n",
       "Derived products        515\n",
       "ParentCompany             0\n",
       "dtype: int64"
      ]
     },
     "execution_count": 4,
     "metadata": {},
     "output_type": "execute_result"
    }
   ],
   "source": [
    "data.isna().sum()"
   ]
  },
  {
   "cell_type": "code",
   "execution_count": 5,
   "id": "c9ec1825",
   "metadata": {},
   "outputs": [
    {
     "data": {
      "text/plain": [
       "(916, 114)"
      ]
     },
     "execution_count": 5,
     "metadata": {},
     "output_type": "execute_result"
    }
   ],
   "source": [
    "len(data), len(data.dropna())"
   ]
  },
  {
   "cell_type": "markdown",
   "id": "831f48da",
   "metadata": {},
   "source": [
    "In percentage:"
   ]
  },
  {
   "cell_type": "code",
   "execution_count": 6,
   "id": "a0af659c",
   "metadata": {},
   "outputs": [
    {
     "data": {
      "text/plain": [
       "AcquisitionID            0.000000\n",
       "AcquisitionMonth         0.655022\n",
       "AcquisitionMonthDate     3.602620\n",
       "AcquisitionYear          0.000000\n",
       "Company                  0.000000\n",
       "Business                 0.000000\n",
       "Country                  5.021834\n",
       "Value (USD)             73.253275\n",
       "Derived products        56.222707\n",
       "ParentCompany            0.000000\n",
       "dtype: float64"
      ]
     },
     "execution_count": 6,
     "metadata": {},
     "output_type": "execute_result"
    }
   ],
   "source": [
    "((data.isna().sum())/len(data))*100"
   ]
  },
  {
   "cell_type": "code",
   "execution_count": null,
   "id": "df6ad957",
   "metadata": {},
   "outputs": [],
   "source": []
  },
  {
   "cell_type": "code",
   "execution_count": 7,
   "id": "d8746148",
   "metadata": {},
   "outputs": [
    {
     "data": {
      "text/html": [
       "<div>\n",
       "<style scoped>\n",
       "    .dataframe tbody tr th:only-of-type {\n",
       "        vertical-align: middle;\n",
       "    }\n",
       "\n",
       "    .dataframe tbody tr th {\n",
       "        vertical-align: top;\n",
       "    }\n",
       "\n",
       "    .dataframe thead th {\n",
       "        text-align: right;\n",
       "    }\n",
       "</style>\n",
       "<table border=\"1\" class=\"dataframe\">\n",
       "  <thead>\n",
       "    <tr style=\"text-align: right;\">\n",
       "      <th></th>\n",
       "      <th>ID</th>\n",
       "      <th>Parent Company</th>\n",
       "      <th>Acquisition Year</th>\n",
       "      <th>Acquisition Month</th>\n",
       "      <th>Acquired Company</th>\n",
       "      <th>Business</th>\n",
       "      <th>Country</th>\n",
       "      <th>Acquisition Price</th>\n",
       "      <th>Category</th>\n",
       "      <th>Derived Products</th>\n",
       "    </tr>\n",
       "  </thead>\n",
       "  <tbody>\n",
       "    <tr>\n",
       "      <th>0</th>\n",
       "      <td>1</td>\n",
       "      <td>Apple</td>\n",
       "      <td>1988</td>\n",
       "      <td>Mar</td>\n",
       "      <td>Network Innovations</td>\n",
       "      <td>Software</td>\n",
       "      <td>-</td>\n",
       "      <td>-</td>\n",
       "      <td>-</td>\n",
       "      <td>-</td>\n",
       "    </tr>\n",
       "    <tr>\n",
       "      <th>1</th>\n",
       "      <td>2</td>\n",
       "      <td>Apple</td>\n",
       "      <td>1988</td>\n",
       "      <td>Jun</td>\n",
       "      <td>Orion Network Systems</td>\n",
       "      <td>Computer Software</td>\n",
       "      <td>-</td>\n",
       "      <td>-</td>\n",
       "      <td>-</td>\n",
       "      <td>-</td>\n",
       "    </tr>\n",
       "    <tr>\n",
       "      <th>2</th>\n",
       "      <td>3</td>\n",
       "      <td>Apple</td>\n",
       "      <td>1988</td>\n",
       "      <td>Jun</td>\n",
       "      <td>Styleware</td>\n",
       "      <td>Computer software</td>\n",
       "      <td>-</td>\n",
       "      <td>-</td>\n",
       "      <td>-</td>\n",
       "      <td>-</td>\n",
       "    </tr>\n",
       "    <tr>\n",
       "      <th>3</th>\n",
       "      <td>4</td>\n",
       "      <td>Apple</td>\n",
       "      <td>1988</td>\n",
       "      <td>Jul</td>\n",
       "      <td>Nashoba Systems</td>\n",
       "      <td>Computer software</td>\n",
       "      <td>-</td>\n",
       "      <td>-</td>\n",
       "      <td>-</td>\n",
       "      <td>-</td>\n",
       "    </tr>\n",
       "    <tr>\n",
       "      <th>4</th>\n",
       "      <td>5</td>\n",
       "      <td>Apple</td>\n",
       "      <td>1989</td>\n",
       "      <td>Jan</td>\n",
       "      <td>Coral Software</td>\n",
       "      <td>Computer software</td>\n",
       "      <td>-</td>\n",
       "      <td>-</td>\n",
       "      <td>-</td>\n",
       "      <td>-</td>\n",
       "    </tr>\n",
       "  </tbody>\n",
       "</table>\n",
       "</div>"
      ],
      "text/plain": [
       "   ID Parent Company Acquisition Year Acquisition Month  \\\n",
       "0   1          Apple             1988               Mar   \n",
       "1   2          Apple             1988               Jun   \n",
       "2   3          Apple             1988               Jun   \n",
       "3   4          Apple             1988               Jul   \n",
       "4   5          Apple             1989               Jan   \n",
       "\n",
       "        Acquired Company           Business Country Acquisition Price  \\\n",
       "0    Network Innovations           Software       -                 -   \n",
       "1  Orion Network Systems  Computer Software       -                 -   \n",
       "2              Styleware  Computer software       -                 -   \n",
       "3        Nashoba Systems  Computer software       -                 -   \n",
       "4         Coral Software  Computer software       -                 -   \n",
       "\n",
       "  Category Derived Products  \n",
       "0        -                -  \n",
       "1        -                -  \n",
       "2        -                -  \n",
       "3        -                -  \n",
       "4        -                -  "
      ]
     },
     "execution_count": 7,
     "metadata": {},
     "output_type": "execute_result"
    }
   ],
   "source": [
    "data1= pd.read_excel('acquisitions_update_2021-trial.xlsx')\n",
    "data1.head()"
   ]
  },
  {
   "cell_type": "code",
   "execution_count": 8,
   "id": "3aac769f",
   "metadata": {
    "scrolled": true
   },
   "outputs": [
    {
     "data": {
      "text/plain": [
       "(1455, 1455)"
      ]
     },
     "execution_count": 8,
     "metadata": {},
     "output_type": "execute_result"
    }
   ],
   "source": [
    "len(data1), len(data1.dropna())"
   ]
  },
  {
   "cell_type": "markdown",
   "id": "b0ebd78d",
   "metadata": {},
   "source": [
    "Although data1 ( the updated data file has more rows, it also has no null values. it has a lot of '-'values in updated file. these values are first changed to null values and then the data quality is checked accordingly. "
   ]
  },
  {
   "cell_type": "code",
   "execution_count": 9,
   "id": "1f4d7f9d",
   "metadata": {},
   "outputs": [],
   "source": [
    "data1=data1.replace('-',np.NaN)"
   ]
  },
  {
   "cell_type": "code",
   "execution_count": 10,
   "id": "29c1a35d",
   "metadata": {
    "scrolled": true
   },
   "outputs": [
    {
     "data": {
      "text/plain": [
       "ID                      0\n",
       "Parent Company          0\n",
       "Acquisition Year       28\n",
       "Acquisition Month      58\n",
       "Acquired Company        0\n",
       "Business              274\n",
       "Country              1114\n",
       "Acquisition Price     945\n",
       "Category             1445\n",
       "Derived Products     1052\n",
       "dtype: int64"
      ]
     },
     "execution_count": 10,
     "metadata": {},
     "output_type": "execute_result"
    }
   ],
   "source": [
    "(data1.isna().sum())"
   ]
  },
  {
   "cell_type": "markdown",
   "id": "bcb7d4c5",
   "metadata": {},
   "source": [
    "In percentage:"
   ]
  },
  {
   "cell_type": "code",
   "execution_count": 11,
   "id": "746a89eb",
   "metadata": {},
   "outputs": [
    {
     "data": {
      "text/plain": [
       "ID                    0.000000\n",
       "Parent Company        0.000000\n",
       "Acquisition Year      1.924399\n",
       "Acquisition Month     3.986254\n",
       "Acquired Company      0.000000\n",
       "Business             18.831615\n",
       "Country              76.563574\n",
       "Acquisition Price    64.948454\n",
       "Category             99.312715\n",
       "Derived Products     72.302405\n",
       "dtype: float64"
      ]
     },
     "execution_count": 11,
     "metadata": {},
     "output_type": "execute_result"
    }
   ],
   "source": [
    "((data1.isna().sum())/len(data1))*100"
   ]
  },
  {
   "cell_type": "code",
   "execution_count": 12,
   "id": "d1fc052b",
   "metadata": {},
   "outputs": [
    {
     "data": {
      "text/plain": [
       "(1455, 0)"
      ]
     },
     "execution_count": 12,
     "metadata": {},
     "output_type": "execute_result"
    }
   ],
   "source": [
    "len(data1), len(data1.dropna())"
   ]
  },
  {
   "cell_type": "markdown",
   "id": "c0392853",
   "metadata": {},
   "source": [
    "Given the business questions to be answered, comparing both data sets, the first dataset \"data\" is the preferred choice for the EDA. should there by excess time, data1 can be revisited to extract further inofrmation to further populate  acquistion price"
   ]
  },
  {
   "cell_type": "code",
   "execution_count": 13,
   "id": "438b628a",
   "metadata": {},
   "outputs": [],
   "source": [
    "#data1.loc[1]['Parent Company']"
   ]
  },
  {
   "cell_type": "code",
   "execution_count": 14,
   "id": "e56129af",
   "metadata": {},
   "outputs": [],
   "source": [
    "#data1['Acquired Company']+'-'+data1['Acquired Company']"
   ]
  },
  {
   "cell_type": "code",
   "execution_count": 15,
   "id": "862849d4",
   "metadata": {},
   "outputs": [],
   "source": [
    "data1['parent-acquired'] = data1['Parent Company']+'-'+data1['Acquired Company']"
   ]
  },
  {
   "cell_type": "code",
   "execution_count": 16,
   "id": "7ecb1149",
   "metadata": {},
   "outputs": [
    {
     "data": {
      "text/html": [
       "<div>\n",
       "<style scoped>\n",
       "    .dataframe tbody tr th:only-of-type {\n",
       "        vertical-align: middle;\n",
       "    }\n",
       "\n",
       "    .dataframe tbody tr th {\n",
       "        vertical-align: top;\n",
       "    }\n",
       "\n",
       "    .dataframe thead th {\n",
       "        text-align: right;\n",
       "    }\n",
       "</style>\n",
       "<table border=\"1\" class=\"dataframe\">\n",
       "  <thead>\n",
       "    <tr style=\"text-align: right;\">\n",
       "      <th></th>\n",
       "      <th>ID</th>\n",
       "      <th>Parent Company</th>\n",
       "      <th>Acquisition Year</th>\n",
       "      <th>Acquisition Month</th>\n",
       "      <th>Acquired Company</th>\n",
       "      <th>Business</th>\n",
       "      <th>Country</th>\n",
       "      <th>Acquisition Price</th>\n",
       "      <th>Category</th>\n",
       "      <th>Derived Products</th>\n",
       "      <th>parent-acquired</th>\n",
       "    </tr>\n",
       "  </thead>\n",
       "  <tbody>\n",
       "    <tr>\n",
       "      <th>0</th>\n",
       "      <td>1</td>\n",
       "      <td>Apple</td>\n",
       "      <td>1988.0</td>\n",
       "      <td>Mar</td>\n",
       "      <td>Network Innovations</td>\n",
       "      <td>Software</td>\n",
       "      <td>NaN</td>\n",
       "      <td>NaN</td>\n",
       "      <td>NaN</td>\n",
       "      <td>NaN</td>\n",
       "      <td>Apple-Network Innovations</td>\n",
       "    </tr>\n",
       "    <tr>\n",
       "      <th>1</th>\n",
       "      <td>2</td>\n",
       "      <td>Apple</td>\n",
       "      <td>1988.0</td>\n",
       "      <td>Jun</td>\n",
       "      <td>Orion Network Systems</td>\n",
       "      <td>Computer Software</td>\n",
       "      <td>NaN</td>\n",
       "      <td>NaN</td>\n",
       "      <td>NaN</td>\n",
       "      <td>NaN</td>\n",
       "      <td>Apple-Orion Network Systems</td>\n",
       "    </tr>\n",
       "    <tr>\n",
       "      <th>2</th>\n",
       "      <td>3</td>\n",
       "      <td>Apple</td>\n",
       "      <td>1988.0</td>\n",
       "      <td>Jun</td>\n",
       "      <td>Styleware</td>\n",
       "      <td>Computer software</td>\n",
       "      <td>NaN</td>\n",
       "      <td>NaN</td>\n",
       "      <td>NaN</td>\n",
       "      <td>NaN</td>\n",
       "      <td>Apple-Styleware</td>\n",
       "    </tr>\n",
       "    <tr>\n",
       "      <th>3</th>\n",
       "      <td>4</td>\n",
       "      <td>Apple</td>\n",
       "      <td>1988.0</td>\n",
       "      <td>Jul</td>\n",
       "      <td>Nashoba Systems</td>\n",
       "      <td>Computer software</td>\n",
       "      <td>NaN</td>\n",
       "      <td>NaN</td>\n",
       "      <td>NaN</td>\n",
       "      <td>NaN</td>\n",
       "      <td>Apple-Nashoba Systems</td>\n",
       "    </tr>\n",
       "    <tr>\n",
       "      <th>4</th>\n",
       "      <td>5</td>\n",
       "      <td>Apple</td>\n",
       "      <td>1989.0</td>\n",
       "      <td>Jan</td>\n",
       "      <td>Coral Software</td>\n",
       "      <td>Computer software</td>\n",
       "      <td>NaN</td>\n",
       "      <td>NaN</td>\n",
       "      <td>NaN</td>\n",
       "      <td>NaN</td>\n",
       "      <td>Apple-Coral Software</td>\n",
       "    </tr>\n",
       "  </tbody>\n",
       "</table>\n",
       "</div>"
      ],
      "text/plain": [
       "   ID Parent Company  Acquisition Year Acquisition Month  \\\n",
       "0   1          Apple            1988.0               Mar   \n",
       "1   2          Apple            1988.0               Jun   \n",
       "2   3          Apple            1988.0               Jun   \n",
       "3   4          Apple            1988.0               Jul   \n",
       "4   5          Apple            1989.0               Jan   \n",
       "\n",
       "        Acquired Company           Business Country Acquisition Price  \\\n",
       "0    Network Innovations           Software     NaN               NaN   \n",
       "1  Orion Network Systems  Computer Software     NaN               NaN   \n",
       "2              Styleware  Computer software     NaN               NaN   \n",
       "3        Nashoba Systems  Computer software     NaN               NaN   \n",
       "4         Coral Software  Computer software     NaN               NaN   \n",
       "\n",
       "  Category Derived Products              parent-acquired  \n",
       "0      NaN              NaN    Apple-Network Innovations  \n",
       "1      NaN              NaN  Apple-Orion Network Systems  \n",
       "2      NaN              NaN              Apple-Styleware  \n",
       "3      NaN              NaN        Apple-Nashoba Systems  \n",
       "4      NaN              NaN         Apple-Coral Software  "
      ]
     },
     "execution_count": 16,
     "metadata": {},
     "output_type": "execute_result"
    }
   ],
   "source": [
    "data1.head()"
   ]
  },
  {
   "cell_type": "code",
   "execution_count": 17,
   "id": "0fe9fbb3",
   "metadata": {},
   "outputs": [],
   "source": [
    "data['parent-acquired']= data['ParentCompany']+'-'+data['Company']"
   ]
  },
  {
   "cell_type": "code",
   "execution_count": 18,
   "id": "6ca7354a",
   "metadata": {},
   "outputs": [
    {
     "data": {
      "text/html": [
       "<div>\n",
       "<style scoped>\n",
       "    .dataframe tbody tr th:only-of-type {\n",
       "        vertical-align: middle;\n",
       "    }\n",
       "\n",
       "    .dataframe tbody tr th {\n",
       "        vertical-align: top;\n",
       "    }\n",
       "\n",
       "    .dataframe thead th {\n",
       "        text-align: right;\n",
       "    }\n",
       "</style>\n",
       "<table border=\"1\" class=\"dataframe\">\n",
       "  <thead>\n",
       "    <tr style=\"text-align: right;\">\n",
       "      <th></th>\n",
       "      <th>AcquisitionID</th>\n",
       "      <th>AcquisitionMonth</th>\n",
       "      <th>AcquisitionMonthDate</th>\n",
       "      <th>AcquisitionYear</th>\n",
       "      <th>Company</th>\n",
       "      <th>Business</th>\n",
       "      <th>Country</th>\n",
       "      <th>Value (USD)</th>\n",
       "      <th>Derived products</th>\n",
       "      <th>ParentCompany</th>\n",
       "      <th>parent-acquired</th>\n",
       "    </tr>\n",
       "  </thead>\n",
       "  <tbody>\n",
       "    <tr>\n",
       "      <th>0</th>\n",
       "      <td>ACQ99</td>\n",
       "      <td>November</td>\n",
       "      <td>11.0</td>\n",
       "      <td>2015</td>\n",
       "      <td>bebop</td>\n",
       "      <td>Cloud software</td>\n",
       "      <td>USA</td>\n",
       "      <td>380000000.0</td>\n",
       "      <td>Google Cloud Platform</td>\n",
       "      <td>Google</td>\n",
       "      <td>Google-bebop</td>\n",
       "    </tr>\n",
       "    <tr>\n",
       "      <th>1</th>\n",
       "      <td>ACQ98</td>\n",
       "      <td>November</td>\n",
       "      <td>11.0</td>\n",
       "      <td>2015</td>\n",
       "      <td>Fly Labs</td>\n",
       "      <td>Video editing</td>\n",
       "      <td>USA</td>\n",
       "      <td>NaN</td>\n",
       "      <td>Google Photos</td>\n",
       "      <td>Google</td>\n",
       "      <td>Google-Fly Labs</td>\n",
       "    </tr>\n",
       "    <tr>\n",
       "      <th>2</th>\n",
       "      <td>ACQ97</td>\n",
       "      <td>December</td>\n",
       "      <td>8.0</td>\n",
       "      <td>2015</td>\n",
       "      <td>Clearleap</td>\n",
       "      <td>Cloud-based video management</td>\n",
       "      <td>USA</td>\n",
       "      <td>NaN</td>\n",
       "      <td>NaN</td>\n",
       "      <td>IBM</td>\n",
       "      <td>IBM-Clearleap</td>\n",
       "    </tr>\n",
       "    <tr>\n",
       "      <th>3</th>\n",
       "      <td>ACQ96</td>\n",
       "      <td>December</td>\n",
       "      <td>18.0</td>\n",
       "      <td>2015</td>\n",
       "      <td>Metanautix</td>\n",
       "      <td>Big Data Analytics</td>\n",
       "      <td>USA</td>\n",
       "      <td>NaN</td>\n",
       "      <td>NaN</td>\n",
       "      <td>Microsoft</td>\n",
       "      <td>Microsoft-Metanautix</td>\n",
       "    </tr>\n",
       "    <tr>\n",
       "      <th>4</th>\n",
       "      <td>ACQ95</td>\n",
       "      <td>December</td>\n",
       "      <td>21.0</td>\n",
       "      <td>2015</td>\n",
       "      <td>Talko, Inc.</td>\n",
       "      <td>Mobile communications</td>\n",
       "      <td>USA</td>\n",
       "      <td>NaN</td>\n",
       "      <td>NaN</td>\n",
       "      <td>Microsoft</td>\n",
       "      <td>Microsoft-Talko, Inc.</td>\n",
       "    </tr>\n",
       "  </tbody>\n",
       "</table>\n",
       "</div>"
      ],
      "text/plain": [
       "  AcquisitionID AcquisitionMonth  AcquisitionMonthDate  AcquisitionYear  \\\n",
       "0         ACQ99         November                  11.0             2015   \n",
       "1         ACQ98         November                  11.0             2015   \n",
       "2         ACQ97         December                   8.0             2015   \n",
       "3         ACQ96         December                  18.0             2015   \n",
       "4         ACQ95         December                  21.0             2015   \n",
       "\n",
       "       Company                      Business Country  Value (USD)  \\\n",
       "0        bebop                Cloud software     USA  380000000.0   \n",
       "1     Fly Labs                 Video editing     USA          NaN   \n",
       "2    Clearleap  Cloud-based video management     USA          NaN   \n",
       "3   Metanautix            Big Data Analytics     USA          NaN   \n",
       "4  Talko, Inc.         Mobile communications     USA          NaN   \n",
       "\n",
       "        Derived products ParentCompany        parent-acquired  \n",
       "0  Google Cloud Platform        Google           Google-bebop  \n",
       "1          Google Photos        Google        Google-Fly Labs  \n",
       "2                    NaN           IBM          IBM-Clearleap  \n",
       "3                    NaN     Microsoft   Microsoft-Metanautix  \n",
       "4                    NaN     Microsoft  Microsoft-Talko, Inc.  "
      ]
     },
     "execution_count": 18,
     "metadata": {},
     "output_type": "execute_result"
    }
   ],
   "source": [
    "data.head()"
   ]
  },
  {
   "cell_type": "code",
   "execution_count": 19,
   "id": "a8a4803d",
   "metadata": {},
   "outputs": [],
   "source": [
    "data_data1merge = pd.merge(left = data,\n",
    "                                  right = data1,\n",
    "                                  how = 'left', \n",
    "                                  left_on = \"parent-acquired\", \n",
    "                                  right_on= \"parent-acquired\")"
   ]
  },
  {
   "cell_type": "code",
   "execution_count": 20,
   "id": "9a69670b",
   "metadata": {},
   "outputs": [
    {
     "data": {
      "text/plain": [
       "AcquisitionID             0\n",
       "AcquisitionMonth          6\n",
       "AcquisitionMonthDate     33\n",
       "AcquisitionYear           0\n",
       "Company                   0\n",
       "Business_x                0\n",
       "Country_x                46\n",
       "Value (USD)             671\n",
       "Derived products        515\n",
       "ParentCompany             0\n",
       "parent-acquired           0\n",
       "ID                      307\n",
       "Parent Company          307\n",
       "Acquisition Year        307\n",
       "Acquisition Month       312\n",
       "Acquired Company        307\n",
       "Business_y              374\n",
       "Country_y               835\n",
       "Acquisition Price       726\n",
       "Category                907\n",
       "Derived Products        705\n",
       "dtype: int64"
      ]
     },
     "execution_count": 20,
     "metadata": {},
     "output_type": "execute_result"
    }
   ],
   "source": [
    "data_data1merge.isna().sum()"
   ]
  },
  {
   "cell_type": "code",
   "execution_count": 21,
   "id": "31da4f1a",
   "metadata": {},
   "outputs": [],
   "source": [
    "data_data1merge=data_data1merge.replace('-',np.NaN)"
   ]
  },
  {
   "cell_type": "code",
   "execution_count": null,
   "id": "4149041c",
   "metadata": {},
   "outputs": [],
   "source": []
  },
  {
   "cell_type": "code",
   "execution_count": 22,
   "id": "4b16fe9f",
   "metadata": {},
   "outputs": [
    {
     "data": {
      "text/html": [
       "<div>\n",
       "<style scoped>\n",
       "    .dataframe tbody tr th:only-of-type {\n",
       "        vertical-align: middle;\n",
       "    }\n",
       "\n",
       "    .dataframe tbody tr th {\n",
       "        vertical-align: top;\n",
       "    }\n",
       "\n",
       "    .dataframe thead th {\n",
       "        text-align: right;\n",
       "    }\n",
       "</style>\n",
       "<table border=\"1\" class=\"dataframe\">\n",
       "  <thead>\n",
       "    <tr style=\"text-align: right;\">\n",
       "      <th></th>\n",
       "      <th>acquisitionid</th>\n",
       "      <th>acquisitionmonth</th>\n",
       "      <th>acquisitionmonthdate</th>\n",
       "      <th>acquisitionyear</th>\n",
       "      <th>company</th>\n",
       "      <th>business_x</th>\n",
       "      <th>country_x</th>\n",
       "      <th>value_(usd)</th>\n",
       "      <th>derived_products</th>\n",
       "      <th>parentcompany</th>\n",
       "      <th>...</th>\n",
       "      <th>id</th>\n",
       "      <th>parent_company</th>\n",
       "      <th>acquisition_year</th>\n",
       "      <th>acquisition_month</th>\n",
       "      <th>acquired_company</th>\n",
       "      <th>business_y</th>\n",
       "      <th>country_y</th>\n",
       "      <th>acquisition_price</th>\n",
       "      <th>category</th>\n",
       "      <th>derived_products</th>\n",
       "    </tr>\n",
       "  </thead>\n",
       "  <tbody>\n",
       "    <tr>\n",
       "      <th>0</th>\n",
       "      <td>ACQ99</td>\n",
       "      <td>November</td>\n",
       "      <td>11.0</td>\n",
       "      <td>2015</td>\n",
       "      <td>bebop</td>\n",
       "      <td>Cloud software</td>\n",
       "      <td>USA</td>\n",
       "      <td>380000000.0</td>\n",
       "      <td>Google Cloud Platform</td>\n",
       "      <td>Google</td>\n",
       "      <td>...</td>\n",
       "      <td>611.0</td>\n",
       "      <td>Google</td>\n",
       "      <td>2015.0</td>\n",
       "      <td>Nov</td>\n",
       "      <td>bebop</td>\n",
       "      <td>Cloud software</td>\n",
       "      <td>NaN</td>\n",
       "      <td>380000000</td>\n",
       "      <td>NaN</td>\n",
       "      <td>Google Cloud Platform</td>\n",
       "    </tr>\n",
       "    <tr>\n",
       "      <th>1</th>\n",
       "      <td>ACQ98</td>\n",
       "      <td>November</td>\n",
       "      <td>11.0</td>\n",
       "      <td>2015</td>\n",
       "      <td>Fly Labs</td>\n",
       "      <td>Video editing</td>\n",
       "      <td>USA</td>\n",
       "      <td>NaN</td>\n",
       "      <td>Google Photos</td>\n",
       "      <td>Google</td>\n",
       "      <td>...</td>\n",
       "      <td>610.0</td>\n",
       "      <td>Google</td>\n",
       "      <td>2015.0</td>\n",
       "      <td>Nov</td>\n",
       "      <td>Fly Labs</td>\n",
       "      <td>Video editing</td>\n",
       "      <td>NaN</td>\n",
       "      <td>NaN</td>\n",
       "      <td>NaN</td>\n",
       "      <td>Google Photos</td>\n",
       "    </tr>\n",
       "    <tr>\n",
       "      <th>2</th>\n",
       "      <td>ACQ97</td>\n",
       "      <td>December</td>\n",
       "      <td>8.0</td>\n",
       "      <td>2015</td>\n",
       "      <td>Clearleap</td>\n",
       "      <td>Cloud-based video management</td>\n",
       "      <td>USA</td>\n",
       "      <td>NaN</td>\n",
       "      <td>NaN</td>\n",
       "      <td>IBM</td>\n",
       "      <td>...</td>\n",
       "      <td>NaN</td>\n",
       "      <td>NaN</td>\n",
       "      <td>NaN</td>\n",
       "      <td>NaN</td>\n",
       "      <td>NaN</td>\n",
       "      <td>NaN</td>\n",
       "      <td>NaN</td>\n",
       "      <td>NaN</td>\n",
       "      <td>NaN</td>\n",
       "      <td>NaN</td>\n",
       "    </tr>\n",
       "    <tr>\n",
       "      <th>3</th>\n",
       "      <td>ACQ96</td>\n",
       "      <td>December</td>\n",
       "      <td>18.0</td>\n",
       "      <td>2015</td>\n",
       "      <td>Metanautix</td>\n",
       "      <td>Big Data Analytics</td>\n",
       "      <td>USA</td>\n",
       "      <td>NaN</td>\n",
       "      <td>NaN</td>\n",
       "      <td>Microsoft</td>\n",
       "      <td>...</td>\n",
       "      <td>863.0</td>\n",
       "      <td>Microsoft</td>\n",
       "      <td>2015.0</td>\n",
       "      <td>Dec</td>\n",
       "      <td>Metanautix</td>\n",
       "      <td>Big data analytics</td>\n",
       "      <td>NaN</td>\n",
       "      <td>NaN</td>\n",
       "      <td>NaN</td>\n",
       "      <td>NaN</td>\n",
       "    </tr>\n",
       "    <tr>\n",
       "      <th>4</th>\n",
       "      <td>ACQ95</td>\n",
       "      <td>December</td>\n",
       "      <td>21.0</td>\n",
       "      <td>2015</td>\n",
       "      <td>Talko, Inc.</td>\n",
       "      <td>Mobile communications</td>\n",
       "      <td>USA</td>\n",
       "      <td>NaN</td>\n",
       "      <td>NaN</td>\n",
       "      <td>Microsoft</td>\n",
       "      <td>...</td>\n",
       "      <td>864.0</td>\n",
       "      <td>Microsoft</td>\n",
       "      <td>2015.0</td>\n",
       "      <td>Dec</td>\n",
       "      <td>Talko, Inc.</td>\n",
       "      <td>Mobile communications</td>\n",
       "      <td>NaN</td>\n",
       "      <td>NaN</td>\n",
       "      <td>NaN</td>\n",
       "      <td>NaN</td>\n",
       "    </tr>\n",
       "  </tbody>\n",
       "</table>\n",
       "<p>5 rows × 21 columns</p>\n",
       "</div>"
      ],
      "text/plain": [
       "  acquisitionid acquisitionmonth  acquisitionmonthdate  acquisitionyear  \\\n",
       "0         ACQ99         November                  11.0             2015   \n",
       "1         ACQ98         November                  11.0             2015   \n",
       "2         ACQ97         December                   8.0             2015   \n",
       "3         ACQ96         December                  18.0             2015   \n",
       "4         ACQ95         December                  21.0             2015   \n",
       "\n",
       "       company                    business_x country_x  value_(usd)  \\\n",
       "0        bebop                Cloud software       USA  380000000.0   \n",
       "1     Fly Labs                 Video editing       USA          NaN   \n",
       "2    Clearleap  Cloud-based video management       USA          NaN   \n",
       "3   Metanautix            Big Data Analytics       USA          NaN   \n",
       "4  Talko, Inc.         Mobile communications       USA          NaN   \n",
       "\n",
       "        derived_products parentcompany  ...     id  parent_company  \\\n",
       "0  Google Cloud Platform        Google  ...  611.0          Google   \n",
       "1          Google Photos        Google  ...  610.0          Google   \n",
       "2                    NaN           IBM  ...    NaN             NaN   \n",
       "3                    NaN     Microsoft  ...  863.0       Microsoft   \n",
       "4                    NaN     Microsoft  ...  864.0       Microsoft   \n",
       "\n",
       "  acquisition_year  acquisition_month acquired_company             business_y  \\\n",
       "0           2015.0                Nov            bebop         Cloud software   \n",
       "1           2015.0                Nov         Fly Labs          Video editing   \n",
       "2              NaN                NaN              NaN                    NaN   \n",
       "3           2015.0                Dec       Metanautix     Big data analytics   \n",
       "4           2015.0                Dec      Talko, Inc.  Mobile communications   \n",
       "\n",
       "  country_y acquisition_price category       derived_products  \n",
       "0       NaN         380000000      NaN  Google Cloud Platform  \n",
       "1       NaN               NaN      NaN          Google Photos  \n",
       "2       NaN               NaN      NaN                    NaN  \n",
       "3       NaN               NaN      NaN                    NaN  \n",
       "4       NaN               NaN      NaN                    NaN  \n",
       "\n",
       "[5 rows x 21 columns]"
      ]
     },
     "metadata": {},
     "output_type": "display_data"
    }
   ],
   "source": [
    "new_cols = []\n",
    "def column_names(df):\n",
    "    for i in df.columns:\n",
    "        x = i.lower().replace(' ','_')\n",
    "        new_cols.append(x)\n",
    "    df.columns = new_cols\n",
    "    display(df.head())\n",
    "    \n",
    "column_names(data_data1merge)"
   ]
  },
  {
   "cell_type": "markdown",
   "id": "85d29d4a",
   "metadata": {},
   "source": [
    "df.country = list(map(lambda x,y: 'France' if x == np.nan and y == 'France' else ('Portugal' if x== np.nan and y == 'international' else x), df.country, df.team))"
   ]
  },
  {
   "cell_type": "code",
   "execution_count": 23,
   "id": "e0b7f980",
   "metadata": {},
   "outputs": [
    {
     "name": "stdout",
     "output_type": "stream",
     "text": [
      "<class 'pandas.core.frame.DataFrame'>\n",
      "Int64Index: 916 entries, 0 to 915\n",
      "Data columns (total 21 columns):\n",
      " #   Column                Non-Null Count  Dtype  \n",
      "---  ------                --------------  -----  \n",
      " 0   acquisitionid         916 non-null    object \n",
      " 1   acquisitionmonth      910 non-null    object \n",
      " 2   acquisitionmonthdate  883 non-null    float64\n",
      " 3   acquisitionyear       916 non-null    int64  \n",
      " 4   company               916 non-null    object \n",
      " 5   business_x            916 non-null    object \n",
      " 6   country_x             870 non-null    object \n",
      " 7   value_(usd)           245 non-null    float64\n",
      " 8   derived_products      401 non-null    object \n",
      " 9   parentcompany         916 non-null    object \n",
      " 10  parent-acquired       916 non-null    object \n",
      " 11  id                    609 non-null    float64\n",
      " 12  parent_company        609 non-null    object \n",
      " 13  acquisition_year      609 non-null    float64\n",
      " 14  acquisition_month     604 non-null    object \n",
      " 15  acquired_company      609 non-null    object \n",
      " 16  business_y            542 non-null    object \n",
      " 17  country_y             81 non-null     object \n",
      " 18  acquisition_price     190 non-null    object \n",
      " 19  category              9 non-null      object \n",
      " 20  derived_products      211 non-null    object \n",
      "dtypes: float64(4), int64(1), object(16)\n",
      "memory usage: 157.4+ KB\n"
     ]
    }
   ],
   "source": [
    "data_data1merge.info()"
   ]
  },
  {
   "cell_type": "code",
   "execution_count": 24,
   "id": "c31f538a",
   "metadata": {},
   "outputs": [],
   "source": [
    "data_data1merge['acquisition_price']=pd.to_numeric(data_data1merge['acquisition_price'], errors='coerce')"
   ]
  },
  {
   "cell_type": "code",
   "execution_count": 25,
   "id": "65bea425",
   "metadata": {},
   "outputs": [
    {
     "data": {
      "text/plain": [
       "7"
      ]
     },
     "execution_count": 25,
     "metadata": {},
     "output_type": "execute_result"
    }
   ],
   "source": [
    "list(data_data1merge.columns).index('value_(usd)')"
   ]
  },
  {
   "cell_type": "code",
   "execution_count": 26,
   "id": "b8533d3c",
   "metadata": {},
   "outputs": [
    {
     "data": {
      "text/plain": [
       "18"
      ]
     },
     "execution_count": 26,
     "metadata": {},
     "output_type": "execute_result"
    }
   ],
   "source": [
    "list(data_data1merge.columns).index('acquisition_price')"
   ]
  },
  {
   "cell_type": "code",
   "execution_count": 27,
   "id": "15a698e1",
   "metadata": {},
   "outputs": [],
   "source": [
    "na_in_value_indexes=list(data_data1merge[data_data1merge['value_(usd)'].isna()==True].index)"
   ]
  },
  {
   "cell_type": "code",
   "execution_count": 28,
   "id": "aaca5171",
   "metadata": {},
   "outputs": [],
   "source": [
    "data_data1merge.iloc[na_in_value_indexes,7]=data_data1merge.iloc[na_in_value_indexes,18]\n"
   ]
  },
  {
   "cell_type": "code",
   "execution_count": 29,
   "id": "d3970e69",
   "metadata": {},
   "outputs": [
    {
     "data": {
      "text/plain": [
       "6"
      ]
     },
     "execution_count": 29,
     "metadata": {},
     "output_type": "execute_result"
    }
   ],
   "source": [
    "list (data_data1merge.columns).index('country_x')"
   ]
  },
  {
   "cell_type": "code",
   "execution_count": 30,
   "id": "b272fb44",
   "metadata": {},
   "outputs": [
    {
     "data": {
      "text/plain": [
       "17"
      ]
     },
     "execution_count": 30,
     "metadata": {},
     "output_type": "execute_result"
    }
   ],
   "source": [
    "list(data_data1merge.columns).index('country_y')"
   ]
  },
  {
   "cell_type": "code",
   "execution_count": 31,
   "id": "9bc7e114",
   "metadata": {},
   "outputs": [],
   "source": [
    "na_in_country_indexes=list(data_data1merge[data_data1merge['country_x'].isna()==True].index)"
   ]
  },
  {
   "cell_type": "code",
   "execution_count": 32,
   "id": "aa85cf53",
   "metadata": {},
   "outputs": [],
   "source": [
    "data_data1merge.iloc[na_in_country_indexes,6]=data_data1merge.iloc[na_in_country_indexes,17]"
   ]
  },
  {
   "cell_type": "code",
   "execution_count": 33,
   "id": "c5f38cff",
   "metadata": {},
   "outputs": [
    {
     "name": "stdout",
     "output_type": "stream",
     "text": [
      "<class 'pandas.core.frame.DataFrame'>\n",
      "Int64Index: 916 entries, 0 to 915\n",
      "Data columns (total 21 columns):\n",
      " #   Column                Non-Null Count  Dtype  \n",
      "---  ------                --------------  -----  \n",
      " 0   acquisitionid         916 non-null    object \n",
      " 1   acquisitionmonth      910 non-null    object \n",
      " 2   acquisitionmonthdate  883 non-null    float64\n",
      " 3   acquisitionyear       916 non-null    int64  \n",
      " 4   company               916 non-null    object \n",
      " 5   business_x            916 non-null    object \n",
      " 6   country_x             875 non-null    object \n",
      " 7   value_(usd)           256 non-null    float64\n",
      " 8   derived_products      401 non-null    object \n",
      " 9   parentcompany         916 non-null    object \n",
      " 10  parent-acquired       916 non-null    object \n",
      " 11  id                    609 non-null    float64\n",
      " 12  parent_company        609 non-null    object \n",
      " 13  acquisition_year      609 non-null    float64\n",
      " 14  acquisition_month     604 non-null    object \n",
      " 15  acquired_company      609 non-null    object \n",
      " 16  business_y            542 non-null    object \n",
      " 17  country_y             81 non-null     object \n",
      " 18  acquisition_price     157 non-null    float64\n",
      " 19  category              9 non-null      object \n",
      " 20  derived_products      211 non-null    object \n",
      "dtypes: float64(5), int64(1), object(15)\n",
      "memory usage: 157.4+ KB\n"
     ]
    }
   ],
   "source": [
    "data_data1merge.info()"
   ]
  },
  {
   "cell_type": "code",
   "execution_count": 34,
   "id": "b46f2815",
   "metadata": {},
   "outputs": [
    {
     "data": {
      "text/plain": [
       "'derived_products'"
      ]
     },
     "execution_count": 34,
     "metadata": {},
     "output_type": "execute_result"
    }
   ],
   "source": [
    "list (data_data1merge.columns)[8]"
   ]
  },
  {
   "cell_type": "markdown",
   "id": "40132fdd",
   "metadata": {},
   "source": [
    "na_in_derived_products_indexes=list(data_data1merge[data_data1merge[(data_data1merge.columns)[8]].isna()==True].index)\n",
    "\n",
    "2 columns with the name derived_products resulting in failure to index NaN value. plan: splice rename and concatenate back. "
   ]
  },
  {
   "cell_type": "code",
   "execution_count": 35,
   "id": "60349edc",
   "metadata": {},
   "outputs": [
    {
     "data": {
      "text/plain": [
       "(916, 21)"
      ]
     },
     "execution_count": 35,
     "metadata": {},
     "output_type": "execute_result"
    }
   ],
   "source": [
    "data_data1merge.shape"
   ]
  },
  {
   "cell_type": "code",
   "execution_count": 36,
   "id": "892dc5b9",
   "metadata": {},
   "outputs": [],
   "source": [
    "data1=data_data1merge.iloc[ : , :-1]"
   ]
  },
  {
   "cell_type": "code",
   "execution_count": 37,
   "id": "a2ec71c3",
   "metadata": {},
   "outputs": [
    {
     "data": {
      "text/plain": [
       "(916, 20)"
      ]
     },
     "execution_count": 37,
     "metadata": {},
     "output_type": "execute_result"
    }
   ],
   "source": [
    "data1.shape"
   ]
  },
  {
   "cell_type": "code",
   "execution_count": 38,
   "id": "24b0d4d1",
   "metadata": {},
   "outputs": [],
   "source": [
    "derived_product=data_data1merge.iloc[ : ,20]"
   ]
  },
  {
   "cell_type": "code",
   "execution_count": 39,
   "id": "fe73b0b9",
   "metadata": {},
   "outputs": [
    {
     "data": {
      "text/html": [
       "<div>\n",
       "<style scoped>\n",
       "    .dataframe tbody tr th:only-of-type {\n",
       "        vertical-align: middle;\n",
       "    }\n",
       "\n",
       "    .dataframe tbody tr th {\n",
       "        vertical-align: top;\n",
       "    }\n",
       "\n",
       "    .dataframe thead th {\n",
       "        text-align: right;\n",
       "    }\n",
       "</style>\n",
       "<table border=\"1\" class=\"dataframe\">\n",
       "  <thead>\n",
       "    <tr style=\"text-align: right;\">\n",
       "      <th></th>\n",
       "      <th>derived_products_y</th>\n",
       "    </tr>\n",
       "  </thead>\n",
       "  <tbody>\n",
       "    <tr>\n",
       "      <th>0</th>\n",
       "      <td>Google Cloud Platform</td>\n",
       "    </tr>\n",
       "    <tr>\n",
       "      <th>1</th>\n",
       "      <td>Google Photos</td>\n",
       "    </tr>\n",
       "    <tr>\n",
       "      <th>2</th>\n",
       "      <td>NaN</td>\n",
       "    </tr>\n",
       "    <tr>\n",
       "      <th>3</th>\n",
       "      <td>NaN</td>\n",
       "    </tr>\n",
       "    <tr>\n",
       "      <th>4</th>\n",
       "      <td>NaN</td>\n",
       "    </tr>\n",
       "    <tr>\n",
       "      <th>...</th>\n",
       "      <td>...</td>\n",
       "    </tr>\n",
       "    <tr>\n",
       "      <th>911</th>\n",
       "      <td>NaN</td>\n",
       "    </tr>\n",
       "    <tr>\n",
       "      <th>912</th>\n",
       "      <td>NaN</td>\n",
       "    </tr>\n",
       "    <tr>\n",
       "      <th>913</th>\n",
       "      <td>Google Play Music, Google Podcasts</td>\n",
       "    </tr>\n",
       "    <tr>\n",
       "      <th>914</th>\n",
       "      <td>NaN</td>\n",
       "    </tr>\n",
       "    <tr>\n",
       "      <th>915</th>\n",
       "      <td>NaN</td>\n",
       "    </tr>\n",
       "  </tbody>\n",
       "</table>\n",
       "<p>916 rows × 1 columns</p>\n",
       "</div>"
      ],
      "text/plain": [
       "                     derived_products_y\n",
       "0                 Google Cloud Platform\n",
       "1                         Google Photos\n",
       "2                                   NaN\n",
       "3                                   NaN\n",
       "4                                   NaN\n",
       "..                                  ...\n",
       "911                                 NaN\n",
       "912                                 NaN\n",
       "913  Google Play Music, Google Podcasts\n",
       "914                                 NaN\n",
       "915                                 NaN\n",
       "\n",
       "[916 rows x 1 columns]"
      ]
     },
     "execution_count": 39,
     "metadata": {},
     "output_type": "execute_result"
    }
   ],
   "source": [
    "derived_products=pd.DataFrame(derived_product)\n",
    "derived_products=derived_products.rename(columns={'derived_products':'derived_products_y'})\n",
    "derived_products"
   ]
  },
  {
   "cell_type": "code",
   "execution_count": 40,
   "id": "d26e341c",
   "metadata": {},
   "outputs": [
    {
     "data": {
      "text/plain": [
       "pandas.core.frame.DataFrame"
      ]
     },
     "execution_count": 40,
     "metadata": {},
     "output_type": "execute_result"
    }
   ],
   "source": [
    "type(derived_products)"
   ]
  },
  {
   "cell_type": "code",
   "execution_count": 41,
   "id": "c4b1697b",
   "metadata": {},
   "outputs": [
    {
     "name": "stdout",
     "output_type": "stream",
     "text": [
      "<class 'pandas.core.frame.DataFrame'>\n",
      "Int64Index: 916 entries, 0 to 915\n",
      "Data columns (total 21 columns):\n",
      " #   Column                Non-Null Count  Dtype  \n",
      "---  ------                --------------  -----  \n",
      " 0   acquisitionid         916 non-null    object \n",
      " 1   acquisitionmonth      910 non-null    object \n",
      " 2   acquisitionmonthdate  883 non-null    float64\n",
      " 3   acquisitionyear       916 non-null    int64  \n",
      " 4   company               916 non-null    object \n",
      " 5   business_x            916 non-null    object \n",
      " 6   country_x             875 non-null    object \n",
      " 7   value_(usd)           256 non-null    float64\n",
      " 8   derived_products      401 non-null    object \n",
      " 9   parentcompany         916 non-null    object \n",
      " 10  parent-acquired       916 non-null    object \n",
      " 11  id                    609 non-null    float64\n",
      " 12  parent_company        609 non-null    object \n",
      " 13  acquisition_year      609 non-null    float64\n",
      " 14  acquisition_month     604 non-null    object \n",
      " 15  acquired_company      609 non-null    object \n",
      " 16  business_y            542 non-null    object \n",
      " 17  country_y             81 non-null     object \n",
      " 18  acquisition_price     157 non-null    float64\n",
      " 19  category              9 non-null      object \n",
      " 20  derived_products_y    211 non-null    object \n",
      "dtypes: float64(5), int64(1), object(15)\n",
      "memory usage: 157.4+ KB\n"
     ]
    }
   ],
   "source": [
    "data_data1merge=pd.concat([data1,derived_products], axis=1)\n",
    "data_data1merge.info()"
   ]
  },
  {
   "cell_type": "code",
   "execution_count": 42,
   "id": "d7efe49f",
   "metadata": {},
   "outputs": [],
   "source": [
    "na_in_derivedproducts_indexes=list(data_data1merge[data_data1merge['derived_products'].isna()==True].index)"
   ]
  },
  {
   "cell_type": "code",
   "execution_count": 43,
   "id": "82e909c3",
   "metadata": {},
   "outputs": [],
   "source": [
    "data_data1merge.iloc[na_in_derivedproducts_indexes,8]=data_data1merge.iloc[na_in_derivedproducts_indexes,20]"
   ]
  },
  {
   "cell_type": "markdown",
   "id": "79c71744",
   "metadata": {},
   "source": []
  },
  {
   "cell_type": "code",
   "execution_count": 44,
   "id": "577abc6b",
   "metadata": {},
   "outputs": [
    {
     "name": "stdout",
     "output_type": "stream",
     "text": [
      "<class 'pandas.core.frame.DataFrame'>\n",
      "Int64Index: 916 entries, 0 to 915\n",
      "Data columns (total 21 columns):\n",
      " #   Column                Non-Null Count  Dtype  \n",
      "---  ------                --------------  -----  \n",
      " 0   acquisitionid         916 non-null    object \n",
      " 1   acquisitionmonth      910 non-null    object \n",
      " 2   acquisitionmonthdate  883 non-null    float64\n",
      " 3   acquisitionyear       916 non-null    int64  \n",
      " 4   company               916 non-null    object \n",
      " 5   business_x            916 non-null    object \n",
      " 6   country_x             875 non-null    object \n",
      " 7   value_(usd)           256 non-null    float64\n",
      " 8   derived_products      402 non-null    object \n",
      " 9   parentcompany         916 non-null    object \n",
      " 10  parent-acquired       916 non-null    object \n",
      " 11  id                    609 non-null    float64\n",
      " 12  parent_company        609 non-null    object \n",
      " 13  acquisition_year      609 non-null    float64\n",
      " 14  acquisition_month     604 non-null    object \n",
      " 15  acquired_company      609 non-null    object \n",
      " 16  business_y            542 non-null    object \n",
      " 17  country_y             81 non-null     object \n",
      " 18  acquisition_price     157 non-null    float64\n",
      " 19  category              9 non-null      object \n",
      " 20  derived_products_y    211 non-null    object \n",
      "dtypes: float64(5), int64(1), object(15)\n",
      "memory usage: 157.4+ KB\n"
     ]
    }
   ],
   "source": [
    "data_data1merge.info()"
   ]
  },
  {
   "cell_type": "code",
   "execution_count": null,
   "id": "eaaf42ea",
   "metadata": {},
   "outputs": [],
   "source": []
  },
  {
   "cell_type": "code",
   "execution_count": 45,
   "id": "40ae2f6b",
   "metadata": {},
   "outputs": [],
   "source": [
    "na_in_acquistionmonth_indexes=list(data_data1merge[data_data1merge['acquisitionmonth'].isna()==True].index)\n",
    "data_data1merge.iloc[na_in_acquistionmonth_indexes,1]=data_data1merge.iloc[na_in_acquistionmonth_indexes,14]"
   ]
  },
  {
   "cell_type": "code",
   "execution_count": 46,
   "id": "679d78f4",
   "metadata": {},
   "outputs": [
    {
     "name": "stdout",
     "output_type": "stream",
     "text": [
      "<class 'pandas.core.frame.DataFrame'>\n",
      "Int64Index: 916 entries, 0 to 915\n",
      "Data columns (total 21 columns):\n",
      " #   Column                Non-Null Count  Dtype  \n",
      "---  ------                --------------  -----  \n",
      " 0   acquisitionid         916 non-null    object \n",
      " 1   acquisitionmonth      910 non-null    object \n",
      " 2   acquisitionmonthdate  883 non-null    float64\n",
      " 3   acquisitionyear       916 non-null    int64  \n",
      " 4   company               916 non-null    object \n",
      " 5   business_x            916 non-null    object \n",
      " 6   country_x             875 non-null    object \n",
      " 7   value_(usd)           256 non-null    float64\n",
      " 8   derived_products      402 non-null    object \n",
      " 9   parentcompany         916 non-null    object \n",
      " 10  parent-acquired       916 non-null    object \n",
      " 11  id                    609 non-null    float64\n",
      " 12  parent_company        609 non-null    object \n",
      " 13  acquisition_year      609 non-null    float64\n",
      " 14  acquisition_month     604 non-null    object \n",
      " 15  acquired_company      609 non-null    object \n",
      " 16  business_y            542 non-null    object \n",
      " 17  country_y             81 non-null     object \n",
      " 18  acquisition_price     157 non-null    float64\n",
      " 19  category              9 non-null      object \n",
      " 20  derived_products_y    211 non-null    object \n",
      "dtypes: float64(5), int64(1), object(15)\n",
      "memory usage: 157.4+ KB\n"
     ]
    }
   ],
   "source": [
    "data_data1merge.info()"
   ]
  },
  {
   "cell_type": "markdown",
   "id": "98504fee",
   "metadata": {},
   "source": [
    "All useful data from the merge operation has been extracted. It is time to drop off the extra redundant columns, clean and rename the retained colums:"
   ]
  },
  {
   "cell_type": "code",
   "execution_count": 47,
   "id": "bb744862",
   "metadata": {},
   "outputs": [],
   "source": [
    "dataprecleaning=data_data1merge.iloc[ : , : 11]"
   ]
  },
  {
   "cell_type": "code",
   "execution_count": 48,
   "id": "22a22c70",
   "metadata": {},
   "outputs": [
    {
     "name": "stdout",
     "output_type": "stream",
     "text": [
      "<class 'pandas.core.frame.DataFrame'>\n",
      "Int64Index: 916 entries, 0 to 915\n",
      "Data columns (total 11 columns):\n",
      " #   Column                Non-Null Count  Dtype  \n",
      "---  ------                --------------  -----  \n",
      " 0   acquisitionid         916 non-null    object \n",
      " 1   acquisitionmonth      910 non-null    object \n",
      " 2   acquisitionmonthdate  883 non-null    float64\n",
      " 3   acquisitionyear       916 non-null    int64  \n",
      " 4   company               916 non-null    object \n",
      " 5   business_x            916 non-null    object \n",
      " 6   country_x             875 non-null    object \n",
      " 7   value_(usd)           256 non-null    float64\n",
      " 8   derived_products      402 non-null    object \n",
      " 9   parentcompany         916 non-null    object \n",
      " 10  parent-acquired       916 non-null    object \n",
      "dtypes: float64(2), int64(1), object(8)\n",
      "memory usage: 85.9+ KB\n"
     ]
    }
   ],
   "source": [
    "dataprecleaning.info()"
   ]
  },
  {
   "cell_type": "code",
   "execution_count": 49,
   "id": "7c413fa2",
   "metadata": {},
   "outputs": [],
   "source": [
    "dataprecleaning=dataprecleaning.rename(columns={'acquisitionid':'acquisition_id','acquisitionmonth':'acquisition_month',\\\n",
    "                                                'acquisitionmonthdate':'acquisition_monthdate','acquisitionyear':'acquisition_year',\\\n",
    "                                                'company':'acquired_company','business_x':'business','country_x':'country',\\\n",
    "                                                'value_(usd)':'acquistion_price(mil_usd)','parentcompany':'acquiring_company'})"
   ]
  },
  {
   "cell_type": "code",
   "execution_count": 50,
   "id": "7d6b3531",
   "metadata": {},
   "outputs": [],
   "source": [
    "dataprecleaning['country']=dataprecleaning['country'].fillna('other')"
   ]
  },
  {
   "cell_type": "code",
   "execution_count": 51,
   "id": "29b7ed82",
   "metadata": {},
   "outputs": [],
   "source": [
    "dataprecleaning['derived_products']=dataprecleaning['derived_products'].fillna('unclear')"
   ]
  },
  {
   "cell_type": "code",
   "execution_count": 52,
   "id": "38f833ef",
   "metadata": {},
   "outputs": [
    {
     "data": {
      "text/plain": [
       "1.0"
      ]
     },
     "execution_count": 52,
     "metadata": {},
     "output_type": "execute_result"
    }
   ],
   "source": [
    "dataprecleaning['acquisition_monthdate'].mode()[0]"
   ]
  },
  {
   "cell_type": "code",
   "execution_count": 53,
   "id": "ec641dcc",
   "metadata": {},
   "outputs": [],
   "source": [
    "dataprecleaning['acquisition_monthdate'] = dataprecleaning['acquisition_monthdate'].fillna(dataprecleaning['acquisition_monthdate'].mode()[0])"
   ]
  },
  {
   "cell_type": "code",
   "execution_count": 54,
   "id": "ef9b88a5",
   "metadata": {},
   "outputs": [
    {
     "data": {
      "text/plain": [
       "0    June\n",
       "Name: acquisition_month, dtype: object"
      ]
     },
     "execution_count": 54,
     "metadata": {},
     "output_type": "execute_result"
    }
   ],
   "source": [
    "dataprecleaning['acquisition_month'].mode()"
   ]
  },
  {
   "cell_type": "code",
   "execution_count": 58,
   "id": "48812e22",
   "metadata": {},
   "outputs": [],
   "source": [
    "dataprecleaning['acquisition_month'] = dataprecleaning['acquisition_month'].fillna(dataprecleaning['acquisition_month'].mode()[0])"
   ]
  },
  {
   "cell_type": "code",
   "execution_count": 59,
   "id": "37b30f91",
   "metadata": {},
   "outputs": [],
   "source": [
    "dataprecleaning['acquistion_price(mil_usd)']=(dataprecleaning['acquistion_price(mil_usd)'])/1000000"
   ]
  },
  {
   "cell_type": "code",
   "execution_count": 60,
   "id": "9c9110d1",
   "metadata": {
    "scrolled": true
   },
   "outputs": [
    {
     "name": "stdout",
     "output_type": "stream",
     "text": [
      "<class 'pandas.core.frame.DataFrame'>\n",
      "Int64Index: 916 entries, 0 to 915\n",
      "Data columns (total 11 columns):\n",
      " #   Column                     Non-Null Count  Dtype  \n",
      "---  ------                     --------------  -----  \n",
      " 0   acquisition_id             916 non-null    object \n",
      " 1   acquisition_month          916 non-null    object \n",
      " 2   acquisition_monthdate      916 non-null    float64\n",
      " 3   acquisition_year           916 non-null    int64  \n",
      " 4   acquired_company           916 non-null    object \n",
      " 5   business                   916 non-null    object \n",
      " 6   country                    916 non-null    object \n",
      " 7   acquistion_price(mil_usd)  256 non-null    float64\n",
      " 8   derived_products           916 non-null    object \n",
      " 9   acquiring_company          916 non-null    object \n",
      " 10  parent-acquired            916 non-null    object \n",
      "dtypes: float64(2), int64(1), object(8)\n",
      "memory usage: 85.9+ KB\n"
     ]
    }
   ],
   "source": [
    "dataprecleaning.info()"
   ]
  },
  {
   "cell_type": "code",
   "execution_count": 61,
   "id": "9d27096c",
   "metadata": {},
   "outputs": [
    {
     "data": {
      "text/plain": [
       "array(['Google', 'IBM', 'Microsoft', 'Apple', 'Facebook', 'Yahoo',\n",
       "       'Twitter'], dtype=object)"
      ]
     },
     "execution_count": 61,
     "metadata": {},
     "output_type": "execute_result"
    }
   ],
   "source": [
    "dataprecleaning['acquiring_company'].unique()"
   ]
  },
  {
   "cell_type": "code",
   "execution_count": 63,
   "id": "153c12ad",
   "metadata": {},
   "outputs": [],
   "source": [
    "data=dataprecleaning.copy()"
   ]
  },
  {
   "cell_type": "code",
   "execution_count": null,
   "id": "b32ee5d0",
   "metadata": {},
   "outputs": [],
   "source": []
  },
  {
   "cell_type": "code",
   "execution_count": 68,
   "id": "ef8af153",
   "metadata": {},
   "outputs": [
    {
     "data": {
      "text/plain": [
       "<AxesSubplot:xlabel='acquisition_year', ylabel='count'>"
      ]
     },
     "execution_count": 68,
     "metadata": {},
     "output_type": "execute_result"
    },
    {
     "data": {
      "image/png": "[encoded data removed]",
      "text/plain": [
       "<Figure size 1440x360 with 1 Axes>"
      ]
     },
     "metadata": {
      "needs_background": "light"
     },
     "output_type": "display_data"
    }
   ],
   "source": [
    "plt.figure(figsize = (20,5))\n",
    "sns.countplot(x='acquisition_year',data=data)"
   ]
  },
  {
   "cell_type": "code",
   "execution_count": 76,
   "id": "8a30e28d",
   "metadata": {},
   "outputs": [
    {
     "data": {
      "text/plain": [
       "<AxesSubplot:title={'center':'acquisition_year'}, xlabel='acquisition_year', ylabel='Count'>"
      ]
     },
     "execution_count": 76,
     "metadata": {},
     "output_type": "execute_result"
    },
    {
     "data": {
      "image/png": "[encoded data removed]",
      "text/plain": [
       "<Figure size 1080x720 with 1 Axes>"
      ]
     },
     "metadata": {
      "needs_background": "light"
     },
     "output_type": "display_data"
    }
   ],
   "source": [
    "plt.figure(figsize=(15,10))\n",
    "plt.title('acquisition_year')\n",
    "sns.histplot(binwidth=0.5, x=\"acquisition_year\", data=data, stat=\"count\", multiple=\"stack\")"
   ]
  },
  {
   "cell_type": "code",
   "execution_count": null,
   "id": "b7750f49",
   "metadata": {},
   "outputs": [],
   "source": []
  }
 ],
 "metadata": {
  "kernelspec": {
   "display_name": "Python 3 (ipykernel)",
   "language": "python",
   "name": "python3"
  },
  "language_info": {
   "codemirror_mode": {
    "name": "ipython",
    "version": 3
   },
   "file_extension": ".py",
   "mimetype": "text/x-python",
   "name": "python",
   "nbconvert_exporter": "python",
   "pygments_lexer": "ipython3",
   "version": "3.9.7"
  },
  "toc": {
   "base_numbering": "",
   "nav_menu": {},
   "number_sections": false,
   "sideBar": true,
   "skip_h1_title": false,
   "title_cell": "Table of Contents",
   "title_sidebar": "Contents",
   "toc_cell": false,
   "toc_position": {
    "height": "calc(100% - 180px)",
    "left": "10px",
    "top": "150px",
    "width": "256px"
   },
   "toc_section_display": true,
   "toc_window_display": false
  }
 },
 "nbformat": 4,
 "nbformat_minor": 5
}
